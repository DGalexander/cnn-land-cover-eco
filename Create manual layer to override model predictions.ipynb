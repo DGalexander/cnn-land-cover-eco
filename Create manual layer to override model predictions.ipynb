{
 "cells": [
  {
   "cell_type": "code",
   "execution_count": 1,
   "metadata": {},
   "outputs": [],
   "source": [
    "## Creating shp file with new F, G, H labels to override model predictions \n",
    "%load_ext autoreload\n",
    "%autoreload 2"
   ]
  },
  {
   "cell_type": "code",
   "execution_count": 2,
   "metadata": {},
   "outputs": [
    {
     "name": "stderr",
     "output_type": "stream",
     "text": [
      "/home/tplas/anaconda3/envs/geo/lib/python3.7/site-packages/geopandas/_compat.py:115: UserWarning: The Shapely GEOS version (3.8.0-CAPI-1.13.1 ) is incompatible with the GEOS version PyGEOS was compiled with (3.10.4-CAPI-1.16.2). Conversions between both will be slow.\n",
      "  shapely_geos_version, geos_capi_version_string\n"
     ]
    }
   ],
   "source": [
    "import os, sys\n",
    "import pickle\n",
    "sys.path.append('scripts/')\n",
    "import numpy as np\n",
    "import matplotlib.pyplot as plt\n",
    "import seaborn as sns\n",
    "import rasterio, rasterio.plot\n",
    "import shapely as shp\n",
    "import xarray as xr\n",
    "import rioxarray as rxr\n",
    "from tqdm import tqdm\n",
    "import pandas as pd\n",
    "import geopandas as gpd\n",
    "import dask_geopandas as dgpd\n",
    "import loadpaths\n",
    "import land_cover_analysis as lca\n",
    "import land_cover_visualisation as lcv\n",
    "import land_cover_models as lcm\n",
    "path_dict = loadpaths.loadpaths()"
   ]
  },
  {
   "attachments": {},
   "cell_type": "markdown",
   "metadata": {},
   "source": [
    "### Test how to merge:"
   ]
  },
  {
   "cell_type": "code",
   "execution_count": 37,
   "metadata": {},
   "outputs": [],
   "source": [
    "pol1 = shp.geometry.Polygon([(0,0), (0,1), (1,1), (1,0)])\n",
    "pol2 = shp.geometry.Polygon([(2,0), (2,1), (2.5,1), (2.5,0)])\n",
    "pol3 = shp.geometry.Polygon([(0.5,0.5), (0.5,1.5), (1.5,1.5), (1.5,0.5)])\n",
    "pol4 = shp.geometry.Polygon([(0,2), (0,4), (1,3), (1,2)])\n",
    "poloutline = shp.geometry.Polygon([(0.25, 0.25), (0.25, 4), (2.5, 4), (2.5, 0.25)])\n",
    "\n",
    "df1 = gpd.GeoDataFrame({'geometry': [pol1, pol2], 'lab': ['A', 'A']})\n",
    "df2 = gpd.GeoDataFrame({'geometry': [pol3, pol4], 'lab': ['C', 'C']})\n",
    "df1 = df1.clip(poloutline)\n",
    "df2 = gpd.clip(df2, poloutline)\n",
    "df3 = gpd.GeoDataFrame({'geometry': [pol1, pol2, pol3, pol4]})"
   ]
  },
  {
   "cell_type": "code",
   "execution_count": 38,
   "metadata": {},
   "outputs": [
    {
     "name": "stdout",
     "output_type": "stream",
     "text": [
      "  lab                                           geometry\n",
      "0   A  POLYGON ((1.00000 0.25000, 0.25000 0.25000, 0....\n",
      "1   A  POLYGON ((2.50000 1.00000, 2.50000 0.25000, 2....\n",
      "2   C  POLYGON ((0.50000 0.50000, 0.50000 1.00000, 0....\n",
      "3   C  POLYGON ((0.25000 2.00000, 0.25000 3.75000, 1....\n"
     ]
    },
    {
     "name": "stderr",
     "output_type": "stream",
     "text": [
      "/home/tplas/anaconda3/envs/geo/lib/python3.7/site-packages/ipykernel_launcher.py:9: FutureWarning: Currently, index_parts defaults to True, but in the future, it will default to False to be consistent with Pandas. Use `index_parts=True` to keep the current behavior and True/False to silence the warning.\n",
      "  if __name__ == \"__main__\":\n"
     ]
    },
    {
     "data": {
      "text/plain": [
       "(0.0, 4.0)"
      ]
     },
     "execution_count": 38,
     "metadata": {},
     "output_type": "execute_result"
    },
    {
     "data": {
      "image/png": "[encoded data removed]",
      "text/plain": [
       "<Figure size 640x480 with 1 Axes>"
      ]
     },
     "metadata": {},
     "output_type": "display_data"
    }
   ],
   "source": [
    "df_unique_1 = gpd.overlay(df1, df2, how='difference')  # Get df1 polygons that are not in df2\n",
    "df_unique_2 = gpd.overlay(df2, df1, how='difference')  # Get df2 polygons that are not in df1\n",
    "df_overlap = gpd.overlay(df1, df2, how='intersection')  # Get overlap between df1 and df2\n",
    "df_overlap['lab'] = df_overlap['lab_2']  # choose label that is to be used for overlap\n",
    "df_overlap = df_overlap.drop(['lab_1', 'lab_2'], axis=1)\n",
    "\n",
    "df_new = gpd.GeoDataFrame(pd.concat([df_unique_1, df_unique_2, df_overlap], ignore_index=True))  # Concatenate all polygons\n",
    "df_new = df_new.dissolve(by='lab', as_index=False)  # Dissolve polygons with same label\n",
    "df_new = df_new.explode().reset_index(drop=True)\n",
    "print(df_new)\n",
    "df_new.plot(column='lab')\n",
    "plt.xlim([0, 3])\n",
    "plt.ylim([0, 4])"
   ]
  },
  {
   "attachments": {},
   "cell_type": "markdown",
   "metadata": {},
   "source": [
    "With this, the iterative plan for multi-layered data is:\n",
    "- Define ranking of layers. Layer-1 is to be on top, then layer-2 etc. \n",
    "- Merge layer 1 and 2, and make sure 1 is on top. \n",
    "- Then merge layer-1/2 and layer-3, and make sure 1/2 is on top. \n",
    "- Continue till all layers are done. "
   ]
  },
  {
   "attachments": {},
   "cell_type": "markdown",
   "metadata": {},
   "source": [
    "## Create layer for overriding model predictions:"
   ]
  },
  {
   "cell_type": "code",
   "execution_count": 3,
   "metadata": {},
   "outputs": [
    {
     "data": {
      "text/html": [
       "<div>\n",
       "<style scoped>\n",
       "    .dataframe tbody tr th:only-of-type {\n",
       "        vertical-align: middle;\n",
       "    }\n",
       "\n",
       "    .dataframe tbody tr th {\n",
       "        vertical-align: top;\n",
       "    }\n",
       "\n",
       "    .dataframe thead th {\n",
       "        text-align: right;\n",
       "    }\n",
       "</style>\n",
       "<table border=\"1\" class=\"dataframe\">\n",
       "  <thead>\n",
       "    <tr style=\"text-align: right;\">\n",
       "      <th></th>\n",
       "      <th>Year</th>\n",
       "      <th>MI_PRINX</th>\n",
       "      <th>geometry</th>\n",
       "    </tr>\n",
       "  </thead>\n",
       "  <tbody>\n",
       "    <tr>\n",
       "      <th>0</th>\n",
       "      <td>2015</td>\n",
       "      <td>2</td>\n",
       "      <td>POLYGON ((432454.300 367391.315, 432454.193 36...</td>\n",
       "    </tr>\n",
       "  </tbody>\n",
       "</table>\n",
       "</div>"
      ],
      "text/plain": [
       "   Year  MI_PRINX                                           geometry\n",
       "0  2015         2  POLYGON ((432454.300 367391.315, 432454.193 36..."
      ]
     },
     "execution_count": 3,
     "metadata": {},
     "output_type": "execute_result"
    }
   ],
   "source": [
    "## Load OS data:\n",
    "\n",
    "dir_gpkg = '/home/tplas/data/gis/os_mastermap/'\n",
    "\n",
    "dict_gpkg_file_names = {'roads': 'trn_fts_roadtrackorpath.gpkg',\n",
    "                        'buildings': 'bld_fts_buildingpart.gpkg',\n",
    "                        'sites': 'lus_fts_site.gpkg',\n",
    "                        'structures': 'str_fts_structure.gpkg',\n",
    "                        'railways': 'trn_fts_rail.gpkg',\n",
    "                        'water': 'wtr_fts_water.gpkg',\n",
    "                        'land': 'lnd_fts_land.gpkg'}  # different OS layers\n",
    "\n",
    "dict_gdfs = {}\n",
    "dict_unique_descriptions = {}\n",
    "\n",
    "for key, value in dict_gpkg_file_names.items():\n",
    "    path_layer = os.path.join(dir_gpkg, value)\n",
    "    dict_gdfs[key] = gpd.read_file(path_layer)\n",
    "    dict_unique_descriptions[key] = dict_gdfs[key]['description'].unique()\n",
    "\n",
    "    ## Assert all geometry types are polygons\n",
    "    set_unique_geom_types = set([type(x) for x in dict_gdfs[key]['geometry']])\n",
    "    for geom_type in set_unique_geom_types:\n",
    "        assert geom_type in [shp.geometry.polygon.Polygon, shp.geometry.multipolygon.MultiPolygon], f'Unexpected geometry type {geom_type} for {key}'\n",
    "\n",
    "## Load PD outline:\n",
    "pol_pd_outline = lca.load_pols(path_dict['pd_outline'])\n",
    "pol_pd_outline"
   ]
  },
  {
   "cell_type": "code",
   "execution_count": 4,
   "metadata": {},
   "outputs": [],
   "source": [
    "## Create mapping dict template (from OS description to LC label)\n",
    "\n",
    "os_to_lc_mapping = {key: {} for key in dict_gdfs.keys()}  # separate dict for each OS layer\n",
    "min_size_dict = {key: None for key in dict_gdfs.keys()}\n",
    "\n",
    "## Roads:\n",
    "road_exceptions = ['Cycle Way', 'Path', 'Path And Steps', 'Track']  # all too minor to be considered transport routes\n",
    "assert (np.isin(road_exceptions, dict_unique_descriptions['roads'])).all(), 'Road exceptions not found in OS data'\n",
    "for descr in dict_unique_descriptions['roads']:\n",
    "    if descr not in road_exceptions:\n",
    "        os_to_lc_mapping['roads'][descr] = 'H1b'\n",
    "\n",
    "# ## Buildings:\n",
    "# for descr in dict_unique_descriptions['buildings']:\n",
    "#     os_to_lc_mapping['buildings'][descr] = 'H1a'\n",
    "## Better to use site layer .. ? [Private Residential Site]\n",
    "\n",
    "## Sites:\n",
    "other_isol_dev_list = ['Fish Farm']\n",
    "skip_dev_list = ['Amenity And Open Space Site', 'Mine', 'Outdoor Activity Centre']\n",
    "assert (np.isin(skip_dev_list, dict_unique_descriptions['sites'])).all(), 'Skip development exceptions not found in OS data'\n",
    "assert (np.isin(other_isol_dev_list, dict_unique_descriptions['sites'])).all(), 'Other isolated development exceptions not found in OS data'\n",
    "for descr in dict_unique_descriptions['sites']:\n",
    "    if descr == 'Farm Site':\n",
    "        os_to_lc_mapping['sites'][descr] = 'H3a'\n",
    "    elif descr in other_isol_dev_list:\n",
    "        os_to_lc_mapping['sites'][descr] = 'H3b' \n",
    "    elif descr == 'Quarry':\n",
    "        os_to_lc_mapping['sites'][descr] = 'H2a'  # some false positives in here! \n",
    "    elif descr in ['Rail Freight Transport' 'Rail Maintenance Site' 'Railway Station']:\n",
    "        os_to_lc_mapping['sites'][descr] = 'H1b'\n",
    "    elif descr in skip_dev_list:\n",
    "        continue\n",
    "    else:\n",
    "        os_to_lc_mapping['sites'][descr] = 'H1a'\n",
    "\n",
    "## Structures \n",
    "## Think we can ignore these; mostly covered by sites for urban staff anyway. otherwise lots of tiny structures that are not relevant.\n",
    "\n",
    "## Railways:\n",
    "for descr in dict_unique_descriptions['railways']:\n",
    "    os_to_lc_mapping['railways'][descr] = 'H1b'\n",
    "\n",
    "## Water:\n",
    "water_exceptions = ['Collects', 'Drain', 'Leat', 'Mill Leat', 'Open Tank Reservoir', 'Open Water Tank', \n",
    "                    'Overflow', 'Paddling Pool', 'Reed Bed For Waste Water', 'Settling Pond', 'Spreads',\n",
    "                    'Spring', 'Swimming Pool', 'Watercourse', 'Waterfall']\n",
    "assert (np.isin(water_exceptions, dict_unique_descriptions['water'])).all(), 'Water exceptions not found in OS data'\n",
    "for descr in dict_unique_descriptions['water']:\n",
    "    os_to_lc_mapping['water'][descr] = 'F2'\n",
    "## Maybe add minimum area threshold for water? \n",
    "min_size_dict['water'] = 1000\n",
    "\n",
    "## Land:\n",
    "rock_list = ['Boulders Or Rock']\n",
    "urban_land_list = ['Made Surface']\n",
    "assert (np.isin(urban_land_list, dict_unique_descriptions['land'])).all(), 'Urban land exceptions not found in OS data'\n",
    "assert (np.isin(rock_list, dict_unique_descriptions['land'])).all(), 'Rock exceptions not found in OS data'\n",
    "for descr in dict_unique_descriptions['land']:\n",
    "    if descr in rock_list:\n",
    "        os_to_lc_mapping['land'][descr] = 'G2'\n",
    "    elif descr in urban_land_list:\n",
    "        os_to_lc_mapping['land'][descr] = 'H3b'\n",
    "\n",
    "\n"
   ]
  },
  {
   "cell_type": "code",
   "execution_count": 13,
   "metadata": {},
   "outputs": [
    {
     "name": "stdout",
     "output_type": "stream",
     "text": [
      "WARNING: getting intersection with PD will take considerably more time. (Minutes instead of seconds)\n",
      "Using 24745/34716 features from roads layer\n"
     ]
    },
    {
     "name": "stderr",
     "output_type": "stream",
     "text": [
      "/home/tplas/anaconda3/envs/geo/lib/python3.7/site-packages/ipykernel_launcher.py:19: FutureWarning: Currently, index_parts defaults to True, but in the future, it will default to False to be consistent with Pandas. Use `index_parts=True` to keep the current behavior and True/False to silence the warning.\n"
     ]
    },
    {
     "name": "stdout",
     "output_type": "stream",
     "text": [
      "Using 0/56423 features from buildings layer\n",
      "Using 19704/19729 features from sites layer\n"
     ]
    },
    {
     "name": "stderr",
     "output_type": "stream",
     "text": [
      "/home/tplas/anaconda3/envs/geo/lib/python3.7/site-packages/ipykernel_launcher.py:19: FutureWarning: Currently, index_parts defaults to True, but in the future, it will default to False to be consistent with Pandas. Use `index_parts=True` to keep the current behavior and True/False to silence the warning.\n",
      "/home/tplas/anaconda3/envs/geo/lib/python3.7/site-packages/ipykernel_launcher.py:19: FutureWarning: Currently, index_parts defaults to True, but in the future, it will default to False to be consistent with Pandas. Use `index_parts=True` to keep the current behavior and True/False to silence the warning.\n"
     ]
    },
    {
     "name": "stdout",
     "output_type": "stream",
     "text": [
      "Using 0/3089 features from structures layer\n",
      "Using 328/328 features from railways layer\n"
     ]
    },
    {
     "name": "stderr",
     "output_type": "stream",
     "text": [
      "/home/tplas/anaconda3/envs/geo/lib/python3.7/site-packages/ipykernel_launcher.py:19: FutureWarning: Currently, index_parts defaults to True, but in the future, it will default to False to be consistent with Pandas. Use `index_parts=True` to keep the current behavior and True/False to silence the warning.\n",
      "/home/tplas/anaconda3/envs/geo/lib/python3.7/site-packages/ipykernel_launcher.py:19: FutureWarning: Currently, index_parts defaults to True, but in the future, it will default to False to be consistent with Pandas. Use `index_parts=True` to keep the current behavior and True/False to silence the warning.\n"
     ]
    },
    {
     "name": "stdout",
     "output_type": "stream",
     "text": [
      "Using 6943/6943 features from water layer\n",
      "    Using 1038 features from water layer after area thresholding\n"
     ]
    },
    {
     "name": "stderr",
     "output_type": "stream",
     "text": [
      "/home/tplas/anaconda3/envs/geo/lib/python3.7/site-packages/ipykernel_launcher.py:19: FutureWarning: Currently, index_parts defaults to True, but in the future, it will default to False to be consistent with Pandas. Use `index_parts=True` to keep the current behavior and True/False to silence the warning.\n"
     ]
    },
    {
     "name": "stdout",
     "output_type": "stream",
     "text": [
      "Using 19968/180798 features from land layer\n"
     ]
    },
    {
     "name": "stderr",
     "output_type": "stream",
     "text": [
      "/home/tplas/anaconda3/envs/geo/lib/python3.7/site-packages/ipykernel_launcher.py:19: FutureWarning: Currently, index_parts defaults to True, but in the future, it will default to False to be consistent with Pandas. Use `index_parts=True` to keep the current behavior and True/False to silence the warning.\n"
     ]
    }
   ],
   "source": [
    "get_intersection_with_pd_outline = True \n",
    "\n",
    "dict_layers = {} \n",
    "if get_intersection_with_pd_outline:\n",
    "    print('WARNING: getting intersection with PD will take considerably more time. (Minutes instead of seconds)')\n",
    "## Loop through different layers & reduce to only features and attrs needed.\n",
    "for it, (key, gdf_layer) in enumerate(dict_gdfs.items()):\n",
    "    inds_use = gdf_layer['description'].isin(os_to_lc_mapping[key].keys())  # only use features with a mapping\n",
    "    print(f'Using {np.sum(inds_use)}/{len(gdf_layer)} features from {key} layer')\n",
    "    tmp_layer = gdf_layer.loc[inds_use, :].copy()\n",
    "    \n",
    "    if min_size_dict[key] is not None:  # apply area threshold if specified\n",
    "        tmp_layer = tmp_layer.loc[tmp_layer['geometry'].area > min_size_dict[key], :]\n",
    "        print(f'    Using {len(tmp_layer)} features from {key} layer after area thresholding')\n",
    "\n",
    "    tmp_layer['lc_label'] = tmp_layer['description'].map(os_to_lc_mapping[key]) # add LC label\n",
    "    \n",
    "    tmp_layer = tmp_layer.drop(columns=[x for x in list(tmp_layer.columns) if x not in ['geometry', 'lc_label']])  # remove all columns that aren't relevant\n",
    "    tmp_layer = tmp_layer.explode().reset_index(drop=True)  # explode multi-polygons into separate polygons\n",
    "    if get_intersection_with_pd_outline:\n",
    "        # tmp_layer = gpd.overlay(tmp_layer, pol_pd_outline, how='intersection')  # get intersection with PD outline\n",
    "        tmp_layer = dgpd.from_geopandas(tmp_layer, npartitions=16)  # use dask geopandas to speed up intersection with lazy parallelization\n",
    "        tmp_layer = tmp_layer.clip(pol_pd_outline).compute()  # get intersection with PD outline\n",
    "        tmp_layer = tmp_layer.sort_index()\n",
    "    dict_layers[key] = tmp_layer.copy()    \n",
    "\n",
    "    "
   ]
  },
  {
   "cell_type": "code",
   "execution_count": 19,
   "metadata": {},
   "outputs": [
    {
     "name": "stdout",
     "output_type": "stream",
     "text": [
      "Layer roads has epsg:27700\n",
      "Layer buildings has epsg:27700\n",
      "Layer sites has epsg:27700\n",
      "Layer structures has epsg:27700\n",
      "Layer railways has epsg:27700\n",
      "Layer water has epsg:27700\n",
      "Layer land has epsg:27700\n"
     ]
    }
   ],
   "source": [
    "for key, val in dict_layers.items():\n",
    "    print(f'Layer {key} has {val.crs}')"
   ]
  },
  {
   "cell_type": "code",
   "execution_count": 26,
   "metadata": {},
   "outputs": [
    {
     "name": "stdout",
     "output_type": "stream",
     "text": [
      "Overlaying water and sites layers\n",
      "CRS: epsg:27700, epsg:27700\n",
      "1\n",
      "2\n",
      "CRS of overlap: epsg:27700\n",
      "CRS: epsg:27700, epsg:27700, epsg:27700\n"
     ]
    },
    {
     "name": "stderr",
     "output_type": "stream",
     "text": [
      "/home/tplas/anaconda3/envs/geo/lib/python3.7/site-packages/ipykernel_launcher.py:24: UserWarning: `keep_geom_type=True` in overlay resulted in 270 dropped geometries of different geometry types than df1 has. Set `keep_geom_type=False` to retain all geometries\n",
      "/home/tplas/anaconda3/envs/geo/lib/python3.7/site-packages/ipykernel_launcher.py:20: UserWarning: CRS mismatch between the CRS of left geometries and the CRS of right geometries.\n",
      "Use `to_crs()` to reproject one of the input geometries to match the CRS of the other.\n",
      "\n",
      "Left CRS: None\n",
      "Right CRS: EPSG:27700\n",
      "\n"
     ]
    },
    {
     "name": "stdout",
     "output_type": "stream",
     "text": [
      "Overlaying railways layer\n",
      "CRS: None, epsg:27700\n",
      "1\n"
     ]
    },
    {
     "name": "stderr",
     "output_type": "stream",
     "text": [
      "/home/tplas/anaconda3/envs/geo/lib/python3.7/site-packages/ipykernel_launcher.py:22: UserWarning: CRS mismatch between the CRS of left geometries and the CRS of right geometries.\n",
      "Use `to_crs()` to reproject one of the input geometries to match the CRS of the other.\n",
      "\n",
      "Left CRS: EPSG:27700\n",
      "Right CRS: None\n",
      "\n"
     ]
    },
    {
     "name": "stdout",
     "output_type": "stream",
     "text": [
      "2\n",
      "CRS of overlap: epsg:27700\n",
      "CRS: None, epsg:27700, epsg:27700\n",
      "Overlaying roads layer\n",
      "CRS: None, epsg:27700\n"
     ]
    },
    {
     "name": "stderr",
     "output_type": "stream",
     "text": [
      "/home/tplas/anaconda3/envs/geo/lib/python3.7/site-packages/ipykernel_launcher.py:24: UserWarning: CRS mismatch between the CRS of left geometries and the CRS of right geometries.\n",
      "Use `to_crs()` to reproject one of the input geometries to match the CRS of the other.\n",
      "\n",
      "Left CRS: None\n",
      "Right CRS: EPSG:27700\n",
      "\n",
      "/home/tplas/anaconda3/envs/geo/lib/python3.7/site-packages/ipykernel_launcher.py:24: UserWarning: `keep_geom_type=True` in overlay resulted in 181 dropped geometries of different geometry types than df1 has. Set `keep_geom_type=False` to retain all geometries\n",
      "/home/tplas/anaconda3/envs/geo/lib/python3.7/site-packages/ipykernel_launcher.py:20: UserWarning: CRS mismatch between the CRS of left geometries and the CRS of right geometries.\n",
      "Use `to_crs()` to reproject one of the input geometries to match the CRS of the other.\n",
      "\n",
      "Left CRS: None\n",
      "Right CRS: EPSG:27700\n",
      "\n"
     ]
    },
    {
     "ename": "KeyboardInterrupt",
     "evalue": "",
     "output_type": "error",
     "traceback": [
      "\u001b[0;31m---------------------------------------------------------------------------\u001b[0m",
      "\u001b[0;31mKeyboardInterrupt\u001b[0m                         Traceback (most recent call last)",
      "\u001b[0;32m/tmp/ipykernel_1407782/1473022444.py\u001b[0m in \u001b[0;36m<module>\u001b[0;34m\u001b[0m\n\u001b[1;32m     18\u001b[0m     \u001b[0mdf2\u001b[0m \u001b[0;34m=\u001b[0m \u001b[0mdict_layers\u001b[0m\u001b[0;34m[\u001b[0m\u001b[0mkey_2\u001b[0m\u001b[0;34m]\u001b[0m\u001b[0;34m\u001b[0m\u001b[0;34m\u001b[0m\u001b[0m\n\u001b[1;32m     19\u001b[0m     \u001b[0mprint\u001b[0m\u001b[0;34m(\u001b[0m\u001b[0;34mf'CRS: {df1.crs}, {df2.crs}'\u001b[0m\u001b[0;34m)\u001b[0m\u001b[0;34m\u001b[0m\u001b[0;34m\u001b[0m\u001b[0m\n\u001b[0;32m---> 20\u001b[0;31m     \u001b[0mdf_unique_1\u001b[0m \u001b[0;34m=\u001b[0m \u001b[0mgpd\u001b[0m\u001b[0;34m.\u001b[0m\u001b[0moverlay\u001b[0m\u001b[0;34m(\u001b[0m\u001b[0mdf1\u001b[0m\u001b[0;34m,\u001b[0m \u001b[0mdf2\u001b[0m\u001b[0;34m,\u001b[0m \u001b[0mhow\u001b[0m\u001b[0;34m=\u001b[0m\u001b[0;34m'difference'\u001b[0m\u001b[0;34m)\u001b[0m  \u001b[0;31m# Get df1 polygons that are not in df2\u001b[0m\u001b[0;34m\u001b[0m\u001b[0;34m\u001b[0m\u001b[0m\n\u001b[0m\u001b[1;32m     21\u001b[0m     \u001b[0mprint\u001b[0m\u001b[0;34m(\u001b[0m\u001b[0;36m1\u001b[0m\u001b[0;34m)\u001b[0m\u001b[0;34m\u001b[0m\u001b[0;34m\u001b[0m\u001b[0m\n\u001b[1;32m     22\u001b[0m     \u001b[0mdf_unique_2\u001b[0m \u001b[0;34m=\u001b[0m \u001b[0mgpd\u001b[0m\u001b[0;34m.\u001b[0m\u001b[0moverlay\u001b[0m\u001b[0;34m(\u001b[0m\u001b[0mdf2\u001b[0m\u001b[0;34m,\u001b[0m \u001b[0mdf1\u001b[0m\u001b[0;34m,\u001b[0m \u001b[0mhow\u001b[0m\u001b[0;34m=\u001b[0m\u001b[0;34m'difference'\u001b[0m\u001b[0;34m)\u001b[0m  \u001b[0;31m# Get df2 polygons that are not in df1\u001b[0m\u001b[0;34m\u001b[0m\u001b[0;34m\u001b[0m\u001b[0m\n",
      "\u001b[0;32m~/anaconda3/envs/geo/lib/python3.7/site-packages/geopandas/tools/overlay.py\u001b[0m in \u001b[0;36moverlay\u001b[0;34m(df1, df2, how, keep_geom_type, make_valid)\u001b[0m\n\u001b[1;32m    313\u001b[0m         \u001b[0mwarnings\u001b[0m\u001b[0;34m.\u001b[0m\u001b[0mfilterwarnings\u001b[0m\u001b[0;34m(\u001b[0m\u001b[0;34m\"ignore\"\u001b[0m\u001b[0;34m,\u001b[0m \u001b[0mmessage\u001b[0m\u001b[0;34m=\u001b[0m\u001b[0;34m\"CRS mismatch between the CRS\"\u001b[0m\u001b[0;34m)\u001b[0m\u001b[0;34m\u001b[0m\u001b[0;34m\u001b[0m\u001b[0m\n\u001b[1;32m    314\u001b[0m         \u001b[0;32mif\u001b[0m \u001b[0mhow\u001b[0m \u001b[0;34m==\u001b[0m \u001b[0;34m\"difference\"\u001b[0m\u001b[0;34m:\u001b[0m\u001b[0;34m\u001b[0m\u001b[0;34m\u001b[0m\u001b[0m\n\u001b[0;32m--> 315\u001b[0;31m             \u001b[0mresult\u001b[0m \u001b[0;34m=\u001b[0m \u001b[0m_overlay_difference\u001b[0m\u001b[0;34m(\u001b[0m\u001b[0mdf1\u001b[0m\u001b[0;34m,\u001b[0m \u001b[0mdf2\u001b[0m\u001b[0;34m)\u001b[0m\u001b[0;34m\u001b[0m\u001b[0;34m\u001b[0m\u001b[0m\n\u001b[0m\u001b[1;32m    316\u001b[0m         \u001b[0;32melif\u001b[0m \u001b[0mhow\u001b[0m \u001b[0;34m==\u001b[0m \u001b[0;34m\"intersection\"\u001b[0m\u001b[0;34m:\u001b[0m\u001b[0;34m\u001b[0m\u001b[0;34m\u001b[0m\u001b[0m\n\u001b[1;32m    317\u001b[0m             \u001b[0mresult\u001b[0m \u001b[0;34m=\u001b[0m \u001b[0m_overlay_intersection\u001b[0m\u001b[0;34m(\u001b[0m\u001b[0mdf1\u001b[0m\u001b[0;34m,\u001b[0m \u001b[0mdf2\u001b[0m\u001b[0;34m)\u001b[0m\u001b[0;34m\u001b[0m\u001b[0;34m\u001b[0m\u001b[0m\n",
      "\u001b[0;32m~/anaconda3/envs/geo/lib/python3.7/site-packages/geopandas/tools/overlay.py\u001b[0m in \u001b[0;36m_overlay_difference\u001b[0;34m(df1, df2)\u001b[0m\n\u001b[1;32m     89\u001b[0m     \u001b[0;32mfor\u001b[0m \u001b[0mgeom\u001b[0m\u001b[0;34m,\u001b[0m \u001b[0mneighbours\u001b[0m \u001b[0;32min\u001b[0m \u001b[0mzip\u001b[0m\u001b[0;34m(\u001b[0m\u001b[0mdf1\u001b[0m\u001b[0;34m.\u001b[0m\u001b[0mgeometry\u001b[0m\u001b[0;34m,\u001b[0m \u001b[0msidx\u001b[0m\u001b[0;34m)\u001b[0m\u001b[0;34m:\u001b[0m\u001b[0;34m\u001b[0m\u001b[0;34m\u001b[0m\u001b[0m\n\u001b[1;32m     90\u001b[0m         new = reduce(\n\u001b[0;32m---> 91\u001b[0;31m             \u001b[0;32mlambda\u001b[0m \u001b[0mx\u001b[0m\u001b[0;34m,\u001b[0m \u001b[0my\u001b[0m\u001b[0;34m:\u001b[0m \u001b[0mx\u001b[0m\u001b[0;34m.\u001b[0m\u001b[0mdifference\u001b[0m\u001b[0;34m(\u001b[0m\u001b[0my\u001b[0m\u001b[0;34m)\u001b[0m\u001b[0;34m,\u001b[0m \u001b[0;34m[\u001b[0m\u001b[0mgeom\u001b[0m\u001b[0;34m]\u001b[0m \u001b[0;34m+\u001b[0m \u001b[0mlist\u001b[0m\u001b[0;34m(\u001b[0m\u001b[0mdf2\u001b[0m\u001b[0;34m.\u001b[0m\u001b[0mgeometry\u001b[0m\u001b[0;34m.\u001b[0m\u001b[0miloc\u001b[0m\u001b[0;34m[\u001b[0m\u001b[0mneighbours\u001b[0m\u001b[0;34m]\u001b[0m\u001b[0;34m)\u001b[0m\u001b[0;34m\u001b[0m\u001b[0;34m\u001b[0m\u001b[0m\n\u001b[0m\u001b[1;32m     92\u001b[0m         )\n\u001b[1;32m     93\u001b[0m         \u001b[0mnew_g\u001b[0m\u001b[0;34m.\u001b[0m\u001b[0mappend\u001b[0m\u001b[0;34m(\u001b[0m\u001b[0mnew\u001b[0m\u001b[0;34m)\u001b[0m\u001b[0;34m\u001b[0m\u001b[0;34m\u001b[0m\u001b[0m\n",
      "\u001b[0;32m~/anaconda3/envs/geo/lib/python3.7/site-packages/geopandas/tools/overlay.py\u001b[0m in \u001b[0;36m<lambda>\u001b[0;34m(x, y)\u001b[0m\n\u001b[1;32m     89\u001b[0m     \u001b[0;32mfor\u001b[0m \u001b[0mgeom\u001b[0m\u001b[0;34m,\u001b[0m \u001b[0mneighbours\u001b[0m \u001b[0;32min\u001b[0m \u001b[0mzip\u001b[0m\u001b[0;34m(\u001b[0m\u001b[0mdf1\u001b[0m\u001b[0;34m.\u001b[0m\u001b[0mgeometry\u001b[0m\u001b[0;34m,\u001b[0m \u001b[0msidx\u001b[0m\u001b[0;34m)\u001b[0m\u001b[0;34m:\u001b[0m\u001b[0;34m\u001b[0m\u001b[0;34m\u001b[0m\u001b[0m\n\u001b[1;32m     90\u001b[0m         new = reduce(\n\u001b[0;32m---> 91\u001b[0;31m             \u001b[0;32mlambda\u001b[0m \u001b[0mx\u001b[0m\u001b[0;34m,\u001b[0m \u001b[0my\u001b[0m\u001b[0;34m:\u001b[0m \u001b[0mx\u001b[0m\u001b[0;34m.\u001b[0m\u001b[0mdifference\u001b[0m\u001b[0;34m(\u001b[0m\u001b[0my\u001b[0m\u001b[0;34m)\u001b[0m\u001b[0;34m,\u001b[0m \u001b[0;34m[\u001b[0m\u001b[0mgeom\u001b[0m\u001b[0;34m]\u001b[0m \u001b[0;34m+\u001b[0m \u001b[0mlist\u001b[0m\u001b[0;34m(\u001b[0m\u001b[0mdf2\u001b[0m\u001b[0;34m.\u001b[0m\u001b[0mgeometry\u001b[0m\u001b[0;34m.\u001b[0m\u001b[0miloc\u001b[0m\u001b[0;34m[\u001b[0m\u001b[0mneighbours\u001b[0m\u001b[0;34m]\u001b[0m\u001b[0;34m)\u001b[0m\u001b[0;34m\u001b[0m\u001b[0;34m\u001b[0m\u001b[0m\n\u001b[0m\u001b[1;32m     92\u001b[0m         )\n\u001b[1;32m     93\u001b[0m         \u001b[0mnew_g\u001b[0m\u001b[0;34m.\u001b[0m\u001b[0mappend\u001b[0m\u001b[0;34m(\u001b[0m\u001b[0mnew\u001b[0m\u001b[0;34m)\u001b[0m\u001b[0;34m\u001b[0m\u001b[0;34m\u001b[0m\u001b[0m\n",
      "\u001b[0;32m~/anaconda3/envs/geo/lib/python3.7/site-packages/shapely/geometry/base.py\u001b[0m in \u001b[0;36mdifference\u001b[0;34m(self, other)\u001b[0m\n\u001b[1;32m    687\u001b[0m     \u001b[0;32mdef\u001b[0m \u001b[0mdifference\u001b[0m\u001b[0;34m(\u001b[0m\u001b[0mself\u001b[0m\u001b[0;34m,\u001b[0m \u001b[0mother\u001b[0m\u001b[0;34m)\u001b[0m\u001b[0;34m:\u001b[0m\u001b[0;34m\u001b[0m\u001b[0;34m\u001b[0m\u001b[0m\n\u001b[1;32m    688\u001b[0m         \u001b[0;34m\"\"\"Returns the difference of the geometries\"\"\"\u001b[0m\u001b[0;34m\u001b[0m\u001b[0;34m\u001b[0m\u001b[0m\n\u001b[0;32m--> 689\u001b[0;31m         \u001b[0;32mreturn\u001b[0m \u001b[0mgeom_factory\u001b[0m\u001b[0;34m(\u001b[0m\u001b[0mself\u001b[0m\u001b[0;34m.\u001b[0m\u001b[0mimpl\u001b[0m\u001b[0;34m[\u001b[0m\u001b[0;34m'difference'\u001b[0m\u001b[0;34m]\u001b[0m\u001b[0;34m(\u001b[0m\u001b[0mself\u001b[0m\u001b[0;34m,\u001b[0m \u001b[0mother\u001b[0m\u001b[0;34m)\u001b[0m\u001b[0;34m)\u001b[0m\u001b[0;34m\u001b[0m\u001b[0;34m\u001b[0m\u001b[0m\n\u001b[0m\u001b[1;32m    690\u001b[0m \u001b[0;34m\u001b[0m\u001b[0m\n\u001b[1;32m    691\u001b[0m     \u001b[0;32mdef\u001b[0m \u001b[0mintersection\u001b[0m\u001b[0;34m(\u001b[0m\u001b[0mself\u001b[0m\u001b[0;34m,\u001b[0m \u001b[0mother\u001b[0m\u001b[0;34m)\u001b[0m\u001b[0;34m:\u001b[0m\u001b[0;34m\u001b[0m\u001b[0;34m\u001b[0m\u001b[0m\n",
      "\u001b[0;32m~/anaconda3/envs/geo/lib/python3.7/site-packages/shapely/topology.py\u001b[0m in \u001b[0;36m__call__\u001b[0;34m(self, this, other, *args)\u001b[0m\n\u001b[1;32m     67\u001b[0m         \u001b[0mself\u001b[0m\u001b[0;34m.\u001b[0m\u001b[0m_validate\u001b[0m\u001b[0;34m(\u001b[0m\u001b[0mthis\u001b[0m\u001b[0;34m)\u001b[0m\u001b[0;34m\u001b[0m\u001b[0;34m\u001b[0m\u001b[0m\n\u001b[1;32m     68\u001b[0m         \u001b[0mself\u001b[0m\u001b[0;34m.\u001b[0m\u001b[0m_validate\u001b[0m\u001b[0;34m(\u001b[0m\u001b[0mother\u001b[0m\u001b[0;34m,\u001b[0m \u001b[0mstop_prepared\u001b[0m\u001b[0;34m=\u001b[0m\u001b[0;32mTrue\u001b[0m\u001b[0;34m)\u001b[0m\u001b[0;34m\u001b[0m\u001b[0;34m\u001b[0m\u001b[0m\n\u001b[0;32m---> 69\u001b[0;31m         \u001b[0mproduct\u001b[0m \u001b[0;34m=\u001b[0m \u001b[0mself\u001b[0m\u001b[0;34m.\u001b[0m\u001b[0mfn\u001b[0m\u001b[0;34m(\u001b[0m\u001b[0mthis\u001b[0m\u001b[0;34m.\u001b[0m\u001b[0m_geom\u001b[0m\u001b[0;34m,\u001b[0m \u001b[0mother\u001b[0m\u001b[0;34m.\u001b[0m\u001b[0m_geom\u001b[0m\u001b[0;34m,\u001b[0m \u001b[0;34m*\u001b[0m\u001b[0margs\u001b[0m\u001b[0;34m)\u001b[0m\u001b[0;34m\u001b[0m\u001b[0;34m\u001b[0m\u001b[0m\n\u001b[0m\u001b[1;32m     70\u001b[0m         \u001b[0;32mif\u001b[0m \u001b[0mproduct\u001b[0m \u001b[0;32mis\u001b[0m \u001b[0;32mNone\u001b[0m\u001b[0;34m:\u001b[0m\u001b[0;34m\u001b[0m\u001b[0;34m\u001b[0m\u001b[0m\n\u001b[1;32m     71\u001b[0m             err = TopologicalError(\n",
      "\u001b[0;31mKeyboardInterrupt\u001b[0m: "
     ]
    }
   ],
   "source": [
    "dissolve_polygons = False\n",
    "\n",
    "ranking_keys = ['water', 'sites', 'railways','roads', 'land']\n",
    "n_keys = len(ranking_keys)\n",
    "df_new = None \n",
    "if dissolve_polygons:\n",
    "    print('WARNING: dissolving polygons takes considerably more time (hours instead of minutes).')\n",
    "for i_rank in range(n_keys - 1):\n",
    "    key_1 = ranking_keys[i_rank]\n",
    "    key_2 = ranking_keys[i_rank + 1]\n",
    "\n",
    "    if df_new is None:\n",
    "        print(f'Overlaying {key_1} and {key_2} layers')\n",
    "        df1 = dict_layers[key_1]\n",
    "    else:\n",
    "        print(f'Overlaying {key_2} layer')\n",
    "        df1 = df_new\n",
    "    df2 = dict_layers[key_2]\n",
    "    # print(f'CRS: {df1.crs}, {df2.crs}')\n",
    "    df_unique_1 = gpd.overlay(df1, df2, how='difference')  # Get df1 polygons that are not in df2\n",
    "    df_unique_2 = gpd.overlay(df2, df1, how='difference')  # Get df2 polygons that are not in df1\n",
    "\n",
    "    ## The line below throws the CRS warning message, not sure why because CRS is specified for both df1 and df2\n",
    "    df_overlap = gpd.overlay(df1, df2, how='intersection')  # Get overlap between df1 and df2\n",
    "    # print(f'CRS of overlap: {df_overlap.crs}')\n",
    "    df_overlap['lc_label'] = df_overlap['lc_label_1']  # choose label that is to be used for overlap\n",
    "    df_overlap = df_overlap.drop(['lc_label_1', 'lc_label_2'], axis=1)\n",
    "    # print(f'CRS: {df_unique_1.crs}, {df_unique_2.crs}, {df_overlap.crs}')\n",
    "    df_new = gpd.GeoDataFrame(pd.concat([df_unique_1, df_unique_2, df_overlap], ignore_index=True))  # Concatenate all polygons\n",
    "    if dissolve_polygons:\n",
    "        df_new = df_new.dissolve(by='lc_label', as_index=False)  # Dissolve polygons with same label\n",
    "        df_new = df_new.explode().reset_index(drop=True)  # explode multi-polygons into separate polygons"
   ]
  },
  {
   "cell_type": "code",
   "execution_count": 15,
   "metadata": {},
   "outputs": [
    {
     "data": {
      "text/html": [
       "<div>\n",
       "<style scoped>\n",
       "    .dataframe tbody tr th:only-of-type {\n",
       "        vertical-align: middle;\n",
       "    }\n",
       "\n",
       "    .dataframe tbody tr th {\n",
       "        vertical-align: top;\n",
       "    }\n",
       "\n",
       "    .dataframe thead th {\n",
       "        text-align: right;\n",
       "    }\n",
       "</style>\n",
       "<table border=\"1\" class=\"dataframe\">\n",
       "  <thead>\n",
       "    <tr style=\"text-align: right;\">\n",
       "      <th></th>\n",
       "      <th>lc_label</th>\n",
       "      <th>geometry</th>\n",
       "    </tr>\n",
       "  </thead>\n",
       "  <tbody>\n",
       "    <tr>\n",
       "      <th>0</th>\n",
       "      <td>F2</td>\n",
       "      <td>POLYGON ((404838.800 394824.200, 404839.750 39...</td>\n",
       "    </tr>\n",
       "    <tr>\n",
       "      <th>1</th>\n",
       "      <td>F2</td>\n",
       "      <td>POLYGON ((398619.630 369739.780, 398618.700 36...</td>\n",
       "    </tr>\n",
       "    <tr>\n",
       "      <th>2</th>\n",
       "      <td>F2</td>\n",
       "      <td>POLYGON ((425538.300 365733.680, 425530.470 36...</td>\n",
       "    </tr>\n",
       "    <tr>\n",
       "      <th>3</th>\n",
       "      <td>F2</td>\n",
       "      <td>POLYGON ((425415.000 386836.000, 425519.840 38...</td>\n",
       "    </tr>\n",
       "    <tr>\n",
       "      <th>4</th>\n",
       "      <td>F2</td>\n",
       "      <td>POLYGON ((395084.690 378521.910, 395085.100 37...</td>\n",
       "    </tr>\n",
       "    <tr>\n",
       "      <th>...</th>\n",
       "      <td>...</td>\n",
       "      <td>...</td>\n",
       "    </tr>\n",
       "    <tr>\n",
       "      <th>65716</th>\n",
       "      <td>H1a</td>\n",
       "      <td>POLYGON ((411390.350 379236.020, 411382.160 37...</td>\n",
       "    </tr>\n",
       "    <tr>\n",
       "      <th>65717</th>\n",
       "      <td>H1a</td>\n",
       "      <td>POLYGON ((415481.918 359114.248, 415482.100 35...</td>\n",
       "    </tr>\n",
       "    <tr>\n",
       "      <th>65718</th>\n",
       "      <td>H1a</td>\n",
       "      <td>POLYGON ((424506.230 377811.880, 424509.950 37...</td>\n",
       "    </tr>\n",
       "    <tr>\n",
       "      <th>65719</th>\n",
       "      <td>H1a</td>\n",
       "      <td>POLYGON ((406646.400 355270.390, 406646.470 35...</td>\n",
       "    </tr>\n",
       "    <tr>\n",
       "      <th>65720</th>\n",
       "      <td>H1a</td>\n",
       "      <td>POLYGON ((409065.950 380712.170, 409067.100 38...</td>\n",
       "    </tr>\n",
       "  </tbody>\n",
       "</table>\n",
       "<p>65721 rows × 2 columns</p>\n",
       "</div>"
      ],
      "text/plain": [
       "      lc_label                                           geometry\n",
       "0           F2  POLYGON ((404838.800 394824.200, 404839.750 39...\n",
       "1           F2  POLYGON ((398619.630 369739.780, 398618.700 36...\n",
       "2           F2  POLYGON ((425538.300 365733.680, 425530.470 36...\n",
       "3           F2  POLYGON ((425415.000 386836.000, 425519.840 38...\n",
       "4           F2  POLYGON ((395084.690 378521.910, 395085.100 37...\n",
       "...        ...                                                ...\n",
       "65716      H1a  POLYGON ((411390.350 379236.020, 411382.160 37...\n",
       "65717      H1a  POLYGON ((415481.918 359114.248, 415482.100 35...\n",
       "65718      H1a  POLYGON ((424506.230 377811.880, 424509.950 37...\n",
       "65719      H1a  POLYGON ((406646.400 355270.390, 406646.470 35...\n",
       "65720      H1a  POLYGON ((409065.950 380712.170, 409067.100 38...\n",
       "\n",
       "[65721 rows x 2 columns]"
      ]
     },
     "execution_count": 15,
     "metadata": {},
     "output_type": "execute_result"
    }
   ],
   "source": [
    "df_new"
   ]
  },
  {
   "cell_type": "code",
   "execution_count": 16,
   "metadata": {},
   "outputs": [],
   "source": [
    "df_new.to_file('tmp_fgh_layer/tmp_fgh_layer.shp')"
   ]
  },
  {
   "cell_type": "code",
   "execution_count": 50,
   "metadata": {},
   "outputs": [
    {
     "data": {
      "text/html": [
       "<div>\n",
       "<style scoped>\n",
       "    .dataframe tbody tr th:only-of-type {\n",
       "        vertical-align: middle;\n",
       "    }\n",
       "\n",
       "    .dataframe tbody tr th {\n",
       "        vertical-align: top;\n",
       "    }\n",
       "\n",
       "    .dataframe thead th {\n",
       "        text-align: right;\n",
       "    }\n",
       "</style>\n",
       "<table border=\"1\" class=\"dataframe\">\n",
       "  <thead>\n",
       "    <tr style=\"text-align: right;\">\n",
       "      <th></th>\n",
       "      <th>lc_label</th>\n",
       "      <th>geometry</th>\n",
       "      <th>area</th>\n",
       "    </tr>\n",
       "  </thead>\n",
       "  <tbody>\n",
       "    <tr>\n",
       "      <th>0</th>\n",
       "      <td>F2</td>\n",
       "      <td>POLYGON ((430090.247 371405.195, 430088.237 37...</td>\n",
       "      <td>293.562451</td>\n",
       "    </tr>\n",
       "    <tr>\n",
       "      <th>1</th>\n",
       "      <td>F2</td>\n",
       "      <td>POLYGON ((403069.370 391533.510, 403067.970 39...</td>\n",
       "      <td>182.146900</td>\n",
       "    </tr>\n",
       "    <tr>\n",
       "      <th>2</th>\n",
       "      <td>F2</td>\n",
       "      <td>POLYGON ((402046.000 408190.000, 402048.000 40...</td>\n",
       "      <td>384.000000</td>\n",
       "    </tr>\n",
       "    <tr>\n",
       "      <th>3</th>\n",
       "      <td>F2</td>\n",
       "      <td>POLYGON ((424774.520 391773.960, 424781.550 39...</td>\n",
       "      <td>484.208850</td>\n",
       "    </tr>\n",
       "    <tr>\n",
       "      <th>4</th>\n",
       "      <td>F2</td>\n",
       "      <td>POLYGON ((412532.430 356725.080, 412532.370 35...</td>\n",
       "      <td>456.041450</td>\n",
       "    </tr>\n",
       "    <tr>\n",
       "      <th>...</th>\n",
       "      <td>...</td>\n",
       "      <td>...</td>\n",
       "      <td>...</td>\n",
       "    </tr>\n",
       "    <tr>\n",
       "      <th>3677</th>\n",
       "      <td>F2</td>\n",
       "      <td>POLYGON ((427756.392 377203.388, 427755.003 37...</td>\n",
       "      <td>110.303759</td>\n",
       "    </tr>\n",
       "    <tr>\n",
       "      <th>3678</th>\n",
       "      <td>F2</td>\n",
       "      <td>POLYGON ((411642.470 405183.850, 411641.300 40...</td>\n",
       "      <td>268.579503</td>\n",
       "    </tr>\n",
       "    <tr>\n",
       "      <th>3679</th>\n",
       "      <td>F2</td>\n",
       "      <td>POLYGON ((406118.010 387833.540, 406118.370 38...</td>\n",
       "      <td>178419.801360</td>\n",
       "    </tr>\n",
       "    <tr>\n",
       "      <th>3680</th>\n",
       "      <td>F2</td>\n",
       "      <td>POLYGON ((401187.500 373962.500, 401187.000 37...</td>\n",
       "      <td>20648.038750</td>\n",
       "    </tr>\n",
       "    <tr>\n",
       "      <th>3681</th>\n",
       "      <td>F2</td>\n",
       "      <td>POLYGON ((418207.490 400953.100, 418206.020 40...</td>\n",
       "      <td>1053.240141</td>\n",
       "    </tr>\n",
       "  </tbody>\n",
       "</table>\n",
       "<p>3682 rows × 3 columns</p>\n",
       "</div>"
      ],
      "text/plain": [
       "     lc_label                                           geometry  \\\n",
       "0          F2  POLYGON ((430090.247 371405.195, 430088.237 37...   \n",
       "1          F2  POLYGON ((403069.370 391533.510, 403067.970 39...   \n",
       "2          F2  POLYGON ((402046.000 408190.000, 402048.000 40...   \n",
       "3          F2  POLYGON ((424774.520 391773.960, 424781.550 39...   \n",
       "4          F2  POLYGON ((412532.430 356725.080, 412532.370 35...   \n",
       "...       ...                                                ...   \n",
       "3677       F2  POLYGON ((427756.392 377203.388, 427755.003 37...   \n",
       "3678       F2  POLYGON ((411642.470 405183.850, 411641.300 40...   \n",
       "3679       F2  POLYGON ((406118.010 387833.540, 406118.370 38...   \n",
       "3680       F2  POLYGON ((401187.500 373962.500, 401187.000 37...   \n",
       "3681       F2  POLYGON ((418207.490 400953.100, 418206.020 40...   \n",
       "\n",
       "               area  \n",
       "0        293.562451  \n",
       "1        182.146900  \n",
       "2        384.000000  \n",
       "3        484.208850  \n",
       "4        456.041450  \n",
       "...             ...  \n",
       "3677     110.303759  \n",
       "3678     268.579503  \n",
       "3679  178419.801360  \n",
       "3680   20648.038750  \n",
       "3681    1053.240141  \n",
       "\n",
       "[3682 rows x 3 columns]"
      ]
     },
     "execution_count": 50,
     "metadata": {},
     "output_type": "execute_result"
    }
   ],
   "source": [
    "dict_layers['water']"
   ]
  },
  {
   "attachments": {},
   "cell_type": "markdown",
   "metadata": {},
   "source": [
    "## Overriding model predictions with this layer:"
   ]
  },
  {
   "cell_type": "code",
   "execution_count": 42,
   "metadata": {},
   "outputs": [],
   "source": [
    "## It's straightforward in principle, but I just expect the runtime to be quite long..\n",
    "## But it's the same procedure as used above when merging layers: just take the difference (pred - FGH) and then add FGH\n",
    "## Will see if it can be sped up somehow, maybe using dask-geopandas?\n",
    "\n",
    "## Other todo;s\n",
    "## "
   ]
  },
  {
   "cell_type": "code",
   "execution_count": null,
   "metadata": {},
   "outputs": [],
   "source": []
  },
  {
   "attachments": {},
   "cell_type": "markdown",
   "metadata": {},
   "source": [
    "## Print OS label names:"
   ]
  },
  {
   "cell_type": "code",
   "execution_count": 53,
   "metadata": {},
   "outputs": [
    {
     "name": "stdout",
     "output_type": "stream",
     "text": [
      "land 73\n",
      "['Arable Or Grazing Land' 'Bare Earth Or Grass' 'Boulders Or Rock'\n",
      " 'Boulders Or Rock And Heath Or Rough Grassland'\n",
      " 'Boulders Or Rock And Heath Or Rough Grassland And Marsh'\n",
      " 'Boulders Or Rock And Heath Or Rough Grassland And Scattered Coniferous Trees'\n",
      " 'Boulders Or Rock And Heath Or Rough Grassland And Scattered Non-Coniferous Trees'\n",
      " 'Boulders Or Rock And Heath Or Rough Grassland Or Marsh'\n",
      " 'Boulders Or Rock And Scattered Mixed Trees'\n",
      " 'Boulders Or Rock And Scattered Non-Coniferous Trees' 'Coniferous Trees'\n",
      " 'Coniferous Trees And Scattered Boulders Or Scattered Rock'\n",
      " 'Coniferous Trees And Scattered Boulders Or Scattered Rock And Scrub'\n",
      " 'Coniferous Trees And Scrub' 'Construction Site' 'Gallops' 'Games Court'\n",
      " 'Heath' 'Heath Or Rough Grassland' 'Heath Or Rough Grassland And Marsh'\n",
      " 'Heath Or Rough Grassland And Marsh And Scattered Coniferous Trees'\n",
      " 'Heath Or Rough Grassland And Marsh And Scattered Non-Coniferous Trees'\n",
      " 'Heath Or Rough Grassland And Marsh And Scrub'\n",
      " 'Heath Or Rough Grassland And Scattered Boulders Or Scattered Rock'\n",
      " 'Heath Or Rough Grassland And Scattered Boulders Or Scattered Rock And Scrub'\n",
      " 'Heath Or Rough Grassland And Scattered Coniferous Trees'\n",
      " 'Heath Or Rough Grassland And Scattered Coniferous Trees And Scrub'\n",
      " 'Heath Or Rough Grassland And Scattered Mixed Trees'\n",
      " 'Heath Or Rough Grassland And Scattered Mixed Trees And Scrub'\n",
      " 'Heath Or Rough Grassland And Scattered Non-Coniferous Trees'\n",
      " 'Heath Or Rough Grassland And Scattered Non-Coniferous Trees And Scrub'\n",
      " 'Heath Or Rough Grassland And Scattered Rock'\n",
      " 'Heath Or Rough Grassland And Scattered Rock And Scrub'\n",
      " 'Heath Or Rough Grassland And Scrub' 'Helipad' 'Landfill' 'Livestock Pen'\n",
      " 'Made Surface' 'Marsh' 'Marsh And Non-Coniferous Trees'\n",
      " 'Marsh And Non-Coniferous Trees And Scrub' 'Marsh And Scrub'\n",
      " 'Mixed Trees' 'Mixed Trees And Scattered Boulders Or Scattered Rock'\n",
      " 'Mixed Trees And Scattered Boulders Or Scattered Rock And Scrub'\n",
      " 'Mixed Trees And Scrub' 'Non-Coniferous Trees'\n",
      " 'Non-Coniferous Trees And Scattered Boulders Or Scattered Rock'\n",
      " 'Non-Coniferous Trees And Scattered Boulders Or Scattered Rock And Scrub'\n",
      " 'Non-Coniferous Trees And Scrub' 'Orchard' 'Quarry' 'Residential Garden'\n",
      " 'Sand Or Shingle' 'Scattered Boulders Or Scattered Rock'\n",
      " 'Scattered Boulders Or Scattered Rock And Scattered Mixed Trees And Scrub'\n",
      " 'Scattered Boulders Or Scattered Rock And Scattered Non-Coniferous Trees And Scrub'\n",
      " 'Scattered Boulders Or Scattered Rock And Scrub'\n",
      " 'Scattered Coniferous Trees' 'Scattered Coniferous Trees And Scrub'\n",
      " 'Scattered Mixed Trees' 'Scattered Mixed Trees And Scrub'\n",
      " 'Scattered Non-Coniferous Trees'\n",
      " 'Scattered Non-Coniferous Trees And Scrub' 'Scree' 'Scrub' 'Slipway'\n",
      " 'Sloping Masonry' 'Slurry Bed' 'Spoil Heap' 'Steps' 'Target'\n",
      " 'Tennis Court']\n",
      "\n",
      "\n",
      "\n"
     ]
    }
   ],
   "source": [
    "for key, descr_list in dict_unique_descriptions.items():\n",
    "    if key == 'land':\n",
    "        print(key, len(descr_list))\n",
    "        print(np.sort(descr_list))\n",
    "        print('\\n\\n')"
   ]
  }
 ],
 "metadata": {
  "kernelspec": {
   "display_name": "geo",
   "language": "python",
   "name": "python3"
  },
  "language_info": {
   "codemirror_mode": {
    "name": "ipython",
    "version": 3
   },
   "file_extension": ".py",
   "mimetype": "text/x-python",
   "name": "python",
   "nbconvert_exporter": "python",
   "pygments_lexer": "ipython3",
   "version": "3.7.13"
  },
  "orig_nbformat": 4,
  "vscode": {
   "interpreter": {
    "hash": "fff134636c4dc08640ae6a35698a477c72623cae97fdeaa639b1241267bdf5e9"
   }
  }
 },
 "nbformat": 4,
 "nbformat_minor": 2
}
