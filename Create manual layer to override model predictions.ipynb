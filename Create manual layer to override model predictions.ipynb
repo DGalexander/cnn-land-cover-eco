{
 "cells": [
  {
   "cell_type": "code",
   "execution_count": 13,
   "metadata": {},
   "outputs": [
    {
     "name": "stdout",
     "output_type": "stream",
     "text": [
      "The autoreload extension is already loaded. To reload it, use:\n",
      "  %reload_ext autoreload\n"
     ]
    }
   ],
   "source": [
    "## Creating shp file with new F, G, H labels to override model predictions \n",
    "%load_ext autoreload\n",
    "%autoreload 2"
   ]
  },
  {
   "cell_type": "code",
   "execution_count": 15,
   "metadata": {},
   "outputs": [],
   "source": [
    "import os, sys\n",
    "import pickle\n",
    "sys.path.append('scripts/')\n",
    "import numpy as np\n",
    "import matplotlib.pyplot as plt\n",
    "import seaborn as sns\n",
    "import rasterio, rasterio.plot\n",
    "import shapely as shp\n",
    "import xarray as xr\n",
    "import rioxarray as rxr\n",
    "from tqdm import tqdm\n",
    "import pandas as pd\n",
    "import geopandas as gpd\n",
    "import loadpaths\n",
    "import land_cover_analysis as lca\n",
    "import land_cover_visualisation as lcv\n",
    "import land_cover_models as lcm\n",
    "path_dict = loadpaths.loadpaths()"
   ]
  },
  {
   "attachments": {},
   "cell_type": "markdown",
   "metadata": {},
   "source": [
    "### Test how to merge:"
   ]
  },
  {
   "cell_type": "code",
   "execution_count": 6,
   "metadata": {},
   "outputs": [],
   "source": [
    "pol1 = shp.geometry.Polygon([(0,0), (0,1), (1,1), (1,0)])\n",
    "pol2 = shp.geometry.Polygon([(2,0), (2,1), (2.5,1), (2.5,0)])\n",
    "pol3 = shp.geometry.Polygon([(0.5,0.5), (0.5,1.5), (1.5,1.5), (1.5,0.5)])\n",
    "pol4 = shp.geometry.Polygon([(0,2), (0,4), (1,3), (1,2)])\n",
    "\n",
    "df1 = gpd.GeoDataFrame({'geometry': [pol1, pol2], 'lab': ['A', 'A']})\n",
    "df2 = gpd.GeoDataFrame({'geometry': [pol3, pol4], 'lab': ['C', 'C']})\n",
    "df3 = gpd.GeoDataFrame({'geometry': [pol1, pol2, pol3, pol4]})"
   ]
  },
  {
   "cell_type": "code",
   "execution_count": 9,
   "metadata": {},
   "outputs": [
    {
     "name": "stdout",
     "output_type": "stream",
     "text": [
      "  lab                                           geometry\n",
      "0   A  POLYGON ((0.00000 0.00000, 0.00000 1.00000, 0....\n",
      "1   A  POLYGON ((2.00000 0.00000, 2.00000 1.00000, 2....\n",
      "2   C  POLYGON ((1.00000 0.50000, 0.50000 0.50000, 0....\n",
      "3   C  POLYGON ((0.00000 2.00000, 0.00000 4.00000, 1....\n"
     ]
    },
    {
     "data": {
      "text/plain": [
       "<matplotlib.axes._subplots.AxesSubplot at 0x7fece383c4d0>"
      ]
     },
     "execution_count": 9,
     "metadata": {},
     "output_type": "execute_result"
    },
    {
     "data": {
      "image/png": "[encoded data removed]",
      "text/plain": [
       "<Figure size 640x480 with 1 Axes>"
      ]
     },
     "metadata": {},
     "output_type": "display_data"
    }
   ],
   "source": [
    "df_unique_1 = gpd.overlay(df1, df2, how='difference')  # Get df1 polygons that are not in df2\n",
    "df_unique_2 = gpd.overlay(df2, df1, how='difference')  # Get df2 polygons that are not in df1\n",
    "df_overlap = gpd.overlay(df1, df2, how='intersection')  # Get overlap between df1 and df2\n",
    "df_overlap['lab'] = df_overlap['lab_2']  # choose label that is to be used for overlap\n",
    "df_overlap = df_overlap.drop(['lab_1', 'lab_2'], axis=1)\n",
    "\n",
    "df_new = gpd.GeoDataFrame(pd.concat([df_unique_1, df_unique_2, df_overlap], ignore_index=True))  # Concatenate all polygons\n",
    "df_new = df_new.dissolve(by='lab', as_index=False)  # Dissolve polygons with same label\n",
    "df_new = df_new.explode().reset_index(drop=True)\n",
    "print(df_new)\n",
    "df_new.plot(column='lab')\n"
   ]
  },
  {
   "attachments": {},
   "cell_type": "markdown",
   "metadata": {},
   "source": [
    "With this, the iterative plan for multi-layered data is:\n",
    "- Define ranking of layers. Layer-1 is to be on top, then layer-2 etc. \n",
    "- Merge layer 1 and 2, and make sure 1 is on top. \n",
    "- Then merge layer-1/2 and layer-3, and make sure 1/2 is on top. \n",
    "- Continue till all layers are done. "
   ]
  },
  {
   "attachments": {},
   "cell_type": "markdown",
   "metadata": {},
   "source": [
    "## Create layer for overriding model predictions:"
   ]
  },
  {
   "cell_type": "code",
   "execution_count": 16,
   "metadata": {},
   "outputs": [
    {
     "data": {
      "text/html": [
       "<div>\n",
       "<style scoped>\n",
       "    .dataframe tbody tr th:only-of-type {\n",
       "        vertical-align: middle;\n",
       "    }\n",
       "\n",
       "    .dataframe tbody tr th {\n",
       "        vertical-align: top;\n",
       "    }\n",
       "\n",
       "    .dataframe thead th {\n",
       "        text-align: right;\n",
       "    }\n",
       "</style>\n",
       "<table border=\"1\" class=\"dataframe\">\n",
       "  <thead>\n",
       "    <tr style=\"text-align: right;\">\n",
       "      <th></th>\n",
       "      <th>Year</th>\n",
       "      <th>MI_PRINX</th>\n",
       "      <th>geometry</th>\n",
       "    </tr>\n",
       "  </thead>\n",
       "  <tbody>\n",
       "    <tr>\n",
       "      <th>0</th>\n",
       "      <td>2015</td>\n",
       "      <td>2</td>\n",
       "      <td>POLYGON ((432454.300 367391.315, 432454.193 36...</td>\n",
       "    </tr>\n",
       "  </tbody>\n",
       "</table>\n",
       "</div>"
      ],
      "text/plain": [
       "   Year  MI_PRINX                                           geometry\n",
       "0  2015         2  POLYGON ((432454.300 367391.315, 432454.193 36..."
      ]
     },
     "execution_count": 16,
     "metadata": {},
     "output_type": "execute_result"
    }
   ],
   "source": [
    "## Load OS data:\n",
    "\n",
    "dir_gpkg = '/home/tplas/data/gis/os_mastermap/'\n",
    "\n",
    "dict_gpkg_file_names = {'roads': 'trn_fts_roadtrackorpath.gpkg',\n",
    "                        'buildings': 'bld_fts_buildingpart.gpkg',\n",
    "                        'sites': 'lus_fts_site.gpkg',\n",
    "                        'structures': 'str_fts_structure.gpkg',\n",
    "                        'railways': 'trn_fts_rail.gpkg',\n",
    "                        'water': 'wtr_fts_water.gpkg',\n",
    "                        'land': 'lnd_fts_land.gpkg'}  # different OS layers\n",
    "\n",
    "dict_gdfs = {}\n",
    "dict_unique_descriptions = {}\n",
    "\n",
    "for key, value in dict_gpkg_file_names.items():\n",
    "    path_layer = os.path.join(dir_gpkg, value)\n",
    "    dict_gdfs[key] = gpd.read_file(path_layer)\n",
    "    dict_unique_descriptions[key] = dict_gdfs[key]['description'].unique()\n",
    "\n",
    "    ## Assert all geometry types are polygons\n",
    "    set_unique_geom_types = set([type(x) for x in dict_gdfs[key]['geometry']])\n",
    "    for geom_type in set_unique_geom_types:\n",
    "        assert geom_type in [shp.geometry.polygon.Polygon, shp.geometry.multipolygon.MultiPolygon], f'Unexpected geometry type {geom_type} for {key}'\n",
    "\n",
    "## Load PD outline:\n",
    "pol_pd_outline = lca.load_pols(path_dict['pd_outline'])\n",
    "pol_pd_outline"
   ]
  },
  {
   "cell_type": "code",
   "execution_count": 38,
   "metadata": {},
   "outputs": [],
   "source": [
    "## Create mapping dict template (from OS description to LC label)\n",
    "\n",
    "os_to_lc_mapping = {key: {} for key in dict_gdfs.keys()}  # separate dict for each OS layer\n",
    "min_size_dict = {key: None for key in dict_gdfs.keys()}\n",
    "\n",
    "## Roads:\n",
    "road_exceptions = ['Cycle Way', 'Path', 'Path And Steps', 'Track']  # all too minor to be considered transport routes\n",
    "assert (np.isin(road_exceptions, dict_unique_descriptions['roads'])).all(), 'Road exceptions not found in OS data'\n",
    "for descr in dict_unique_descriptions['roads']:\n",
    "    if descr not in road_exceptions:\n",
    "        os_to_lc_mapping['roads'][descr] = 'H1b'\n",
    "\n",
    "# ## Buildings:\n",
    "# for descr in dict_unique_descriptions['buildings']:\n",
    "#     os_to_lc_mapping['buildings'][descr] = 'H1a'\n",
    "## Better to use site layer .. ? [Private Residential Site]\n",
    "\n",
    "## Sites:\n",
    "other_isol_dev_list = ['Fish Farm']\n",
    "skip_dev_list = ['Amenity And Open Space Site', 'Mine', 'Outdoor Activity Centre']\n",
    "assert (np.isin(skip_dev_list, dict_unique_descriptions['sites'])).all(), 'Skip development exceptions not found in OS data'\n",
    "assert (np.isin(other_isol_dev_list, dict_unique_descriptions['sites'])).all(), 'Other isolated development exceptions not found in OS data'\n",
    "for descr in dict_unique_descriptions['sites']:\n",
    "    if descr == 'Farm Site':\n",
    "        os_to_lc_mapping['sites'][descr] = 'H3a'\n",
    "    elif descr in other_isol_dev_list:\n",
    "        os_to_lc_mapping['sites'][descr] = 'H3b' \n",
    "    elif descr == 'Quarry':\n",
    "        os_to_lc_mapping['sites'][descr] = 'H2a'  # some false positives in here! \n",
    "    elif descr in ['Rail Freight Transport' 'Rail Maintenance Site' 'Railway Station']:\n",
    "        os_to_lc_mapping['sites'][descr] = 'H1b'\n",
    "    elif descr in skip_dev_list:\n",
    "        continue\n",
    "    else:\n",
    "        os_to_lc_mapping['sites'][descr] = 'H1a'\n",
    "\n",
    "## Structures \n",
    "## Think we can ignore these; mostly covered by sites for urban staff anyway. otherwise lots of tiny structures that are not relevant.\n",
    "\n",
    "## Railways:\n",
    "for descr in dict_unique_descriptions['railways']:\n",
    "    os_to_lc_mapping['railways'][descr] = 'H1b'\n",
    "\n",
    "## Water:\n",
    "water_exceptions = ['Collects', 'Drain', 'Leat', 'Mill Leat', 'Open Tank Reservoir', 'Open Water Tank', \n",
    "                    'Overflow', 'Paddling Pool', 'Reed Bed For Waste Water', 'Settling Pond', 'Spreads',\n",
    "                    'Spring', 'Swimming Pool', 'Watercourse', 'Waterfall']\n",
    "assert (np.isin(water_exceptions, dict_unique_descriptions['water'])).all(), 'Water exceptions not found in OS data'\n",
    "for descr in dict_unique_descriptions['water']:\n",
    "    os_to_lc_mapping['water'][descr] = 'F2'\n",
    "## Maybe add minimum area threshold for water? \n",
    "min_size_dict['water'] = 100\n",
    "\n",
    "## Land:\n",
    "rock_list = ['Boulders Or Rock']\n",
    "urban_land_list = ['Made Surface']\n",
    "assert (np.isin(urban_land_list, dict_unique_descriptions['land'])).all(), 'Urban land exceptions not found in OS data'\n",
    "assert (np.isin(rock_list, dict_unique_descriptions['land'])).all(), 'Rock exceptions not found in OS data'\n",
    "for descr in dict_unique_descriptions['land']:\n",
    "    if descr in rock_list:\n",
    "        os_to_lc_mapping['land'][descr] = 'G2'\n",
    "    elif descr in urban_land_list:\n",
    "        os_to_lc_mapping['land'][descr] = 'H3b'\n",
    "\n",
    "\n"
   ]
  },
  {
   "cell_type": "code",
   "execution_count": 39,
   "metadata": {},
   "outputs": [
    {
     "name": "stdout",
     "output_type": "stream",
     "text": [
      "Using 24745/34716 features from roads layer\n",
      "Using 0/56423 features from buildings layer\n",
      "Using 19704/19729 features from sites layer\n",
      "Using 0/3089 features from structures layer\n",
      "Using 328/328 features from railways layer\n",
      "Using 6943/6943 features from water layer\n",
      "    Using 3682 features from water layer after area thresholding\n",
      "Using 19968/180798 features from land layer\n"
     ]
    }
   ],
   "source": [
    "get_intersection_with_pd_outline = False \n",
    "\n",
    "dict_layers = {} \n",
    "if get_intersection_with_pd_outline:\n",
    "    print('WARNING: getting intersection with PD will take considerably more time. (Minutes instead of seconds)')\n",
    "## Loop through different layers & reduce to only features and attrs needed.\n",
    "for it, (key, gdf_layer) in enumerate(dict_gdfs.items()):\n",
    "    inds_use = gdf_layer['description'].isin(os_to_lc_mapping[key].keys())  # only use features with a mapping\n",
    "    print(f'Using {np.sum(inds_use)}/{len(gdf_layer)} features from {key} layer')\n",
    "    tmp_layer = gdf_layer.loc[inds_use, :].copy()\n",
    "    \n",
    "    if min_size_dict[key] is not None:  # apply area threshold if specified\n",
    "        tmp_layer = tmp_layer.loc[tmp_layer['geometry'].area > min_size_dict[key], :]\n",
    "        print(f'    Using {len(tmp_layer)} features from {key} layer after area thresholding')\n",
    "\n",
    "    tmp_layer['lc_label'] = tmp_layer['description'].map(os_to_lc_mapping[key]) # add LC label\n",
    "    \n",
    "    tmp_layer = tmp_layer.drop(columns=[x for x in list(tmp_layer.columns) if x not in ['geometry', 'lc_label']])  # remove all columns that aren't relevant\n",
    "    tmp_layer = tmp_layer.explode().reset_index(drop=True)  # explode multi-polygons into separate polygons\n",
    "    if get_intersection_with_pd_outline:\n",
    "        tmp_layer = gpd.overlay(tmp_layer, pol_pd_outline, how='intersection')  # get intersection with PD outline\n",
    "    dict_layers[key] = tmp_layer.copy()    \n",
    "\n",
    "    "
   ]
  },
  {
   "cell_type": "code",
   "execution_count": 40,
   "metadata": {},
   "outputs": [
    {
     "name": "stdout",
     "output_type": "stream",
     "text": [
      "Overlaying water and sites layers\n"
     ]
    },
    {
     "name": "stderr",
     "output_type": "stream",
     "text": [
      "/home/tplas/anaconda3/envs/geo/lib/python3.7/site-packages/ipykernel_launcher.py:22: UserWarning: `keep_geom_type=True` in overlay resulted in 545 dropped geometries of different geometry types than df1 has. Set `keep_geom_type=False` to retain all geometries\n"
     ]
    },
    {
     "name": "stdout",
     "output_type": "stream",
     "text": [
      "Overlaying railways layer\n"
     ]
    },
    {
     "name": "stderr",
     "output_type": "stream",
     "text": [
      "/home/tplas/anaconda3/envs/geo/lib/python3.7/site-packages/ipykernel_launcher.py:22: UserWarning: `keep_geom_type=True` in overlay resulted in 201 dropped geometries of different geometry types than df1 has. Set `keep_geom_type=False` to retain all geometries\n"
     ]
    },
    {
     "name": "stdout",
     "output_type": "stream",
     "text": [
      "Overlaying roads layer\n"
     ]
    },
    {
     "name": "stderr",
     "output_type": "stream",
     "text": [
      "/home/tplas/anaconda3/envs/geo/lib/python3.7/site-packages/ipykernel_launcher.py:22: UserWarning: `keep_geom_type=True` in overlay resulted in 23813 dropped geometries of different geometry types than df1 has. Set `keep_geom_type=False` to retain all geometries\n"
     ]
    },
    {
     "name": "stdout",
     "output_type": "stream",
     "text": [
      "Overlaying land layer\n"
     ]
    },
    {
     "name": "stderr",
     "output_type": "stream",
     "text": [
      "/home/tplas/anaconda3/envs/geo/lib/python3.7/site-packages/ipykernel_launcher.py:22: UserWarning: `keep_geom_type=True` in overlay resulted in 27079 dropped geometries of different geometry types than df1 has. Set `keep_geom_type=False` to retain all geometries\n"
     ]
    }
   ],
   "source": [
    "dissolve_polygons = False\n",
    "\n",
    "ranking_keys = ['water', 'sites', 'railways','roads', 'land']\n",
    "n_keys = len(ranking_keys)\n",
    "df_new = None \n",
    "if dissolve_polygons:\n",
    "    print('WARNING: dissolving polygons takes considerably more time (hours instead of minutes).')\n",
    "for i_rank in range(n_keys - 1):\n",
    "    key_1 = ranking_keys[i_rank]\n",
    "    key_2 = ranking_keys[i_rank + 1]\n",
    "\n",
    "    if df_new is None:\n",
    "        print(f'Overlaying {key_1} and {key_2} layers')\n",
    "        df1 = dict_layers[key_1]\n",
    "    else:\n",
    "        print(f'Overlaying {key_2} layer')\n",
    "        df1 = df_new\n",
    "    df2 = dict_layers[key_2]\n",
    "\n",
    "    df_unique_1 = gpd.overlay(df1, df2, how='difference')  # Get df1 polygons that are not in df2\n",
    "    df_unique_2 = gpd.overlay(df2, df1, how='difference')  # Get df2 polygons that are not in df1\n",
    "    df_overlap = gpd.overlay(df1, df2, how='intersection')  # Get overlap between df1 and df2\n",
    "    df_overlap['lc_label'] = df_overlap['lc_label_1']  # choose label that is to be used for overlap\n",
    "    df_overlap = df_overlap.drop(['lc_label_1', 'lc_label_2'], axis=1)\n",
    "\n",
    "    df_new = gpd.GeoDataFrame(pd.concat([df_unique_1, df_unique_2, df_overlap], ignore_index=True))  # Concatenate all polygons\n",
    "    if dissolve_polygons:\n",
    "        df_new = df_new.dissolve(by='lc_label', as_index=False)  # Dissolve polygons with same label\n",
    "        df_new = df_new.explode().reset_index(drop=True)"
   ]
  },
  {
   "cell_type": "code",
   "execution_count": 41,
   "metadata": {},
   "outputs": [],
   "source": [
    "df_new.to_file('tmp_fgh_layer/tmp_fgh_layer.shp')"
   ]
  },
  {
   "cell_type": "code",
   "execution_count": 53,
   "metadata": {},
   "outputs": [
    {
     "name": "stdout",
     "output_type": "stream",
     "text": [
      "land 73\n",
      "['Arable Or Grazing Land' 'Bare Earth Or Grass' 'Boulders Or Rock'\n",
      " 'Boulders Or Rock And Heath Or Rough Grassland'\n",
      " 'Boulders Or Rock And Heath Or Rough Grassland And Marsh'\n",
      " 'Boulders Or Rock And Heath Or Rough Grassland And Scattered Coniferous Trees'\n",
      " 'Boulders Or Rock And Heath Or Rough Grassland And Scattered Non-Coniferous Trees'\n",
      " 'Boulders Or Rock And Heath Or Rough Grassland Or Marsh'\n",
      " 'Boulders Or Rock And Scattered Mixed Trees'\n",
      " 'Boulders Or Rock And Scattered Non-Coniferous Trees' 'Coniferous Trees'\n",
      " 'Coniferous Trees And Scattered Boulders Or Scattered Rock'\n",
      " 'Coniferous Trees And Scattered Boulders Or Scattered Rock And Scrub'\n",
      " 'Coniferous Trees And Scrub' 'Construction Site' 'Gallops' 'Games Court'\n",
      " 'Heath' 'Heath Or Rough Grassland' 'Heath Or Rough Grassland And Marsh'\n",
      " 'Heath Or Rough Grassland And Marsh And Scattered Coniferous Trees'\n",
      " 'Heath Or Rough Grassland And Marsh And Scattered Non-Coniferous Trees'\n",
      " 'Heath Or Rough Grassland And Marsh And Scrub'\n",
      " 'Heath Or Rough Grassland And Scattered Boulders Or Scattered Rock'\n",
      " 'Heath Or Rough Grassland And Scattered Boulders Or Scattered Rock And Scrub'\n",
      " 'Heath Or Rough Grassland And Scattered Coniferous Trees'\n",
      " 'Heath Or Rough Grassland And Scattered Coniferous Trees And Scrub'\n",
      " 'Heath Or Rough Grassland And Scattered Mixed Trees'\n",
      " 'Heath Or Rough Grassland And Scattered Mixed Trees And Scrub'\n",
      " 'Heath Or Rough Grassland And Scattered Non-Coniferous Trees'\n",
      " 'Heath Or Rough Grassland And Scattered Non-Coniferous Trees And Scrub'\n",
      " 'Heath Or Rough Grassland And Scattered Rock'\n",
      " 'Heath Or Rough Grassland And Scattered Rock And Scrub'\n",
      " 'Heath Or Rough Grassland And Scrub' 'Helipad' 'Landfill' 'Livestock Pen'\n",
      " 'Made Surface' 'Marsh' 'Marsh And Non-Coniferous Trees'\n",
      " 'Marsh And Non-Coniferous Trees And Scrub' 'Marsh And Scrub'\n",
      " 'Mixed Trees' 'Mixed Trees And Scattered Boulders Or Scattered Rock'\n",
      " 'Mixed Trees And Scattered Boulders Or Scattered Rock And Scrub'\n",
      " 'Mixed Trees And Scrub' 'Non-Coniferous Trees'\n",
      " 'Non-Coniferous Trees And Scattered Boulders Or Scattered Rock'\n",
      " 'Non-Coniferous Trees And Scattered Boulders Or Scattered Rock And Scrub'\n",
      " 'Non-Coniferous Trees And Scrub' 'Orchard' 'Quarry' 'Residential Garden'\n",
      " 'Sand Or Shingle' 'Scattered Boulders Or Scattered Rock'\n",
      " 'Scattered Boulders Or Scattered Rock And Scattered Mixed Trees And Scrub'\n",
      " 'Scattered Boulders Or Scattered Rock And Scattered Non-Coniferous Trees And Scrub'\n",
      " 'Scattered Boulders Or Scattered Rock And Scrub'\n",
      " 'Scattered Coniferous Trees' 'Scattered Coniferous Trees And Scrub'\n",
      " 'Scattered Mixed Trees' 'Scattered Mixed Trees And Scrub'\n",
      " 'Scattered Non-Coniferous Trees'\n",
      " 'Scattered Non-Coniferous Trees And Scrub' 'Scree' 'Scrub' 'Slipway'\n",
      " 'Sloping Masonry' 'Slurry Bed' 'Spoil Heap' 'Steps' 'Target'\n",
      " 'Tennis Court']\n",
      "\n",
      "\n",
      "\n"
     ]
    }
   ],
   "source": [
    "for key, descr_list in dict_unique_descriptions.items():\n",
    "    if key == 'land':\n",
    "        print(key, len(descr_list))\n",
    "        print(np.sort(descr_list))\n",
    "        print('\\n\\n')"
   ]
  }
 ],
 "metadata": {
  "kernelspec": {
   "display_name": "geo",
   "language": "python",
   "name": "python3"
  },
  "language_info": {
   "codemirror_mode": {
    "name": "ipython",
    "version": 3
   },
   "file_extension": ".py",
   "mimetype": "text/x-python",
   "name": "python",
   "nbconvert_exporter": "python",
   "pygments_lexer": "ipython3",
   "version": "3.7.13"
  },
  "orig_nbformat": 4,
  "vscode": {
   "interpreter": {
    "hash": "fff134636c4dc08640ae6a35698a477c72623cae97fdeaa639b1241267bdf5e9"
   }
  }
 },
 "nbformat": 4,
 "nbformat_minor": 2
}
