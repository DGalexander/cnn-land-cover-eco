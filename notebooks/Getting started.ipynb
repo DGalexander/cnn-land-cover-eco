{
 "cells": [
  {
   "cell_type": "code",
   "execution_count": 1,
   "metadata": {},
   "outputs": [],
   "source": [
    "%load_ext autoreload\n",
    "%autoreload 2"
   ]
  },
  {
   "cell_type": "code",
   "execution_count": 14,
   "metadata": {},
   "outputs": [],
   "source": [
    "import os, sys, json, pickle\n",
    "sys.path.append('../scripts/')\n",
    "import land_cover_analysis as lca\n",
    "import land_cover_visualisation as lcv\n",
    "import land_cover_models as lcm\n",
    "import loadpaths \n",
    "\n",
    "path_dict = loadpaths.loadpaths()  # load paths (see content/README_datapaths.md)\n"
   ]
  },
  {
   "cell_type": "markdown",
   "metadata": {},
   "source": [
    "## Loading existing models\n",
    "If you want to use the CNN models from our paper, you can download these [here](https://drive.google.com/drive/folders/1nEnIWDvWcLVzSE6yViv93I4klY2WzdDo?usp=sharing).\n",
    "\n",
    "In the following, we will load these (also applicable to other models).\n",
    "\n",
    "There are two ways of loading models: loading the full model (`.data`), or loading the resnet weights only (`.pth`). The `lcm.load_model_auto()` function does this automatically, by recognising the file extension. To load the full models provided, you need an older version of torch/lightning (see `envs/geo_exactbuilds.txt`). The weights-only models can also be loaded with latest torch/lightning, and are equivalent."
   ]
  },
  {
   "cell_type": "code",
   "execution_count": 29,
   "metadata": {},
   "outputs": [],
   "source": [
    "folder_model = '/home/thijs/Google Drive/peak district/models/2024-03-22/saved_cnn_models'\n",
    "# file_name = 'main_LCU_2023-04-24-1259_FULL.data'\n",
    "file_name = 'main_LCU_2023-04-24-1259.pth'"
   ]
  },
  {
   "cell_type": "code",
   "execution_count": 30,
   "metadata": {},
   "outputs": [
    {
     "name": "stdout",
     "output_type": "stream",
     "text": [
      "cross_entropy loss is used.\n"
     ]
    }
   ],
   "source": [
    "LCU = lcm.load_model_auto(folder=folder_model, filename=file_name)"
   ]
  },
  {
   "cell_type": "markdown",
   "metadata": {},
   "source": [
    "## Loading the train/test patch data set\n",
    "To train and test the model, you can use the data set of image patches (= 512x 512 pixels) from our paper [available here](https://cord.cranfield.ac.uk/articles/dataset/Very_high_resolution_aerial_photography_and_annotated_land_cover_data_of_the_Peak_District_National_Park/24221314). These can be loaded as follows:"
   ]
  },
  {
   "cell_type": "code",
   "execution_count": 22,
   "metadata": {},
   "outputs": [],
   "source": [
    "mapping_dicts_list = [\n",
    "        #   '../content/label_mapping_dicts/label_mapping_dict__all_relevant_subclasses__2023-04-20-1540.pkl'\n",
    "        '../content/label_mapping_dicts/label_mapping_dict__C_subclasses_only__2023-04-20-1540.pkl',\n",
    "        '../content/label_mapping_dicts/label_mapping_dict__D_subclasses_only__2023-04-20-1540.pkl',\n",
    "        '../content/label_mapping_dicts/label_mapping_dict__E_subclasses_and_F3d_only__2023-04-20-1541.pkl',\n",
    "        '../content/label_mapping_dicts/label_mapping_dict__main_categories_F3inDE_noFGH__2023-04-21-1315.pkl'\n",
    "                         ]"
   ]
  },
  {
   "cell_type": "code",
   "execution_count": 24,
   "metadata": {},
   "outputs": [
    {
     "name": "stdout",
     "output_type": "stream",
     "text": [
      "../content/label_mapping_dicts/label_mapping_dict__C_subclasses_only__2023-04-20-1540.pkl 5\n",
      "../content/label_mapping_dicts/label_mapping_dict__D_subclasses_only__2023-04-20-1540.pkl 7\n",
      "../content/label_mapping_dicts/label_mapping_dict__E_subclasses_and_F3d_only__2023-04-20-1541.pkl 5\n",
      "../content/label_mapping_dicts/label_mapping_dict__main_categories_F3inDE_noFGH__2023-04-21-1315.pkl 4\n"
     ]
    }
   ],
   "source": [
    "for path_mapping_dict in mapping_dicts_list:\n",
    "    tmp_path_dict = pickle.load(open(path_mapping_dict, 'rb'))\n",
    "    n_classes = len(tmp_path_dict['dict_new_names'])\n",
    "    print(path_mapping_dict, n_classes)\n",
    "    "
   ]
  },
  {
   "cell_type": "code",
   "execution_count": null,
   "metadata": {},
   "outputs": [],
   "source": []
  }
 ],
 "metadata": {
  "kernelspec": {
   "display_name": "geo",
   "language": "python",
   "name": "python3"
  },
  "language_info": {
   "codemirror_mode": {
    "name": "ipython",
    "version": 3
   },
   "file_extension": ".py",
   "mimetype": "text/x-python",
   "name": "python",
   "nbconvert_exporter": "python",
   "pygments_lexer": "ipython3",
   "version": "3.10.13"
  }
 },
 "nbformat": 4,
 "nbformat_minor": 2
}
