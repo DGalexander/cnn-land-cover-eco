{
 "cells": [
  {
   "cell_type": "code",
   "execution_count": 1,
   "metadata": {},
   "outputs": [],
   "source": [
    "%load_ext autoreload\n",
    "%autoreload 2"
   ]
  },
  {
   "cell_type": "code",
   "execution_count": 2,
   "metadata": {},
   "outputs": [],
   "source": [
    "import os, sys, json, pickle\n",
    "sys.path.append('../scripts/')\n",
    "import land_cover_analysis as lca\n",
    "import land_cover_visualisation as lcv\n",
    "import land_cover_models as lcm\n",
    "import loadpaths \n",
    "\n",
    "path_dict = loadpaths.loadpaths()  # load paths (see content/README_datapaths.md)\n"
   ]
  },
  {
   "cell_type": "markdown",
   "metadata": {},
   "source": [
    "## Loading existing models\n",
    "If you want to use the CNN models from our paper, you can download these [here](https://drive.google.com/drive/folders/1nEnIWDvWcLVzSE6yViv93I4klY2WzdDo?usp=sharing).\n",
    "\n",
    "In the following, we will load these (also applicable to other models).\n",
    "\n",
    "There are two ways of loading models: loading the full model (`.data`), or loading the resnet weights only (`.pth`). The `lcm.load_model_auto()` function does this automatically, by recognising the file extension. To load the full models provided, you need an older version of torch/lightning (see `envs/geo_exactbuilds.txt`). The weights-only models can also be loaded with latest torch/lightning, and are equivalent."
   ]
  },
  {
   "cell_type": "code",
   "execution_count": 18,
   "metadata": {},
   "outputs": [],
   "source": [
    "folder_model = '/home/thijs/Google Drive/peak district/models/2024-03-22/saved_cnn_models'\n",
    "# file_name = 'main_LCU_2023-04-24-1259_FULL.data'\n",
    "file_name = 'main_LCU_2023-04-24-1259.pth'"
   ]
  },
  {
   "cell_type": "code",
   "execution_count": 19,
   "metadata": {},
   "outputs": [
    {
     "name": "stdout",
     "output_type": "stream",
     "text": [
      "cross_entropy loss is used.\n"
     ]
    }
   ],
   "source": [
    "LCU = lcm.load_model_auto(folder=folder_model, filename=file_name)"
   ]
  },
  {
   "cell_type": "code",
   "execution_count": 20,
   "metadata": {},
   "outputs": [
    {
     "data": {
      "text/plain": [
       "{'class_name_list': ['NO CLASS',\n",
       "  'Wood and Forest Land',\n",
       "  'Moor and Heath Land',\n",
       "  'Agro-Pastoral Land']}"
      ]
     },
     "execution_count": 20,
     "metadata": {},
     "output_type": "execute_result"
    }
   ],
   "source": [
    "LCU.dict_training_details"
   ]
  },
  {
   "cell_type": "markdown",
   "metadata": {},
   "source": [
    "## Loading the train/test patch data set\n",
    "To train and test the model, you can use the data set of image patches (= 512x 512 pixels) from our paper [available here](https://cord.cranfield.ac.uk/articles/dataset/Very_high_resolution_aerial_photography_and_annotated_land_cover_data_of_the_Peak_District_National_Park/24221314). These can be loaded as follows:"
   ]
  },
  {
   "cell_type": "code",
   "execution_count": 15,
   "metadata": {},
   "outputs": [
    {
     "name": "stdout",
     "output_type": "stream",
     "text": [
      "No mask directory provided. Will use masks_python_all/ in image parent directory instead.\n",
      "Only using patches that are in tile_patches list (of length 720).\n",
      "Patches ordered randomly\n",
      "Loaded 719 patches\n",
      "Loaded label_mapping_dict__E_subclasses_and_F3d_only__2023-04-20-1541.pkl to map labels\n"
     ]
    }
   ],
   "source": [
    "assert os.path.exists(path_dict['im_patches']), 'Set path of image patches folder (from data repo link above) in datapaths.json' \n",
    "\n",
    "tile_patch_train_test_split_dict_path='../content/evaluation_sample_50tiles/train_test_split_80tiles_2023-03-22-2131.pkl'\n",
    "if tile_patch_train_test_split_dict_path is not None:\n",
    "    with open(tile_patch_train_test_split_dict_path, 'rb') as f:\n",
    "        dict_tile_patches = pickle.load(f)\n",
    "        tile_patch_train = dict_tile_patches['train']\n",
    "        tile_patch_test = dict_tile_patches['test']\n",
    "else:\n",
    "    tile_patch_train = None\n",
    "    tile_patch_test = None\n",
    "\n",
    "mapping_dicts_list = [\n",
    "          '../content/label_mapping_dicts/label_mapping_dict__all_relevant_subclasses__2023-04-20-1540.pkl',\n",
    "        '../content/label_mapping_dicts/label_mapping_dict__C_subclasses_only__2023-04-20-1540.pkl',\n",
    "        '../content/label_mapping_dicts/label_mapping_dict__D_subclasses_only__2023-04-20-1540.pkl',\n",
    "        '../content/label_mapping_dicts/label_mapping_dict__E_subclasses_and_F3d_only__2023-04-20-1541.pkl',\n",
    "        '../content/label_mapping_dicts/label_mapping_dict__main_categories_F3inDE_noFGH__2023-04-21-1315.pkl'\n",
    "                         ]\n",
    "path_mapping_dict = mapping_dicts_list[3]\n",
    "\n",
    "train_ds = lcm.DataSetPatches(im_dir=path_dict['im_patches'], mask_dir=None, \n",
    "                                mask_suffix='_lc_2022_detailed_mask.npy', \n",
    "                                mask_dir_name='masks_python_all',\n",
    "                                #   list_tile_names=dict_tile_names_sample['train'],\n",
    "                                list_tile_patches_use=tile_patch_train,\n",
    "                                preprocessing_func=LCU.preprocessing_func,\n",
    "                                shuffle_order_patches=True, relabel_masks=True,\n",
    "                                subsample_patches=False, path_mapping_dict=path_mapping_dict,\n",
    "                                random_transform_data=False)"
   ]
  },
  {
   "cell_type": "code",
   "execution_count": 16,
   "metadata": {},
   "outputs": [
    {
     "data": {
      "text/plain": [
       "['NO CLASS',\n",
       " 'Cultivated Land',\n",
       " 'Improved Pasture',\n",
       " 'Rough Pasture',\n",
       " 'Wetland, Wet Grassland and Rush Pasture']"
      ]
     },
     "execution_count": 16,
     "metadata": {},
     "output_type": "execute_result"
    }
   ],
   "source": [
    "train_ds.class_name_list"
   ]
  },
  {
   "cell_type": "code",
   "execution_count": 17,
   "metadata": {},
   "outputs": [
    {
     "name": "stdout",
     "output_type": "stream",
     "text": [
      "../content/label_mapping_dicts/label_mapping_dict__all_relevant_subclasses__2023-04-20-1540.pkl 14\n",
      "../content/label_mapping_dicts/label_mapping_dict__C_subclasses_only__2023-04-20-1540.pkl 5\n",
      "../content/label_mapping_dicts/label_mapping_dict__D_subclasses_only__2023-04-20-1540.pkl 7\n",
      "../content/label_mapping_dicts/label_mapping_dict__E_subclasses_and_F3d_only__2023-04-20-1541.pkl 5\n",
      "../content/label_mapping_dicts/label_mapping_dict__main_categories_F3inDE_noFGH__2023-04-21-1315.pkl 4\n"
     ]
    }
   ],
   "source": [
    "for path_mapping_dict in mapping_dicts_list:\n",
    "    tmp_path_dict = pickle.load(open(path_mapping_dict, 'rb'))\n",
    "    n_classes = len(tmp_path_dict['dict_new_names'])\n",
    "    print(path_mapping_dict, n_classes)\n",
    "    "
   ]
  },
  {
   "cell_type": "code",
   "execution_count": null,
   "metadata": {},
   "outputs": [],
   "source": []
  }
 ],
 "metadata": {
  "kernelspec": {
   "display_name": "geo",
   "language": "python",
   "name": "python3"
  },
  "language_info": {
   "codemirror_mode": {
    "name": "ipython",
    "version": 3
   },
   "file_extension": ".py",
   "mimetype": "text/x-python",
   "name": "python",
   "nbconvert_exporter": "python",
   "pygments_lexer": "ipython3",
   "version": "3.10.13"
  }
 },
 "nbformat": 4,
 "nbformat_minor": 2
}
