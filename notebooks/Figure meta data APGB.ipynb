{
 "cells": [
  {
   "attachments": {},
   "cell_type": "markdown",
   "metadata": {},
   "source": [
    "## Notebook to create figures with APGB meta data\n",
    "Sources:\n",
    " - https://gis.stackexchange.com/questions/411376/wfs-layer-saved-as-a-shapefile\n",
    " - https://pcjericks.github.io/py-gdalogr-cookbook/vector_layers.html#get-wfs-layers-and-iterate-over-features\n",
    " "
   ]
  },
  {
   "cell_type": "code",
   "execution_count": 1,
   "metadata": {},
   "outputs": [],
   "source": [
    "%load_ext autoreload\n",
    "%autoreload 2"
   ]
  },
  {
   "cell_type": "code",
   "execution_count": 37,
   "metadata": {},
   "outputs": [],
   "source": [
    "from osgeo import ogr, osr, gdal\n",
    "import geopandas as gpd\n",
    "import sys\n",
    "from tqdm import tqdm \n",
    "import numpy as np\n",
    "import matplotlib.pyplot as plt\n",
    "import matplotlib as mpl \n",
    "sys.path.append('../scripts/')\n",
    "import loadpaths\n",
    "import land_cover_analysis as lca\n",
    "import land_cover_visualisation as lcv\n",
    "path_dict = loadpaths.loadpaths()"
   ]
  },
  {
   "cell_type": "code",
   "execution_count": 3,
   "metadata": {},
   "outputs": [],
   "source": [
    "df_tile_outlines = lca.load_pols(path_dict['landscape_character_grid_path'])\n",
    "df_pd_outline = lca.load_pols(path_dict['pd_outline'])\n",
    "## only keep tiles that intersect with pd _outline \n",
    "df_tile_outlines = df_tile_outlines[df_tile_outlines.intersects(df_pd_outline.unary_union)]\n",
    "df_tile_outlines = df_tile_outlines.reset_index(drop=True)\n",
    "assert len(df_tile_outlines) == 1617\n",
    "arr_tile_names = df_tile_outlines['PLAN_NO'].values\n"
   ]
  },
  {
   "cell_type": "code",
   "execution_count": 4,
   "metadata": {},
   "outputs": [],
   "source": [
    "# 'SE0d503' in arr_tile_names"
   ]
  },
  {
   "cell_type": "code",
   "execution_count": 5,
   "metadata": {},
   "outputs": [],
   "source": [
    "url = 'https://ogc.apps.midgard.airbusds-cint.com/apgb/wfs?service=WFS&guid=4cd2b5e0-41fd-41e1-90a8-09c2fb51cbf6&request=GetCapabilities'"
   ]
  },
  {
   "cell_type": "code",
   "execution_count": 6,
   "metadata": {},
   "outputs": [],
   "source": [
    "# Set the driver (optional)\n",
    "wfs_drv = ogr.GetDriverByName('WFS')\n",
    "\n",
    "# Speeds up querying WFS capabilities for services with alot of layers\n",
    "gdal.SetConfigOption('OGR_WFS_LOAD_MULTIPLE_LAYER_DEFN', 'NO')\n",
    "\n",
    "# Set config for paging. Works on WFS 2.0 services and WFS 1.0 and 1.1 with some other services.\n",
    "gdal.SetConfigOption('OGR_WFS_PAGING_ALLOWED', 'YES')\n",
    "gdal.SetConfigOption('OGR_WFS_PAGE_SIZE', '10000')\n",
    "\n",
    "# Open the webservice\n",
    "# url = 'http://example-service.com/wfs'\n",
    "wfs_ds = wfs_drv.Open('WFS:' + url)"
   ]
  },
  {
   "cell_type": "code",
   "execution_count": 7,
   "metadata": {},
   "outputs": [],
   "source": [
    "if False:\n",
    "    ## Get info of all layers\n",
    "\n",
    "    # iterate over available layers\n",
    "    for i in range(wfs_ds.GetLayerCount()):\n",
    "        layer = wfs_ds.GetLayerByIndex(i)\n",
    "        srs = layer.GetSpatialRef()\n",
    "        print('Layer: %s, Features: %s, SR: %s...' % (layer.GetName(), layer.GetFeatureCount(), srs.ExportToWkt()[0:50]))\n"
   ]
  },
  {
   "cell_type": "code",
   "execution_count": 8,
   "metadata": {},
   "outputs": [
    {
     "name": "stdout",
     "output_type": "stream",
     "text": [
      "Layer: apgb:AP-12CM5-GB-FOOTPRINTS-LATEST\n",
      "Features: 157622\n",
      "SR: PROJCS[\"OSGB 1936 / British National Grid\",GEOGCS[...\n"
     ]
    }
   ],
   "source": [
    "## Select layer:\n",
    "layer = wfs_ds.GetLayerByIndex(3)\n",
    "srs = layer.GetSpatialRef()\n",
    "layer_name = layer.GetName()\n",
    "n_features = layer.GetFeatureCount()\n",
    "print('Layer: %s\\nFeatures: %s\\nSR: %s...' % (layer_name, n_features, srs.ExportToWkt()[0:50]))\n"
   ]
  },
  {
   "cell_type": "code",
   "execution_count": 9,
   "metadata": {},
   "outputs": [
    {
     "name": "stderr",
     "output_type": "stream",
     "text": [
      "100%|██████████| 157622/157622 [05:12<00:00, 504.70it/s] \n"
     ]
    }
   ],
   "source": [
    "## Iterate over features\n",
    "refs_list, dates_list = [], []\n",
    "count = 0\n",
    "with tqdm(total=n_features) as pbar:\n",
    "    feat = layer.GetNextFeature()\n",
    "    while feat is not None:\n",
    "        pbar.update(1)\n",
    "        count += 1\n",
    "        km_ref = feat.GetField('kmreference')\n",
    "        if km_ref in arr_tile_names:\n",
    "            date_flown = feat.GetField('dateflown')\n",
    "            refs_list.append(km_ref)\n",
    "            dates_list.append(date_flown)\n",
    "            \n",
    "        feat = layer.GetNextFeature()\n",
    "        "
   ]
  },
  {
   "cell_type": "code",
   "execution_count": 11,
   "metadata": {},
   "outputs": [
    {
     "name": "stdout",
     "output_type": "stream",
     "text": [
      "Found 1617 tiles with date flown info\n"
     ]
    }
   ],
   "source": [
    "assert len(refs_list) == len(dates_list)\n",
    "assert len(refs_list) == 1617\n",
    "print('Found all %s tiles with date flown info' % len(refs_list))"
   ]
  },
  {
   "cell_type": "code",
   "execution_count": 12,
   "metadata": {},
   "outputs": [],
   "source": [
    "tile_list = []\n",
    "for tn in refs_list:\n",
    "    df_tmp = df_tile_outlines[df_tile_outlines['PLAN_NO'] == tn]\n",
    "    assert len(df_tmp) == 1\n",
    "    tile_list.append(df_tmp.iloc[0]['geometry'])"
   ]
  },
  {
   "cell_type": "code",
   "execution_count": 14,
   "metadata": {},
   "outputs": [],
   "source": [
    "df_dateflown = gpd.GeoDataFrame({'tile_name': refs_list, \n",
    "                                 'dateflown': dates_list, \n",
    "                                 'geometry': tile_list})"
   ]
  },
  {
   "cell_type": "code",
   "execution_count": 18,
   "metadata": {},
   "outputs": [
    {
     "data": {
      "text/plain": [
       "'2019-04-22T00:00:00Z'"
      ]
     },
     "execution_count": 18,
     "metadata": {},
     "output_type": "execute_result"
    }
   ],
   "source": [
    "df_dateflown['dateflown'].iloc[0]"
   ]
  },
  {
   "cell_type": "code",
   "execution_count": 55,
   "metadata": {},
   "outputs": [],
   "source": [
    "df_dateflown['year'] = df_dateflown['dateflown'].apply(lambda x: int(x.split('-')[0]))\n",
    "df_dateflown['month'] = df_dateflown['dateflown'].apply(lambda x: int(x.split('-')[1]))\n",
    "df_dateflown['day'] = df_dateflown['dateflown'].apply(lambda x: int(x.split('-')[2][:2]))\n",
    "df_dateflown['date'] = df_dateflown['dateflown'].apply(lambda x: x.split('T')[0])"
   ]
  },
  {
   "cell_type": "code",
   "execution_count": 57,
   "metadata": {},
   "outputs": [
    {
     "data": {
      "text/plain": [
       "array(['2019-04-22', '2020-05-31', '2020-05-06', '2021-05-30',\n",
       "       '2021-06-05', '2021-06-09', '2022-06-21'], dtype=object)"
      ]
     },
     "execution_count": 57,
     "metadata": {},
     "output_type": "execute_result"
    }
   ],
   "source": [
    "df_dateflown['date'].unique()"
   ]
  },
  {
   "cell_type": "code",
   "execution_count": 72,
   "metadata": {},
   "outputs": [
    {
     "data": {
      "text/plain": [
       "Text(0.5, 1.0, 'Date flown (latest 12.5cm AGPB data)')"
      ]
     },
     "execution_count": 72,
     "metadata": {},
     "output_type": "execute_result"
    },
    {
     "data": {
      "image/png": "[encoded data removed]",
      "text/plain": [
       "<Figure size 400x400 with 1 Axes>"
      ]
     },
     "metadata": {},
     "output_type": "display_data"
    }
   ],
   "source": [
    "fig, ax = plt.subplots(1, 1, figsize=(4, 4))\n",
    "df_dateflown.plot(column='date', legend=True, ax=ax, \n",
    "                  legend_kwds={'loc': 'lower left', 'bbox_to_anchor': (1, 0), 'frameon': False},\n",
    "                  cmap=plt.cm.get_cmap('Dark2', len(df_dateflown['date'].unique())))\n",
    "ax.axis('off')\n",
    "ax.set_title('Date flown (latest 12.5cm AGPB data)')"
   ]
  }
 ],
 "metadata": {
  "kernelspec": {
   "display_name": "geo",
   "language": "python",
   "name": "python3"
  },
  "language_info": {
   "codemirror_mode": {
    "name": "ipython",
    "version": 3
   },
   "file_extension": ".py",
   "mimetype": "text/x-python",
   "name": "python",
   "nbconvert_exporter": "python",
   "pygments_lexer": "ipython3",
   "version": "3.7.13"
  },
  "orig_nbformat": 4
 },
 "nbformat": 4,
 "nbformat_minor": 2
}
