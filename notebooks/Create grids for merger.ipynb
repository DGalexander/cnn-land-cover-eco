{
 "cells": [
  {
   "cell_type": "code",
   "execution_count": 2,
   "metadata": {},
   "outputs": [],
   "source": [
    "%load_ext autoreload\n",
    "%autoreload 2"
   ]
  },
  {
   "cell_type": "code",
   "execution_count": 3,
   "metadata": {},
   "outputs": [
    {
     "name": "stderr",
     "output_type": "stream",
     "text": [
      "/home/tplas/anaconda3/envs/geo/lib/python3.7/site-packages/geopandas/_compat.py:115: UserWarning: The Shapely GEOS version (3.8.0-CAPI-1.13.1 ) is incompatible with the GEOS version PyGEOS was compiled with (3.10.4-CAPI-1.16.2). Conversions between both will be slow.\n",
      "  shapely_geos_version, geos_capi_version_string\n"
     ]
    },
    {
     "name": "stdout",
     "output_type": "stream",
     "text": [
      "WARNING: creating label mapping dictionary corresponding to LC80 schema (ie missing few classes)\n",
      "adding scrub\n",
      "splitting up heath\n",
      "adding wetland\n",
      "adding transport\n"
     ]
    }
   ],
   "source": [
    "import geopandas as gpd\n",
    "import os\n",
    "import numpy as np\n",
    "import matplotlib.pyplot as plt \n",
    "import shapely as shp\n",
    "import os, sys\n",
    "from tqdm import tqdm\n",
    "sys.path.append('../scripts/')\n",
    "import loadpaths\n",
    "import land_cover_analysis as lca\n",
    "import land_cover_visualisation as lcv\n",
    "path_dict = loadpaths.loadpaths()\n"
   ]
  },
  {
   "attachments": {},
   "cell_type": "markdown",
   "metadata": {},
   "source": [
    "## Merge main predictions in sections:"
   ]
  },
  {
   "cell_type": "code",
   "execution_count": 5,
   "metadata": {},
   "outputs": [],
   "source": [
    "tile_outlines_tight = lca.load_pols('../content/landscape_character_grid/Landscape_Character_Grid_tight.shp')\n",
    "assert len(tile_outlines_tight) == 1617 \n",
    "col_sections = '100_grid'\n",
    "assert col_sections in tile_outlines_tight.columns\n",
    "arr_sections = tile_outlines_tight[col_sections].unique()\n",
    "# tile_outlines_tight.head(5)\n",
    "\n",
    "path_individual_tiles = '/media/data-hdd/gis_pd/predictions/all_tiles_pd_notdissolved/predictions_LCU_2023-04-24-1259_notdissolved_padding44_FGH-override/individual_tiles/'\n",
    "assert len(os.listdir(path_individual_tiles)) == 1617\n",
    "dir_save_merger = '/media/data-hdd/gis_pd/predictions/all_tiles_pd_notdissolved/predictions_LCU_2023-04-24-1259_notdissolved_padding44_FGH-override/merged_tiles_100kmsections/'\n"
   ]
  },
  {
   "cell_type": "code",
   "execution_count": 6,
   "metadata": {},
   "outputs": [
    {
     "name": "stderr",
     "output_type": "stream",
     "text": [
      "  0%|          | 0/26 [00:00<?, ?it/s]"
     ]
    },
    {
     "name": "stdout",
     "output_type": "stream",
     "text": [
      "Found 95/1617 tiles in /media/data-hdd/gis_pd/predictions/all_tiles_pd_notdissolved/predictions_LCU_2023-04-24-1259_notdissolved_padding44_FGH-override/individual_tiles/ with tile ids\n",
      "Merging 95 tiles found in /media/data-hdd/gis_pd/predictions/all_tiles_pd_notdissolved/predictions_LCU_2023-04-24-1259_notdissolved_padding44_FGH-override/individual_tiles/\n"
     ]
    },
    {
     "name": "stderr",
     "output_type": "stream",
     "text": []
    },
    {
     "name": "stderr",
     "output_type": "stream",
     "text": [
      "95it [00:07, 11.94it/s]\n",
      "  4%|▍         | 1/26 [00:30<12:37, 30.28s/it]"
     ]
    },
    {
     "name": "stdout",
     "output_type": "stream",
     "text": [
      "Found 12/1617 tiles in /media/data-hdd/gis_pd/predictions/all_tiles_pd_notdissolved/predictions_LCU_2023-04-24-1259_notdissolved_padding44_FGH-override/individual_tiles/ with tile ids\n",
      "Merging 12 tiles found in /media/data-hdd/gis_pd/predictions/all_tiles_pd_notdissolved/predictions_LCU_2023-04-24-1259_notdissolved_padding44_FGH-override/individual_tiles/\n"
     ]
    },
    {
     "name": "stderr",
     "output_type": "stream",
     "text": [
      "12it [00:01,  6.51it/s]\n",
      "  8%|▊         | 2/26 [00:39<07:15, 18.13s/it]"
     ]
    },
    {
     "name": "stdout",
     "output_type": "stream",
     "text": [
      "Found 51/1617 tiles in /media/data-hdd/gis_pd/predictions/all_tiles_pd_notdissolved/predictions_LCU_2023-04-24-1259_notdissolved_padding44_FGH-override/individual_tiles/ with tile ids\n",
      "Merging 51 tiles found in /media/data-hdd/gis_pd/predictions/all_tiles_pd_notdissolved/predictions_LCU_2023-04-24-1259_notdissolved_padding44_FGH-override/individual_tiles/\n"
     ]
    },
    {
     "name": "stderr",
     "output_type": "stream",
     "text": [
      "51it [00:05,  9.70it/s]\n",
      " 12%|█▏        | 3/26 [01:00<07:26, 19.40s/it]"
     ]
    },
    {
     "name": "stdout",
     "output_type": "stream",
     "text": [
      "Found 3/1617 tiles in /media/data-hdd/gis_pd/predictions/all_tiles_pd_notdissolved/predictions_LCU_2023-04-24-1259_notdissolved_padding44_FGH-override/individual_tiles/ with tile ids\n",
      "Merging 3 tiles found in /media/data-hdd/gis_pd/predictions/all_tiles_pd_notdissolved/predictions_LCU_2023-04-24-1259_notdissolved_padding44_FGH-override/individual_tiles/\n"
     ]
    },
    {
     "name": "stderr",
     "output_type": "stream",
     "text": [
      "3it [00:00,  5.51it/s]\n",
      " 15%|█▌        | 4/26 [01:03<04:39, 12.71s/it]"
     ]
    },
    {
     "name": "stdout",
     "output_type": "stream",
     "text": [
      "Found 58/1617 tiles in /media/data-hdd/gis_pd/predictions/all_tiles_pd_notdissolved/predictions_LCU_2023-04-24-1259_notdissolved_padding44_FGH-override/individual_tiles/ with tile ids\n",
      "Merging 58 tiles found in /media/data-hdd/gis_pd/predictions/all_tiles_pd_notdissolved/predictions_LCU_2023-04-24-1259_notdissolved_padding44_FGH-override/individual_tiles/\n"
     ]
    },
    {
     "name": "stderr",
     "output_type": "stream",
     "text": [
      "58it [00:08,  7.10it/s]\n",
      " 19%|█▉        | 5/26 [01:37<07:10, 20.51s/it]"
     ]
    },
    {
     "name": "stdout",
     "output_type": "stream",
     "text": [
      "Found 56/1617 tiles in /media/data-hdd/gis_pd/predictions/all_tiles_pd_notdissolved/predictions_LCU_2023-04-24-1259_notdissolved_padding44_FGH-override/individual_tiles/ with tile ids\n",
      "Merging 56 tiles found in /media/data-hdd/gis_pd/predictions/all_tiles_pd_notdissolved/predictions_LCU_2023-04-24-1259_notdissolved_padding44_FGH-override/individual_tiles/\n"
     ]
    },
    {
     "name": "stderr",
     "output_type": "stream",
     "text": [
      "56it [00:07,  7.62it/s]\n",
      " 23%|██▎       | 6/26 [02:07<07:57, 23.85s/it]"
     ]
    },
    {
     "name": "stdout",
     "output_type": "stream",
     "text": [
      "Found 19/1617 tiles in /media/data-hdd/gis_pd/predictions/all_tiles_pd_notdissolved/predictions_LCU_2023-04-24-1259_notdissolved_padding44_FGH-override/individual_tiles/ with tile ids\n",
      "Merging 19 tiles found in /media/data-hdd/gis_pd/predictions/all_tiles_pd_notdissolved/predictions_LCU_2023-04-24-1259_notdissolved_padding44_FGH-override/individual_tiles/\n"
     ]
    },
    {
     "name": "stderr",
     "output_type": "stream",
     "text": [
      "19it [00:03,  5.84it/s]\n",
      " 27%|██▋       | 7/26 [02:23<06:43, 21.22s/it]"
     ]
    },
    {
     "name": "stdout",
     "output_type": "stream",
     "text": [
      "Found 67/1617 tiles in /media/data-hdd/gis_pd/predictions/all_tiles_pd_notdissolved/predictions_LCU_2023-04-24-1259_notdissolved_padding44_FGH-override/individual_tiles/ with tile ids\n",
      "Merging 67 tiles found in /media/data-hdd/gis_pd/predictions/all_tiles_pd_notdissolved/predictions_LCU_2023-04-24-1259_notdissolved_padding44_FGH-override/individual_tiles/\n"
     ]
    },
    {
     "name": "stderr",
     "output_type": "stream",
     "text": [
      "67it [00:08,  7.61it/s]\n",
      " 31%|███       | 8/26 [02:59<07:46, 25.94s/it]"
     ]
    },
    {
     "name": "stdout",
     "output_type": "stream",
     "text": [
      "Found 100/1617 tiles in /media/data-hdd/gis_pd/predictions/all_tiles_pd_notdissolved/predictions_LCU_2023-04-24-1259_notdissolved_padding44_FGH-override/individual_tiles/ with tile ids\n",
      "Merging 100 tiles found in /media/data-hdd/gis_pd/predictions/all_tiles_pd_notdissolved/predictions_LCU_2023-04-24-1259_notdissolved_padding44_FGH-override/individual_tiles/\n"
     ]
    },
    {
     "name": "stderr",
     "output_type": "stream",
     "text": [
      "100it [00:14,  7.07it/s]\n",
      " 35%|███▍      | 9/26 [03:58<10:12, 36.03s/it]"
     ]
    },
    {
     "name": "stdout",
     "output_type": "stream",
     "text": [
      "Found 69/1617 tiles in /media/data-hdd/gis_pd/predictions/all_tiles_pd_notdissolved/predictions_LCU_2023-04-24-1259_notdissolved_padding44_FGH-override/individual_tiles/ with tile ids\n",
      "Merging 69 tiles found in /media/data-hdd/gis_pd/predictions/all_tiles_pd_notdissolved/predictions_LCU_2023-04-24-1259_notdissolved_padding44_FGH-override/individual_tiles/\n"
     ]
    },
    {
     "name": "stderr",
     "output_type": "stream",
     "text": [
      "69it [00:10,  6.56it/s]\n",
      " 38%|███▊      | 10/26 [04:43<10:20, 38.80s/it]"
     ]
    },
    {
     "name": "stdout",
     "output_type": "stream",
     "text": [
      "Found 76/1617 tiles in /media/data-hdd/gis_pd/predictions/all_tiles_pd_notdissolved/predictions_LCU_2023-04-24-1259_notdissolved_padding44_FGH-override/individual_tiles/ with tile ids\n",
      "Merging 76 tiles found in /media/data-hdd/gis_pd/predictions/all_tiles_pd_notdissolved/predictions_LCU_2023-04-24-1259_notdissolved_padding44_FGH-override/individual_tiles/\n"
     ]
    },
    {
     "name": "stderr",
     "output_type": "stream",
     "text": [
      "76it [00:11,  6.78it/s]\n",
      " 42%|████▏     | 11/26 [05:31<10:27, 41.86s/it]"
     ]
    },
    {
     "name": "stdout",
     "output_type": "stream",
     "text": [
      "Found 85/1617 tiles in /media/data-hdd/gis_pd/predictions/all_tiles_pd_notdissolved/predictions_LCU_2023-04-24-1259_notdissolved_padding44_FGH-override/individual_tiles/ with tile ids\n",
      "Merging 85 tiles found in /media/data-hdd/gis_pd/predictions/all_tiles_pd_notdissolved/predictions_LCU_2023-04-24-1259_notdissolved_padding44_FGH-override/individual_tiles/\n"
     ]
    },
    {
     "name": "stderr",
     "output_type": "stream",
     "text": [
      "85it [00:11,  7.51it/s]\n",
      " 46%|████▌     | 12/26 [06:22<10:25, 44.68s/it]"
     ]
    },
    {
     "name": "stdout",
     "output_type": "stream",
     "text": [
      "Found 1/1617 tiles in /media/data-hdd/gis_pd/predictions/all_tiles_pd_notdissolved/predictions_LCU_2023-04-24-1259_notdissolved_padding44_FGH-override/individual_tiles/ with tile ids\n",
      "Merging 1 tiles found in /media/data-hdd/gis_pd/predictions/all_tiles_pd_notdissolved/predictions_LCU_2023-04-24-1259_notdissolved_padding44_FGH-override/individual_tiles/\n"
     ]
    },
    {
     "name": "stderr",
     "output_type": "stream",
     "text": [
      "1it [00:00,  5.76it/s]\n",
      " 50%|█████     | 13/26 [06:23<06:48, 31.46s/it]"
     ]
    },
    {
     "name": "stdout",
     "output_type": "stream",
     "text": [
      "Found 17/1617 tiles in /media/data-hdd/gis_pd/predictions/all_tiles_pd_notdissolved/predictions_LCU_2023-04-24-1259_notdissolved_padding44_FGH-override/individual_tiles/ with tile ids\n",
      "Merging 17 tiles found in /media/data-hdd/gis_pd/predictions/all_tiles_pd_notdissolved/predictions_LCU_2023-04-24-1259_notdissolved_padding44_FGH-override/individual_tiles/\n"
     ]
    },
    {
     "name": "stderr",
     "output_type": "stream",
     "text": [
      "17it [00:02,  7.39it/s]\n",
      " 54%|█████▍    | 14/26 [06:33<04:58, 24.89s/it]"
     ]
    },
    {
     "name": "stdout",
     "output_type": "stream",
     "text": [
      "Found 100/1617 tiles in /media/data-hdd/gis_pd/predictions/all_tiles_pd_notdissolved/predictions_LCU_2023-04-24-1259_notdissolved_padding44_FGH-override/individual_tiles/ with tile ids\n",
      "Merging 100 tiles found in /media/data-hdd/gis_pd/predictions/all_tiles_pd_notdissolved/predictions_LCU_2023-04-24-1259_notdissolved_padding44_FGH-override/individual_tiles/\n"
     ]
    },
    {
     "name": "stderr",
     "output_type": "stream",
     "text": [
      "100it [00:10,  9.33it/s]\n",
      " 58%|█████▊    | 15/26 [07:15<05:28, 29.87s/it]"
     ]
    },
    {
     "name": "stdout",
     "output_type": "stream",
     "text": [
      "Found 100/1617 tiles in /media/data-hdd/gis_pd/predictions/all_tiles_pd_notdissolved/predictions_LCU_2023-04-24-1259_notdissolved_padding44_FGH-override/individual_tiles/ with tile ids\n",
      "Merging 100 tiles found in /media/data-hdd/gis_pd/predictions/all_tiles_pd_notdissolved/predictions_LCU_2023-04-24-1259_notdissolved_padding44_FGH-override/individual_tiles/\n"
     ]
    },
    {
     "name": "stderr",
     "output_type": "stream",
     "text": [
      "100it [00:07, 13.69it/s]\n",
      " 62%|██████▏   | 16/26 [07:40<04:44, 28.48s/it]"
     ]
    },
    {
     "name": "stdout",
     "output_type": "stream",
     "text": [
      "Found 100/1617 tiles in /media/data-hdd/gis_pd/predictions/all_tiles_pd_notdissolved/predictions_LCU_2023-04-24-1259_notdissolved_padding44_FGH-override/individual_tiles/ with tile ids\n",
      "Merging 100 tiles found in /media/data-hdd/gis_pd/predictions/all_tiles_pd_notdissolved/predictions_LCU_2023-04-24-1259_notdissolved_padding44_FGH-override/individual_tiles/\n"
     ]
    },
    {
     "name": "stderr",
     "output_type": "stream",
     "text": [
      "100it [00:08, 12.31it/s]\n",
      " 65%|██████▌   | 17/26 [08:08<04:15, 28.43s/it]"
     ]
    },
    {
     "name": "stdout",
     "output_type": "stream",
     "text": [
      "Found 100/1617 tiles in /media/data-hdd/gis_pd/predictions/all_tiles_pd_notdissolved/predictions_LCU_2023-04-24-1259_notdissolved_padding44_FGH-override/individual_tiles/ with tile ids\n",
      "Merging 100 tiles found in /media/data-hdd/gis_pd/predictions/all_tiles_pd_notdissolved/predictions_LCU_2023-04-24-1259_notdissolved_padding44_FGH-override/individual_tiles/\n"
     ]
    },
    {
     "name": "stderr",
     "output_type": "stream",
     "text": [
      "100it [00:12,  8.01it/s]\n",
      " 69%|██████▉   | 18/26 [08:57<04:37, 34.70s/it]"
     ]
    },
    {
     "name": "stdout",
     "output_type": "stream",
     "text": [
      "Found 100/1617 tiles in /media/data-hdd/gis_pd/predictions/all_tiles_pd_notdissolved/predictions_LCU_2023-04-24-1259_notdissolved_padding44_FGH-override/individual_tiles/ with tile ids\n",
      "Merging 100 tiles found in /media/data-hdd/gis_pd/predictions/all_tiles_pd_notdissolved/predictions_LCU_2023-04-24-1259_notdissolved_padding44_FGH-override/individual_tiles/\n"
     ]
    },
    {
     "name": "stderr",
     "output_type": "stream",
     "text": [
      "100it [00:06, 16.51it/s]\n",
      " 73%|███████▎  | 19/26 [09:17<03:31, 30.25s/it]"
     ]
    },
    {
     "name": "stdout",
     "output_type": "stream",
     "text": [
      "Found 40/1617 tiles in /media/data-hdd/gis_pd/predictions/all_tiles_pd_notdissolved/predictions_LCU_2023-04-24-1259_notdissolved_padding44_FGH-override/individual_tiles/ with tile ids\n",
      "Merging 40 tiles found in /media/data-hdd/gis_pd/predictions/all_tiles_pd_notdissolved/predictions_LCU_2023-04-24-1259_notdissolved_padding44_FGH-override/individual_tiles/\n"
     ]
    },
    {
     "name": "stderr",
     "output_type": "stream",
     "text": [
      "40it [00:05,  7.71it/s]\n",
      " 77%|███████▋  | 20/26 [09:39<02:46, 27.70s/it]"
     ]
    },
    {
     "name": "stdout",
     "output_type": "stream",
     "text": [
      "Found 82/1617 tiles in /media/data-hdd/gis_pd/predictions/all_tiles_pd_notdissolved/predictions_LCU_2023-04-24-1259_notdissolved_padding44_FGH-override/individual_tiles/ with tile ids\n",
      "Merging 82 tiles found in /media/data-hdd/gis_pd/predictions/all_tiles_pd_notdissolved/predictions_LCU_2023-04-24-1259_notdissolved_padding44_FGH-override/individual_tiles/\n"
     ]
    },
    {
     "name": "stderr",
     "output_type": "stream",
     "text": [
      "82it [00:10,  7.95it/s]\n",
      " 81%|████████  | 21/26 [10:20<02:38, 31.67s/it]"
     ]
    },
    {
     "name": "stdout",
     "output_type": "stream",
     "text": [
      "Found 100/1617 tiles in /media/data-hdd/gis_pd/predictions/all_tiles_pd_notdissolved/predictions_LCU_2023-04-24-1259_notdissolved_padding44_FGH-override/individual_tiles/ with tile ids\n",
      "Merging 100 tiles found in /media/data-hdd/gis_pd/predictions/all_tiles_pd_notdissolved/predictions_LCU_2023-04-24-1259_notdissolved_padding44_FGH-override/individual_tiles/\n"
     ]
    },
    {
     "name": "stderr",
     "output_type": "stream",
     "text": [
      "100it [00:14,  7.05it/s]\n",
      " 85%|████████▍ | 22/26 [11:17<02:37, 39.29s/it]"
     ]
    },
    {
     "name": "stdout",
     "output_type": "stream",
     "text": [
      "Found 92/1617 tiles in /media/data-hdd/gis_pd/predictions/all_tiles_pd_notdissolved/predictions_LCU_2023-04-24-1259_notdissolved_padding44_FGH-override/individual_tiles/ with tile ids\n",
      "Merging 92 tiles found in /media/data-hdd/gis_pd/predictions/all_tiles_pd_notdissolved/predictions_LCU_2023-04-24-1259_notdissolved_padding44_FGH-override/individual_tiles/\n"
     ]
    },
    {
     "name": "stderr",
     "output_type": "stream",
     "text": [
      "92it [00:13,  6.87it/s]\n",
      " 88%|████████▊ | 23/26 [12:11<02:11, 43.80s/it]"
     ]
    },
    {
     "name": "stdout",
     "output_type": "stream",
     "text": [
      "Found 76/1617 tiles in /media/data-hdd/gis_pd/predictions/all_tiles_pd_notdissolved/predictions_LCU_2023-04-24-1259_notdissolved_padding44_FGH-override/individual_tiles/ with tile ids\n",
      "Merging 76 tiles found in /media/data-hdd/gis_pd/predictions/all_tiles_pd_notdissolved/predictions_LCU_2023-04-24-1259_notdissolved_padding44_FGH-override/individual_tiles/\n"
     ]
    },
    {
     "name": "stderr",
     "output_type": "stream",
     "text": [
      "76it [00:11,  6.63it/s]\n",
      " 92%|█████████▏| 24/26 [12:59<01:29, 44.94s/it]"
     ]
    },
    {
     "name": "stdout",
     "output_type": "stream",
     "text": [
      "Found 8/1617 tiles in /media/data-hdd/gis_pd/predictions/all_tiles_pd_notdissolved/predictions_LCU_2023-04-24-1259_notdissolved_padding44_FGH-override/individual_tiles/ with tile ids\n",
      "Merging 8 tiles found in /media/data-hdd/gis_pd/predictions/all_tiles_pd_notdissolved/predictions_LCU_2023-04-24-1259_notdissolved_padding44_FGH-override/individual_tiles/\n"
     ]
    },
    {
     "name": "stderr",
     "output_type": "stream",
     "text": [
      "8it [00:01,  7.56it/s]\n",
      " 96%|█████████▌| 25/26 [13:05<00:33, 33.36s/it]"
     ]
    },
    {
     "name": "stdout",
     "output_type": "stream",
     "text": [
      "Found 10/1617 tiles in /media/data-hdd/gis_pd/predictions/all_tiles_pd_notdissolved/predictions_LCU_2023-04-24-1259_notdissolved_padding44_FGH-override/individual_tiles/ with tile ids\n",
      "Merging 10 tiles found in /media/data-hdd/gis_pd/predictions/all_tiles_pd_notdissolved/predictions_LCU_2023-04-24-1259_notdissolved_padding44_FGH-override/individual_tiles/\n"
     ]
    },
    {
     "name": "stderr",
     "output_type": "stream",
     "text": [
      "10it [00:01,  8.86it/s]\n",
      "100%|██████████| 26/26 [13:12<00:00, 30.46s/it]\n"
     ]
    }
   ],
   "source": [
    "for section in tqdm(arr_sections):\n",
    "    tiles_in_section = list(tile_outlines_tight[tile_outlines_tight[col_sections] == section]['PLAN_NO'])\n",
    "\n",
    "    curr_dir_name = path_individual_tiles.split('/') \n",
    "    curr_dir_name = curr_dir_name[-1] if curr_dir_name[-1] != '' else curr_dir_name[-2]  # in case dir_indiv_tile_shp ends with '/'\n",
    "    filename_merger = f'merged_{curr_dir_name}_section-{section}.shp'\n",
    "\n",
    "    lca.merge_individual_shp_files(dir_indiv_tile_shp=path_individual_tiles, \n",
    "                                    delete_individual_shp_files=False,\n",
    "                                    list_tile_ids_to_merge=tiles_in_section,\n",
    "                                    filename=filename_merger,\n",
    "                                    dir_save_merger=dir_save_merger)"
   ]
  },
  {
   "attachments": {},
   "cell_type": "markdown",
   "metadata": {},
   "source": [
    "## Merge detailed predictions in sections:\n",
    "Difference with main is that:\n",
    "- we need to merge 3 different shp files (C, D and E)\n",
    "- we need to exclude no-class predictions from each\n",
    "- we need to include FGH layer from main predictions \n",
    "- create new individual tiles on the fly? "
   ]
  },
  {
   "cell_type": "code",
   "execution_count": null,
   "metadata": {},
   "outputs": [],
   "source": [
    "tile_outlines_tight = lca.load_pols('../content/landscape_character_grid/Landscape_Character_Grid_tight.shp')\n",
    "assert len(tile_outlines_tight) == 1617 \n",
    "col_sections = '100_grid'\n",
    "assert col_sections in tile_outlines_tight.columns\n",
    "arr_sections = tile_outlines_tight[col_sections].unique()\n",
    "# tile_outlines_tight.head(5)3\n",
    "\n",
    "path_individual_tiles_main = '/media/data-hdd/gis_pd/predictions/all_tiles_pd_notdissolved/predictions_LCU_2023-04-24-1259_notdissolved_padding44_FGH-override/'\n",
    "path_individual_tiles_c = '/media/data-hdd/gis_pd/predictions/all_tiles_pd_notdissolved/'\n",
    "path_individual_tiles_d = '/media/data-hdd/gis_pd/predictions/all_tiles_pd_notdissolved/'\n",
    "path_individual_tiles_e = '/media/data-hdd/gis_pd/predictions/all_tiles_pd_notdissolved/'\n",
    "\n",
    "def create_list_all_subdirs(parent_dir):\n",
    "    return [os.path.join(parent_dir, x) for x in os.listdir(parent_dir) if os.path.isdir(os.path.join(parent_dir, x))]\n",
    "\n",
    "list_tiles_dict = {}\n",
    "list_tiles_dict['main'] = create_list_all_subdirs(path_individual_tiles_main)\n",
    "list_tiles_dict['c'] = create_list_all_subdirs(path_individual_tiles_c)\n",
    "list_tiles_dict['d'] = create_list_all_subdirs(path_individual_tiles_d)\n",
    "list_tiles_dict['e'] = create_list_all_subdirs(path_individual_tiles_e)\n",
    "\n",
    "for k, v in list_tiles_dict.items():\n",
    "    assert len(v) == 1617, f'len(v) = {len(v)} for k = {k}'"
   ]
  },
  {
   "cell_type": "code",
   "execution_count": null,
   "metadata": {},
   "outputs": [],
   "source": [
    "## Step 1: merge different predictions for the same tile into one file:\n",
    "path_folder_complete_tiles = '/media/data-hdd/gis_pd/predictions/all_tiles_pd_notdissolved/' \n",
    "list_tiles = list(tile_outlines_tight['PLAN_NO'])\n",
    "col_label = 'lc_label'\n",
    "\n",
    "for tile in list_tiles:\n",
    "    pols_dict = {}\n",
    "    for name_classifier, list_tiles_pred in list_tiles_dict.items():\n",
    "        curr_tile = [x for x in list_tiles_pred if tile in x]\n",
    "        assert len(curr_tile) == 1, f'len(curr_tile) = {len(curr_tile)}'\n",
    "        curr_tile = curr_tile[0]\n",
    "        pols_dict[name_classifier] = lca.load_pols(curr_tile)\n",
    "        if name_classifier == 'main':  # only keep FGH layer \n",
    "            pols_dict[name_classifier] = pols_dict[pols_dict[col_label].apply(lambda x: x[0]) in ['F', 'G', 'H']]\n",
    "        else:  # remove no class\n",
    "            pols_dict[name_classifier] = pols_dict[pols_dict[col_label] != '0']\n",
    "\n",
    "    pols_merged = gpd.concat([pols_dict['main'], pols_dict['c'], pols_dict['d'], pols_dict['e']])\n",
    "    total_area = pols_merged.area.sum()\n",
    "    assert total_area > 0, f'total_area = {total_area}'\n",
    "    assert np.isclose(total_area, 1e6, atol=1e1), f'total_area = {total_area}'\n",
    "\n",
    "    pols_merged.to_file(os.path.join(path_folder_complete_tiles, f'{tile}.shp'))"
   ]
  },
  {
   "cell_type": "code",
   "execution_count": 19,
   "metadata": {},
   "outputs": [],
   "source": [
    "## Step 2: merge all tiles into one file per section:\n",
    "path_folder_complete_tiles = '/media/data-hdd/gis_pd/predictions/all_tiles_pd_notdissolved/'\n",
    "path_folder_sections = '/media/data-hdd/gis_pd/predictions/all_tiles_pd_notdissolved/'\n",
    "\n",
    "for section in tqdm(arr_sections):\n",
    "    tiles_in_section = list(tile_outlines_tight[tile_outlines_tight[col_sections] == section]['PLAN_NO'])\n",
    "\n",
    "    curr_dir_name = path_folder_complete_tiles.split('/') \n",
    "    curr_dir_name = curr_dir_name[-1] if curr_dir_name[-1] != '' else curr_dir_name[-2]  # in case dir_indiv_tile_shp ends with '/'\n",
    "    filename_merger = f'merged_{curr_dir_name}_section-{section}.shp'\n",
    "\n",
    "    lca.merge_individual_shp_files(dir_indiv_tile_shp=path_folder_complete_tiles, \n",
    "                                    delete_individual_shp_files=False,\n",
    "                                    list_tile_ids_to_merge=tiles_in_section,\n",
    "                                    filename=filename_merger)\n",
    "    "
   ]
  },
  {
   "cell_type": "code",
   "execution_count": null,
   "metadata": {},
   "outputs": [],
   "source": []
  },
  {
   "attachments": {},
   "cell_type": "markdown",
   "metadata": {},
   "source": [
    "## Create 100km^2 grids for different mergers:"
   ]
  },
  {
   "cell_type": "code",
   "execution_count": 23,
   "metadata": {},
   "outputs": [],
   "source": [
    "outline_pd = lca.load_pols(path_dict['pd_outline'])\n",
    "outline_pd = outline_pd.iloc[0]['geometry']\n",
    "all_tiles = lca.load_pols(path_dict['landscape_character_grid_path'])\n",
    "all_tiles = all_tiles[all_tiles['geometry'].intersects(outline_pd)]\n",
    "all_tiles = all_tiles.reset_index(drop=True)\n",
    "assert len(all_tiles) == 1617"
   ]
  },
  {
   "cell_type": "code",
   "execution_count": 24,
   "metadata": {},
   "outputs": [
    {
     "data": {
      "text/plain": [
       "COUNTY\n",
       "CHESHIR    108\n",
       "DERBYSH    993\n",
       "GT MAN      32\n",
       "SOUTHYO    194\n",
       "STAFFOR    229\n",
       "WESTYOR     61\n",
       "dtype: int64"
      ]
     },
     "execution_count": 24,
     "metadata": {},
     "output_type": "execute_result"
    }
   ],
   "source": [
    "# all_tiles['COUNTY'].unique()\n",
    "## tiles per county:\n",
    "n_tiles_per_county = all_tiles.groupby('COUNTY').size()\n",
    "n_tiles_per_county"
   ]
  },
  {
   "cell_type": "code",
   "execution_count": 25,
   "metadata": {},
   "outputs": [],
   "source": [
    "all_tiles['100_grid'] = all_tiles['PLAN_NO'].apply(lambda x: x[:3] + x[4])"
   ]
  },
  {
   "cell_type": "code",
   "execution_count": 26,
   "metadata": {},
   "outputs": [
    {
     "data": {
      "text/plain": [
       "array(['SE00', 'SE01', 'SE10', 'SE20', 'SJ96', 'SJ97', 'SJ98', 'SK05',\n",
       "       'SK06', 'SK07', 'SK08', 'SK09', 'SK04', 'SK14', 'SK15', 'SK16',\n",
       "       'SK17', 'SK18', 'SK19', 'SK25', 'SK26', 'SK27', 'SK28', 'SK29',\n",
       "       'SK36', 'SK37'], dtype=object)"
      ]
     },
     "execution_count": 26,
     "metadata": {},
     "output_type": "execute_result"
    }
   ],
   "source": [
    "all_tiles['100_grid'].unique()"
   ]
  },
  {
   "cell_type": "code",
   "execution_count": 27,
   "metadata": {},
   "outputs": [],
   "source": [
    "all_tiles.to_file('/home/thijs/repos/cnn-land-cover/content/landscape_character_grid/Landscape_Character_Grid_tight.shp')"
   ]
  }
 ],
 "metadata": {
  "kernelspec": {
   "display_name": "geo",
   "language": "python",
   "name": "python3"
  },
  "language_info": {
   "codemirror_mode": {
    "name": "ipython",
    "version": 3
   },
   "file_extension": ".py",
   "mimetype": "text/x-python",
   "name": "python",
   "nbconvert_exporter": "python",
   "pygments_lexer": "ipython3",
   "version": "3.7.13"
  },
  "orig_nbformat": 4
 },
 "nbformat": 4,
 "nbformat_minor": 2
}
