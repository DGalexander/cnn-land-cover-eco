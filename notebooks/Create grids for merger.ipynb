{
 "cells": [
  {
   "cell_type": "code",
   "execution_count": 1,
   "metadata": {},
   "outputs": [],
   "source": [
    "%load_ext autoreload\n",
    "%autoreload 2"
   ]
  },
  {
   "cell_type": "code",
   "execution_count": 16,
   "metadata": {},
   "outputs": [],
   "source": [
    "import geopandas as gpd\n",
    "import os\n",
    "import numpy as np\n",
    "import matplotlib.pyplot as plt \n",
    "import shapely as shp\n",
    "import os, sys\n",
    "from tqdm import tqdm\n",
    "sys.path.append('../scripts/')\n",
    "import loadpaths\n",
    "import land_cover_analysis as lca\n",
    "import land_cover_visualisation as lcv\n",
    "path_dict = loadpaths.loadpaths()\n"
   ]
  },
  {
   "attachments": {},
   "cell_type": "markdown",
   "metadata": {},
   "source": [
    "## Merge main predictions in sections:"
   ]
  },
  {
   "cell_type": "code",
   "execution_count": 10,
   "metadata": {},
   "outputs": [],
   "source": [
    "tile_outlines_tight = lca.load_pols('../content/landscape_character_grid/Landscape_Character_Grid_tight.shp')\n",
    "assert len(tile_outlines_tight) == 1617 \n",
    "col_sections = '100_grid'\n",
    "assert col_sections in tile_outlines_tight.columns\n",
    "arr_sections = tile_outlines_tight[col_sections].unique()\n",
    "# tile_outlines_tight.head(5)\n",
    "\n",
    "path_individual_tiles = '/media/data-hdd/gis_pd/predictions/all_tiles_pd_notdissolved/predictions_LCU_2023-04-24-1259_notdissolved_padding44_FGH-override/'"
   ]
  },
  {
   "cell_type": "code",
   "execution_count": 17,
   "metadata": {},
   "outputs": [
    {
     "name": "stderr",
     "output_type": "stream",
     "text": [
      "  0%|          | 0/26 [00:00<?, ?it/s]"
     ]
    },
    {
     "name": "stderr",
     "output_type": "stream",
     "text": [
      "100%|██████████| 26/26 [00:00<00:00, 409.82it/s]\n"
     ]
    }
   ],
   "source": [
    "for section in tqdm(arr_sections):\n",
    "    tiles_in_section = list(tile_outlines_tight[tile_outlines_tight[col_sections] == section]['PLAN_NO'])\n",
    "\n",
    "    curr_dir_name = path_individual_tiles.split('/') \n",
    "    curr_dir_name = curr_dir_name[-1] if curr_dir_name[-1] != '' else curr_dir_name[-2]  # in case dir_indiv_tile_shp ends with '/'\n",
    "    filename_merger = f'merged_{curr_dir_name}_section-{section}.shp'\n",
    "\n",
    "    lca.merge_individual_shp_files(dir_indiv_tile_shp=path_individual_tiles, \n",
    "                                    delete_individual_shp_files=False,\n",
    "                                    list_tile_ids_to_merge=tiles_in_section,\n",
    "                                    filename=filename_merger)"
   ]
  },
  {
   "attachments": {},
   "cell_type": "markdown",
   "metadata": {},
   "source": [
    "## Merge detailed predictions in sections:\n",
    "Difference with main is that:\n",
    "- we need to merge 3 different shp files (C, D and E)\n",
    "- we need to exclude no-class predictions from each\n",
    "- we need to include FGH layer from main predictions \n",
    "- create new individual tiles on the fly? "
   ]
  },
  {
   "cell_type": "code",
   "execution_count": null,
   "metadata": {},
   "outputs": [],
   "source": [
    "tile_outlines_tight = lca.load_pols('../content/landscape_character_grid/Landscape_Character_Grid_tight.shp')\n",
    "assert len(tile_outlines_tight) == 1617 \n",
    "col_sections = '100_grid'\n",
    "assert col_sections in tile_outlines_tight.columns\n",
    "arr_sections = tile_outlines_tight[col_sections].unique()\n",
    "# tile_outlines_tight.head(5)3\n",
    "\n",
    "path_individual_tiles_main = '/media/data-hdd/gis_pd/predictions/all_tiles_pd_notdissolved/predictions_LCU_2023-04-24-1259_notdissolved_padding44_FGH-override/'\n",
    "path_individual_tiles_c = '/media/data-hdd/gis_pd/predictions/all_tiles_pd_notdissolved/'\n",
    "path_individual_tiles_d = '/media/data-hdd/gis_pd/predictions/all_tiles_pd_notdissolved/'\n",
    "path_individual_tiles_e = '/media/data-hdd/gis_pd/predictions/all_tiles_pd_notdissolved/'\n",
    "\n",
    "def create_list_all_subdirs(parent_dir):\n",
    "    return [os.path.join(parent_dir, x) for x in os.listdir(parent_dir) if os.path.isdir(os.path.join(parent_dir, x))]\n",
    "\n",
    "list_tiles_dict = {}\n",
    "list_tiles_dict['main'] = create_list_all_subdirs(path_individual_tiles_main)\n",
    "list_tiles_dict['c'] = create_list_all_subdirs(path_individual_tiles_c)\n",
    "list_tiles_dict['d'] = create_list_all_subdirs(path_individual_tiles_d)\n",
    "list_tiles_dict['e'] = create_list_all_subdirs(path_individual_tiles_e)\n",
    "\n",
    "for k, v in list_tiles_dict.items():\n",
    "    assert len(v) == 1617, f'len(v) = {len(v)} for k = {k}'"
   ]
  },
  {
   "cell_type": "code",
   "execution_count": null,
   "metadata": {},
   "outputs": [],
   "source": [
    "## Step 1: merge different predictions for the same tile into one file:\n",
    "path_folder_complete_tiles = '/media/data-hdd/gis_pd/predictions/all_tiles_pd_notdissolved/' \n",
    "list_tiles = list(tile_outlines_tight['PLAN_NO'])\n",
    "col_label = 'lc_label'\n",
    "\n",
    "for tile in list_tiles:\n",
    "    pols_dict = {}\n",
    "    for name_classifier, list_tiles_pred in list_tiles_dict.items():\n",
    "        curr_tile = [x for x in list_tiles_pred if tile in x]\n",
    "        assert len(curr_tile) == 1, f'len(curr_tile) = {len(curr_tile)}'\n",
    "        curr_tile = curr_tile[0]\n",
    "        pols_dict[name_classifier] = lca.load_pols(curr_tile)\n",
    "        if name_classifier == 'main':  # only keep FGH layer \n",
    "            pols_dict[name_classifier] = pols_dict[pols_dict[col_label].apply(lambda x: x[0]) in ['F', 'G', 'H']]\n",
    "        else:  # remove no class\n",
    "            pols_dict[name_classifier] = pols_dict[pols_dict[col_label] != '0']\n",
    "\n",
    "    pols_merged = gpd.concat([pols_dict['main'], pols_dict['c'], pols_dict['d'], pols_dict['e']])\n",
    "    total_area = pols_merged.area.sum()\n",
    "    assert total_area > 0, f'total_area = {total_area}'\n",
    "    assert np.isclose(total_area, 1e6, atol=1e1), f'total_area = {total_area}'\n",
    "\n",
    "    pols_merged.to_file(os.path.join(path_folder_complete_tiles, f'{tile}.shp'))"
   ]
  },
  {
   "cell_type": "code",
   "execution_count": 19,
   "metadata": {},
   "outputs": [],
   "source": [
    "## Step 2: merge all tiles into one file per section:\n",
    "path_folder_complete_tiles = '/media/data-hdd/gis_pd/predictions/all_tiles_pd_notdissolved/'\n",
    "path_folder_sections = '/media/data-hdd/gis_pd/predictions/all_tiles_pd_notdissolved/'\n",
    "\n",
    "for section in tqdm(arr_sections):\n",
    "    tiles_in_section = list(tile_outlines_tight[tile_outlines_tight[col_sections] == section]['PLAN_NO'])\n",
    "\n",
    "    curr_dir_name = path_folder_complete_tiles.split('/') \n",
    "    curr_dir_name = curr_dir_name[-1] if curr_dir_name[-1] != '' else curr_dir_name[-2]  # in case dir_indiv_tile_shp ends with '/'\n",
    "    filename_merger = f'merged_{curr_dir_name}_section-{section}.shp'\n",
    "\n",
    "    lca.merge_individual_shp_files(dir_indiv_tile_shp=path_folder_complete_tiles, \n",
    "                                    delete_individual_shp_files=False,\n",
    "                                    list_tile_ids_to_merge=tiles_in_section,\n",
    "                                    filename=filename_merger)\n",
    "    "
   ]
  },
  {
   "cell_type": "code",
   "execution_count": null,
   "metadata": {},
   "outputs": [],
   "source": []
  },
  {
   "attachments": {},
   "cell_type": "markdown",
   "metadata": {},
   "source": [
    "## Create 100km^2 grids for different mergers:"
   ]
  },
  {
   "cell_type": "code",
   "execution_count": 23,
   "metadata": {},
   "outputs": [],
   "source": [
    "outline_pd = lca.load_pols(path_dict['pd_outline'])\n",
    "outline_pd = outline_pd.iloc[0]['geometry']\n",
    "all_tiles = lca.load_pols(path_dict['landscape_character_grid_path'])\n",
    "all_tiles = all_tiles[all_tiles['geometry'].intersects(outline_pd)]\n",
    "all_tiles = all_tiles.reset_index(drop=True)\n",
    "assert len(all_tiles) == 1617"
   ]
  },
  {
   "cell_type": "code",
   "execution_count": 24,
   "metadata": {},
   "outputs": [
    {
     "data": {
      "text/plain": [
       "COUNTY\n",
       "CHESHIR    108\n",
       "DERBYSH    993\n",
       "GT MAN      32\n",
       "SOUTHYO    194\n",
       "STAFFOR    229\n",
       "WESTYOR     61\n",
       "dtype: int64"
      ]
     },
     "execution_count": 24,
     "metadata": {},
     "output_type": "execute_result"
    }
   ],
   "source": [
    "# all_tiles['COUNTY'].unique()\n",
    "## tiles per county:\n",
    "n_tiles_per_county = all_tiles.groupby('COUNTY').size()\n",
    "n_tiles_per_county"
   ]
  },
  {
   "cell_type": "code",
   "execution_count": 25,
   "metadata": {},
   "outputs": [],
   "source": [
    "all_tiles['100_grid'] = all_tiles['PLAN_NO'].apply(lambda x: x[:3] + x[4])"
   ]
  },
  {
   "cell_type": "code",
   "execution_count": 26,
   "metadata": {},
   "outputs": [
    {
     "data": {
      "text/plain": [
       "array(['SE00', 'SE01', 'SE10', 'SE20', 'SJ96', 'SJ97', 'SJ98', 'SK05',\n",
       "       'SK06', 'SK07', 'SK08', 'SK09', 'SK04', 'SK14', 'SK15', 'SK16',\n",
       "       'SK17', 'SK18', 'SK19', 'SK25', 'SK26', 'SK27', 'SK28', 'SK29',\n",
       "       'SK36', 'SK37'], dtype=object)"
      ]
     },
     "execution_count": 26,
     "metadata": {},
     "output_type": "execute_result"
    }
   ],
   "source": [
    "all_tiles['100_grid'].unique()"
   ]
  },
  {
   "cell_type": "code",
   "execution_count": 27,
   "metadata": {},
   "outputs": [],
   "source": [
    "all_tiles.to_file('/home/thijs/repos/cnn-land-cover/content/landscape_character_grid/Landscape_Character_Grid_tight.shp')"
   ]
  }
 ],
 "metadata": {
  "kernelspec": {
   "display_name": "geo",
   "language": "python",
   "name": "python3"
  },
  "language_info": {
   "codemirror_mode": {
    "name": "ipython",
    "version": 3
   },
   "file_extension": ".py",
   "mimetype": "text/x-python",
   "name": "python",
   "nbconvert_exporter": "python",
   "pygments_lexer": "ipython3",
   "version": "3.7.13"
  },
  "orig_nbformat": 4
 },
 "nbformat": 4,
 "nbformat_minor": 2
}
