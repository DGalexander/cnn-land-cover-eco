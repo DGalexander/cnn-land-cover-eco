{
 "cells": [
  {
   "cell_type": "code",
   "execution_count": 1,
   "metadata": {},
   "outputs": [],
   "source": [
    "%load_ext autoreload\n",
    "%autoreload 2"
   ]
  },
  {
   "cell_type": "code",
   "execution_count": 2,
   "metadata": {},
   "outputs": [
    {
     "name": "stderr",
     "output_type": "stream",
     "text": [
      "/home/tplas/anaconda3/envs/geo/lib/python3.7/site-packages/geopandas/_compat.py:115: UserWarning: The Shapely GEOS version (3.8.0-CAPI-1.13.1 ) is incompatible with the GEOS version PyGEOS was compiled with (3.10.4-CAPI-1.16.2). Conversions between both will be slow.\n",
      "  shapely_geos_version, geos_capi_version_string\n"
     ]
    },
    {
     "name": "stdout",
     "output_type": "stream",
     "text": [
      "WARNING: creating label mapping dictionary corresponding to LC80 schema (ie missing few classes)\n",
      "adding scrub\n",
      "splitting up heath\n",
      "adding wetland\n",
      "adding transport\n"
     ]
    }
   ],
   "source": [
    "import geopandas as gpd\n",
    "import pandas as pd\n",
    "import os\n",
    "import numpy as np\n",
    "import matplotlib.pyplot as plt \n",
    "import shapely as shp\n",
    "import os, sys\n",
    "from tqdm import tqdm\n",
    "sys.path.append('../scripts/')\n",
    "import loadpaths\n",
    "import land_cover_analysis as lca\n",
    "import land_cover_visualisation as lcv\n",
    "path_dict = loadpaths.loadpaths()\n"
   ]
  },
  {
   "attachments": {},
   "cell_type": "markdown",
   "metadata": {},
   "source": [
    "## Merge main predictions in sections:"
   ]
  },
  {
   "cell_type": "code",
   "execution_count": 3,
   "metadata": {},
   "outputs": [],
   "source": [
    "tile_outlines_tight = lca.load_pols('../content/landscape_character_grid/Landscape_Character_Grid_tight.shp')\n",
    "assert len(tile_outlines_tight) == 1617 \n",
    "col_sections = '100_grid'\n",
    "assert col_sections in tile_outlines_tight.columns\n",
    "arr_sections = tile_outlines_tight[col_sections].unique()\n",
    "# tile_outlines_tight.head(5)\n",
    "\n",
    "path_individual_tiles = '/media/data-hdd/gis_pd/predictions/all_tiles_pd_notdissolved/predictions_LCU_2023-04-24-1259_notdissolved_padding44_FGH-override/individual_tiles/'\n",
    "assert len(os.listdir(path_individual_tiles)) == 1617\n",
    "dir_save_merger = '/media/data-hdd/gis_pd/predictions/all_tiles_pd_notdissolved/predictions_LCU_2023-04-24-1259_notdissolved_padding44_FGH-override/merged_tiles_100kmsections/'\n"
   ]
  },
  {
   "cell_type": "code",
   "execution_count": 4,
   "metadata": {},
   "outputs": [
    {
     "name": "stderr",
     "output_type": "stream",
     "text": [
      "  0%|          | 0/26 [00:00<?, ?it/s]"
     ]
    },
    {
     "name": "stdout",
     "output_type": "stream",
     "text": [
      "Found 95/1617 tiles in /media/data-hdd/gis_pd/predictions/all_tiles_pd_notdissolved/predictions_LCU_2023-04-24-1259_notdissolved_padding44_FGH-override/individual_tiles/ with tile ids\n",
      "Merging 95 tiles found in /media/data-hdd/gis_pd/predictions/all_tiles_pd_notdissolved/predictions_LCU_2023-04-24-1259_notdissolved_padding44_FGH-override/individual_tiles/\n"
     ]
    },
    {
     "name": "stderr",
     "output_type": "stream",
     "text": [
      "\n",
      "0it [00:00, ?it/s]"
     ]
    },
    {
     "name": "stderr",
     "output_type": "stream",
     "text": [
      "95it [00:08, 11.78it/s]\n",
      "  4%|▍         | 1/26 [00:30<12:37, 30.32s/it]"
     ]
    },
    {
     "name": "stdout",
     "output_type": "stream",
     "text": [
      "Found 12/1617 tiles in /media/data-hdd/gis_pd/predictions/all_tiles_pd_notdissolved/predictions_LCU_2023-04-24-1259_notdissolved_padding44_FGH-override/individual_tiles/ with tile ids\n",
      "Merging 12 tiles found in /media/data-hdd/gis_pd/predictions/all_tiles_pd_notdissolved/predictions_LCU_2023-04-24-1259_notdissolved_padding44_FGH-override/individual_tiles/\n"
     ]
    },
    {
     "name": "stderr",
     "output_type": "stream",
     "text": [
      "12it [00:01,  6.50it/s]\n",
      "  8%|▊         | 2/26 [00:39<07:15, 18.16s/it]"
     ]
    },
    {
     "name": "stdout",
     "output_type": "stream",
     "text": [
      "Found 51/1617 tiles in /media/data-hdd/gis_pd/predictions/all_tiles_pd_notdissolved/predictions_LCU_2023-04-24-1259_notdissolved_padding44_FGH-override/individual_tiles/ with tile ids\n",
      "Merging 51 tiles found in /media/data-hdd/gis_pd/predictions/all_tiles_pd_notdissolved/predictions_LCU_2023-04-24-1259_notdissolved_padding44_FGH-override/individual_tiles/\n"
     ]
    },
    {
     "name": "stderr",
     "output_type": "stream",
     "text": [
      "51it [00:05,  9.59it/s]\n",
      " 12%|█▏        | 3/26 [01:00<07:27, 19.46s/it]"
     ]
    },
    {
     "name": "stdout",
     "output_type": "stream",
     "text": [
      "Found 3/1617 tiles in /media/data-hdd/gis_pd/predictions/all_tiles_pd_notdissolved/predictions_LCU_2023-04-24-1259_notdissolved_padding44_FGH-override/individual_tiles/ with tile ids\n",
      "Merging 3 tiles found in /media/data-hdd/gis_pd/predictions/all_tiles_pd_notdissolved/predictions_LCU_2023-04-24-1259_notdissolved_padding44_FGH-override/individual_tiles/\n"
     ]
    },
    {
     "name": "stderr",
     "output_type": "stream",
     "text": [
      "3it [00:00,  5.18it/s]\n",
      " 15%|█▌        | 4/26 [01:03<04:40, 12.74s/it]"
     ]
    },
    {
     "name": "stdout",
     "output_type": "stream",
     "text": [
      "Found 58/1617 tiles in /media/data-hdd/gis_pd/predictions/all_tiles_pd_notdissolved/predictions_LCU_2023-04-24-1259_notdissolved_padding44_FGH-override/individual_tiles/ with tile ids\n",
      "Merging 58 tiles found in /media/data-hdd/gis_pd/predictions/all_tiles_pd_notdissolved/predictions_LCU_2023-04-24-1259_notdissolved_padding44_FGH-override/individual_tiles/\n"
     ]
    },
    {
     "name": "stderr",
     "output_type": "stream",
     "text": [
      "58it [00:08,  7.22it/s]\n",
      " 19%|█▉        | 5/26 [01:37<07:09, 20.44s/it]"
     ]
    },
    {
     "name": "stdout",
     "output_type": "stream",
     "text": [
      "Found 56/1617 tiles in /media/data-hdd/gis_pd/predictions/all_tiles_pd_notdissolved/predictions_LCU_2023-04-24-1259_notdissolved_padding44_FGH-override/individual_tiles/ with tile ids\n",
      "Merging 56 tiles found in /media/data-hdd/gis_pd/predictions/all_tiles_pd_notdissolved/predictions_LCU_2023-04-24-1259_notdissolved_padding44_FGH-override/individual_tiles/\n"
     ]
    },
    {
     "name": "stderr",
     "output_type": "stream",
     "text": [
      "56it [00:07,  7.83it/s]\n",
      " 23%|██▎       | 6/26 [02:07<07:53, 23.70s/it]"
     ]
    },
    {
     "name": "stdout",
     "output_type": "stream",
     "text": [
      "Found 19/1617 tiles in /media/data-hdd/gis_pd/predictions/all_tiles_pd_notdissolved/predictions_LCU_2023-04-24-1259_notdissolved_padding44_FGH-override/individual_tiles/ with tile ids\n",
      "Merging 19 tiles found in /media/data-hdd/gis_pd/predictions/all_tiles_pd_notdissolved/predictions_LCU_2023-04-24-1259_notdissolved_padding44_FGH-override/individual_tiles/\n"
     ]
    },
    {
     "name": "stderr",
     "output_type": "stream",
     "text": [
      "19it [00:03,  5.74it/s]\n",
      " 27%|██▋       | 7/26 [02:23<06:40, 21.10s/it]"
     ]
    },
    {
     "name": "stdout",
     "output_type": "stream",
     "text": [
      "Found 67/1617 tiles in /media/data-hdd/gis_pd/predictions/all_tiles_pd_notdissolved/predictions_LCU_2023-04-24-1259_notdissolved_padding44_FGH-override/individual_tiles/ with tile ids\n",
      "Merging 67 tiles found in /media/data-hdd/gis_pd/predictions/all_tiles_pd_notdissolved/predictions_LCU_2023-04-24-1259_notdissolved_padding44_FGH-override/individual_tiles/\n"
     ]
    },
    {
     "name": "stderr",
     "output_type": "stream",
     "text": [
      "67it [00:08,  7.70it/s]\n",
      " 31%|███       | 8/26 [02:59<07:44, 25.80s/it]"
     ]
    },
    {
     "name": "stdout",
     "output_type": "stream",
     "text": [
      "Found 100/1617 tiles in /media/data-hdd/gis_pd/predictions/all_tiles_pd_notdissolved/predictions_LCU_2023-04-24-1259_notdissolved_padding44_FGH-override/individual_tiles/ with tile ids\n",
      "Merging 100 tiles found in /media/data-hdd/gis_pd/predictions/all_tiles_pd_notdissolved/predictions_LCU_2023-04-24-1259_notdissolved_padding44_FGH-override/individual_tiles/\n"
     ]
    },
    {
     "name": "stderr",
     "output_type": "stream",
     "text": [
      "100it [00:14,  7.14it/s]\n",
      " 35%|███▍      | 9/26 [03:57<10:10, 35.93s/it]"
     ]
    },
    {
     "name": "stdout",
     "output_type": "stream",
     "text": [
      "Found 69/1617 tiles in /media/data-hdd/gis_pd/predictions/all_tiles_pd_notdissolved/predictions_LCU_2023-04-24-1259_notdissolved_padding44_FGH-override/individual_tiles/ with tile ids\n",
      "Merging 69 tiles found in /media/data-hdd/gis_pd/predictions/all_tiles_pd_notdissolved/predictions_LCU_2023-04-24-1259_notdissolved_padding44_FGH-override/individual_tiles/\n"
     ]
    },
    {
     "name": "stderr",
     "output_type": "stream",
     "text": [
      "69it [00:10,  6.44it/s]\n",
      " 38%|███▊      | 10/26 [04:42<10:20, 38.76s/it]"
     ]
    },
    {
     "name": "stdout",
     "output_type": "stream",
     "text": [
      "Found 76/1617 tiles in /media/data-hdd/gis_pd/predictions/all_tiles_pd_notdissolved/predictions_LCU_2023-04-24-1259_notdissolved_padding44_FGH-override/individual_tiles/ with tile ids\n",
      "Merging 76 tiles found in /media/data-hdd/gis_pd/predictions/all_tiles_pd_notdissolved/predictions_LCU_2023-04-24-1259_notdissolved_padding44_FGH-override/individual_tiles/\n"
     ]
    },
    {
     "name": "stderr",
     "output_type": "stream",
     "text": [
      "76it [00:11,  6.89it/s]\n",
      " 42%|████▏     | 11/26 [05:31<10:27, 41.81s/it]"
     ]
    },
    {
     "name": "stdout",
     "output_type": "stream",
     "text": [
      "Found 85/1617 tiles in /media/data-hdd/gis_pd/predictions/all_tiles_pd_notdissolved/predictions_LCU_2023-04-24-1259_notdissolved_padding44_FGH-override/individual_tiles/ with tile ids\n",
      "Merging 85 tiles found in /media/data-hdd/gis_pd/predictions/all_tiles_pd_notdissolved/predictions_LCU_2023-04-24-1259_notdissolved_padding44_FGH-override/individual_tiles/\n"
     ]
    },
    {
     "name": "stderr",
     "output_type": "stream",
     "text": [
      "85it [00:11,  7.54it/s]\n",
      " 46%|████▌     | 12/26 [06:22<10:25, 44.65s/it]"
     ]
    },
    {
     "name": "stdout",
     "output_type": "stream",
     "text": [
      "Found 1/1617 tiles in /media/data-hdd/gis_pd/predictions/all_tiles_pd_notdissolved/predictions_LCU_2023-04-24-1259_notdissolved_padding44_FGH-override/individual_tiles/ with tile ids\n",
      "Merging 1 tiles found in /media/data-hdd/gis_pd/predictions/all_tiles_pd_notdissolved/predictions_LCU_2023-04-24-1259_notdissolved_padding44_FGH-override/individual_tiles/\n"
     ]
    },
    {
     "name": "stderr",
     "output_type": "stream",
     "text": [
      "1it [00:00,  5.21it/s]\n",
      " 50%|█████     | 13/26 [06:23<06:48, 31.45s/it]"
     ]
    },
    {
     "name": "stdout",
     "output_type": "stream",
     "text": [
      "Found 17/1617 tiles in /media/data-hdd/gis_pd/predictions/all_tiles_pd_notdissolved/predictions_LCU_2023-04-24-1259_notdissolved_padding44_FGH-override/individual_tiles/ with tile ids\n",
      "Merging 17 tiles found in /media/data-hdd/gis_pd/predictions/all_tiles_pd_notdissolved/predictions_LCU_2023-04-24-1259_notdissolved_padding44_FGH-override/individual_tiles/\n"
     ]
    },
    {
     "name": "stderr",
     "output_type": "stream",
     "text": [
      "17it [00:02,  7.50it/s]\n",
      " 54%|█████▍    | 14/26 [06:33<04:58, 24.88s/it]"
     ]
    },
    {
     "name": "stdout",
     "output_type": "stream",
     "text": [
      "Found 100/1617 tiles in /media/data-hdd/gis_pd/predictions/all_tiles_pd_notdissolved/predictions_LCU_2023-04-24-1259_notdissolved_padding44_FGH-override/individual_tiles/ with tile ids\n",
      "Merging 100 tiles found in /media/data-hdd/gis_pd/predictions/all_tiles_pd_notdissolved/predictions_LCU_2023-04-24-1259_notdissolved_padding44_FGH-override/individual_tiles/\n"
     ]
    },
    {
     "name": "stderr",
     "output_type": "stream",
     "text": [
      "100it [00:10,  9.34it/s]\n",
      " 58%|█████▊    | 15/26 [07:14<05:28, 29.84s/it]"
     ]
    },
    {
     "name": "stdout",
     "output_type": "stream",
     "text": [
      "Found 100/1617 tiles in /media/data-hdd/gis_pd/predictions/all_tiles_pd_notdissolved/predictions_LCU_2023-04-24-1259_notdissolved_padding44_FGH-override/individual_tiles/ with tile ids\n",
      "Merging 100 tiles found in /media/data-hdd/gis_pd/predictions/all_tiles_pd_notdissolved/predictions_LCU_2023-04-24-1259_notdissolved_padding44_FGH-override/individual_tiles/\n"
     ]
    },
    {
     "name": "stderr",
     "output_type": "stream",
     "text": [
      "100it [00:07, 13.40it/s]\n",
      " 62%|██████▏   | 16/26 [07:39<04:44, 28.50s/it]"
     ]
    },
    {
     "name": "stdout",
     "output_type": "stream",
     "text": [
      "Found 100/1617 tiles in /media/data-hdd/gis_pd/predictions/all_tiles_pd_notdissolved/predictions_LCU_2023-04-24-1259_notdissolved_padding44_FGH-override/individual_tiles/ with tile ids\n",
      "Merging 100 tiles found in /media/data-hdd/gis_pd/predictions/all_tiles_pd_notdissolved/predictions_LCU_2023-04-24-1259_notdissolved_padding44_FGH-override/individual_tiles/\n"
     ]
    },
    {
     "name": "stderr",
     "output_type": "stream",
     "text": [
      "100it [00:07, 12.75it/s]\n",
      " 65%|██████▌   | 17/26 [08:07<04:14, 28.27s/it]"
     ]
    },
    {
     "name": "stdout",
     "output_type": "stream",
     "text": [
      "Found 100/1617 tiles in /media/data-hdd/gis_pd/predictions/all_tiles_pd_notdissolved/predictions_LCU_2023-04-24-1259_notdissolved_padding44_FGH-override/individual_tiles/ with tile ids\n",
      "Merging 100 tiles found in /media/data-hdd/gis_pd/predictions/all_tiles_pd_notdissolved/predictions_LCU_2023-04-24-1259_notdissolved_padding44_FGH-override/individual_tiles/\n"
     ]
    },
    {
     "name": "stderr",
     "output_type": "stream",
     "text": [
      "100it [00:12,  7.97it/s]\n",
      " 69%|██████▉   | 18/26 [08:56<04:36, 34.60s/it]"
     ]
    },
    {
     "name": "stdout",
     "output_type": "stream",
     "text": [
      "Found 100/1617 tiles in /media/data-hdd/gis_pd/predictions/all_tiles_pd_notdissolved/predictions_LCU_2023-04-24-1259_notdissolved_padding44_FGH-override/individual_tiles/ with tile ids\n",
      "Merging 100 tiles found in /media/data-hdd/gis_pd/predictions/all_tiles_pd_notdissolved/predictions_LCU_2023-04-24-1259_notdissolved_padding44_FGH-override/individual_tiles/\n"
     ]
    },
    {
     "name": "stderr",
     "output_type": "stream",
     "text": [
      "100it [00:06, 15.81it/s]\n",
      " 73%|███████▎  | 19/26 [09:17<03:32, 30.30s/it]"
     ]
    },
    {
     "name": "stdout",
     "output_type": "stream",
     "text": [
      "Found 40/1617 tiles in /media/data-hdd/gis_pd/predictions/all_tiles_pd_notdissolved/predictions_LCU_2023-04-24-1259_notdissolved_padding44_FGH-override/individual_tiles/ with tile ids\n",
      "Merging 40 tiles found in /media/data-hdd/gis_pd/predictions/all_tiles_pd_notdissolved/predictions_LCU_2023-04-24-1259_notdissolved_padding44_FGH-override/individual_tiles/\n"
     ]
    },
    {
     "name": "stderr",
     "output_type": "stream",
     "text": [
      "40it [00:05,  7.71it/s]\n",
      " 77%|███████▋  | 20/26 [09:38<02:46, 27.68s/it]"
     ]
    },
    {
     "name": "stdout",
     "output_type": "stream",
     "text": [
      "Found 82/1617 tiles in /media/data-hdd/gis_pd/predictions/all_tiles_pd_notdissolved/predictions_LCU_2023-04-24-1259_notdissolved_padding44_FGH-override/individual_tiles/ with tile ids\n",
      "Merging 82 tiles found in /media/data-hdd/gis_pd/predictions/all_tiles_pd_notdissolved/predictions_LCU_2023-04-24-1259_notdissolved_padding44_FGH-override/individual_tiles/\n"
     ]
    },
    {
     "name": "stderr",
     "output_type": "stream",
     "text": [
      "82it [00:10,  7.79it/s]\n",
      " 81%|████████  | 21/26 [10:19<02:38, 31.67s/it]"
     ]
    },
    {
     "name": "stdout",
     "output_type": "stream",
     "text": [
      "Found 100/1617 tiles in /media/data-hdd/gis_pd/predictions/all_tiles_pd_notdissolved/predictions_LCU_2023-04-24-1259_notdissolved_padding44_FGH-override/individual_tiles/ with tile ids\n",
      "Merging 100 tiles found in /media/data-hdd/gis_pd/predictions/all_tiles_pd_notdissolved/predictions_LCU_2023-04-24-1259_notdissolved_padding44_FGH-override/individual_tiles/\n"
     ]
    },
    {
     "name": "stderr",
     "output_type": "stream",
     "text": [
      "100it [00:13,  7.19it/s]\n",
      " 85%|████████▍ | 22/26 [11:16<02:36, 39.23s/it]"
     ]
    },
    {
     "name": "stdout",
     "output_type": "stream",
     "text": [
      "Found 92/1617 tiles in /media/data-hdd/gis_pd/predictions/all_tiles_pd_notdissolved/predictions_LCU_2023-04-24-1259_notdissolved_padding44_FGH-override/individual_tiles/ with tile ids\n",
      "Merging 92 tiles found in /media/data-hdd/gis_pd/predictions/all_tiles_pd_notdissolved/predictions_LCU_2023-04-24-1259_notdissolved_padding44_FGH-override/individual_tiles/\n"
     ]
    },
    {
     "name": "stderr",
     "output_type": "stream",
     "text": [
      "92it [00:13,  6.94it/s]\n",
      " 88%|████████▊ | 23/26 [12:10<02:10, 43.66s/it]"
     ]
    },
    {
     "name": "stdout",
     "output_type": "stream",
     "text": [
      "Found 76/1617 tiles in /media/data-hdd/gis_pd/predictions/all_tiles_pd_notdissolved/predictions_LCU_2023-04-24-1259_notdissolved_padding44_FGH-override/individual_tiles/ with tile ids\n",
      "Merging 76 tiles found in /media/data-hdd/gis_pd/predictions/all_tiles_pd_notdissolved/predictions_LCU_2023-04-24-1259_notdissolved_padding44_FGH-override/individual_tiles/\n"
     ]
    },
    {
     "name": "stderr",
     "output_type": "stream",
     "text": [
      "76it [00:11,  6.67it/s]\n",
      " 92%|█████████▏| 24/26 [12:58<01:29, 44.87s/it]"
     ]
    },
    {
     "name": "stdout",
     "output_type": "stream",
     "text": [
      "Found 8/1617 tiles in /media/data-hdd/gis_pd/predictions/all_tiles_pd_notdissolved/predictions_LCU_2023-04-24-1259_notdissolved_padding44_FGH-override/individual_tiles/ with tile ids\n",
      "Merging 8 tiles found in /media/data-hdd/gis_pd/predictions/all_tiles_pd_notdissolved/predictions_LCU_2023-04-24-1259_notdissolved_padding44_FGH-override/individual_tiles/\n"
     ]
    },
    {
     "name": "stderr",
     "output_type": "stream",
     "text": [
      "8it [00:01,  7.36it/s]\n",
      " 96%|█████████▌| 25/26 [13:04<00:33, 33.32s/it]"
     ]
    },
    {
     "name": "stdout",
     "output_type": "stream",
     "text": [
      "Found 10/1617 tiles in /media/data-hdd/gis_pd/predictions/all_tiles_pd_notdissolved/predictions_LCU_2023-04-24-1259_notdissolved_padding44_FGH-override/individual_tiles/ with tile ids\n",
      "Merging 10 tiles found in /media/data-hdd/gis_pd/predictions/all_tiles_pd_notdissolved/predictions_LCU_2023-04-24-1259_notdissolved_padding44_FGH-override/individual_tiles/\n"
     ]
    },
    {
     "name": "stderr",
     "output_type": "stream",
     "text": [
      "10it [00:01,  9.16it/s]\n",
      "100%|██████████| 26/26 [13:10<00:00, 30.41s/it]\n"
     ]
    }
   ],
   "source": [
    "for section in tqdm(arr_sections):\n",
    "    tiles_in_section = list(tile_outlines_tight[tile_outlines_tight[col_sections] == section]['PLAN_NO'])\n",
    "\n",
    "    curr_dir_name = path_individual_tiles.split('/') \n",
    "    curr_dir_name = curr_dir_name[-2] if curr_dir_name[-1] != '' else curr_dir_name[-3]  # in case dir_indiv_tile_shp ends with '/'\n",
    "    filename_merger = f'merged_{curr_dir_name}_section-{section}.shp'\n",
    "\n",
    "    lca.merge_individual_shp_files(dir_indiv_tile_shp=path_individual_tiles, \n",
    "                                    delete_individual_shp_files=False,\n",
    "                                    list_tile_ids_to_merge=tiles_in_section,\n",
    "                                    filename=filename_merger,\n",
    "                                    dir_save_merger=dir_save_merger)"
   ]
  },
  {
   "attachments": {},
   "cell_type": "markdown",
   "metadata": {},
   "source": [
    "## Merge detailed predictions in sections:\n",
    "Difference with main is that:\n",
    "- we need to merge 3 different shp files (C, D and E)\n",
    "- we need to exclude no-class predictions from each\n",
    "- we need to include FGH layer from main predictions \n",
    "- create new individual tiles on the fly? "
   ]
  },
  {
   "cell_type": "code",
   "execution_count": 49,
   "metadata": {},
   "outputs": [
    {
     "ename": "AssertionError",
     "evalue": "len(v) = 1617 for k = main",
     "output_type": "error",
     "traceback": [
      "\u001b[0;31m---------------------------------------------------------------------------\u001b[0m",
      "\u001b[0;31mAssertionError\u001b[0m                            Traceback (most recent call last)",
      "\u001b[0;32m/tmp/ipykernel_614695/1884126494.py\u001b[0m in \u001b[0;36m<module>\u001b[0;34m\u001b[0m\n\u001b[1;32m     25\u001b[0m \u001b[0;34m\u001b[0m\u001b[0m\n\u001b[1;32m     26\u001b[0m \u001b[0;32mfor\u001b[0m \u001b[0mk\u001b[0m\u001b[0;34m,\u001b[0m \u001b[0mv\u001b[0m \u001b[0;32min\u001b[0m \u001b[0mlist_tiles_dict\u001b[0m\u001b[0;34m.\u001b[0m\u001b[0mitems\u001b[0m\u001b[0;34m(\u001b[0m\u001b[0;34m)\u001b[0m\u001b[0;34m:\u001b[0m\u001b[0;34m\u001b[0m\u001b[0;34m\u001b[0m\u001b[0m\n\u001b[0;32m---> 27\u001b[0;31m     \u001b[0;32massert\u001b[0m \u001b[0mlen\u001b[0m\u001b[0;34m(\u001b[0m\u001b[0mv\u001b[0m\u001b[0;34m)\u001b[0m \u001b[0;34m==\u001b[0m \u001b[0mn_expected_tiles\u001b[0m\u001b[0;34m,\u001b[0m \u001b[0;34mf'len(v) = {len(v)} for k = {k}'\u001b[0m\u001b[0;34m\u001b[0m\u001b[0;34m\u001b[0m\u001b[0m\n\u001b[0m",
      "\u001b[0;31mAssertionError\u001b[0m: len(v) = 1617 for k = main"
     ]
    }
   ],
   "source": [
    "tile_outlines_tight = lca.load_pols('../content/landscape_character_grid/Landscape_Character_Grid_tight.shp')\n",
    "# n_expected_tiles = 1617\n",
    "tile_outlines_tight = tile_outlines_tight[tile_outlines_tight['PLAN_NO'].isin(['SJ9661', 'SJ9762'])]\n",
    "n_expected_tiles = 2\n",
    "\n",
    "assert len(tile_outlines_tight) == n_expected_tiles \n",
    "col_sections = '100_grid'\n",
    "assert col_sections in tile_outlines_tight.columns\n",
    "arr_sections = tile_outlines_tight[col_sections].unique()\n",
    "# tile_outlines_tight.head(5)3\n",
    "\n",
    "path_individual_tiles_main = '/media/data-hdd/gis_pd/predictions/all_tiles_pd_notdissolved/predictions_LCU_2023-04-24-1259_notdissolved_padding44_FGH-override/individual_tiles/'\n",
    "path_individual_tiles_c = '/media/data-hdd/gis_pd/predictions/all_tiles_pd_notdissolved/predictions_LCU_2023-04-21-1335_notdissolved_clippedC_padding44/individual_tiles/'\n",
    "path_individual_tiles_d = '/media/data-hdd/gis_pd/predictions/all_tiles_pd_notdissolved/predictions_LCU_2023-04-25-2057_notdissolved_clippedD_padding44/individual_tiles/'\n",
    "path_individual_tiles_e = '/media/data-hdd/gis_pd/predictions/all_tiles_pd_notdissolved/predictions_LCU_2023-04-24-1216_notdissolved_clippedE_padding44/individual_tiles/'\n",
    "\n",
    "def create_list_all_subdirs(parent_dir):\n",
    "    return [os.path.join(parent_dir, x) for x in os.listdir(parent_dir) if os.path.isdir(os.path.join(parent_dir, x))]\n",
    "\n",
    "list_tiles_dict = {}\n",
    "list_tiles_dict['main'] = create_list_all_subdirs(path_individual_tiles_main)\n",
    "list_tiles_dict['c'] = create_list_all_subdirs(path_individual_tiles_c)\n",
    "list_tiles_dict['d'] = create_list_all_subdirs(path_individual_tiles_d)\n",
    "list_tiles_dict['e'] = create_list_all_subdirs(path_individual_tiles_e)\n",
    "\n",
    "for k, v in list_tiles_dict.items():\n",
    "    assert len(v) == n_expected_tiles, f'len(v) = {len(v)} for k = {k}'"
   ]
  },
  {
   "cell_type": "code",
   "execution_count": 50,
   "metadata": {},
   "outputs": [
    {
     "name": "stdout",
     "output_type": "stream",
     "text": [
      "WARNING: creating label mapping dictionary corresponding to LC80 schema (ie missing few classes)\n",
      "adding scrub\n",
      "splitting up heath\n",
      "adding wetland\n",
      "adding transport\n"
     ]
    }
   ],
   "source": [
    "df_schema = lca.create_df_mapping_labels_2022_to_80s()\n",
    "dict_mapping_code_to_name = dict(zip(df_schema['code_2022'], df_schema['description_2022']))\n",
    "dict_mapping_code_to_name['G2'] = dict_mapping_code_to_name['G2a']\n",
    "# dict_mapping_code_to_name"
   ]
  },
  {
   "cell_type": "code",
   "execution_count": 51,
   "metadata": {},
   "outputs": [
    {
     "data": {
      "text/html": [
       "<div>\n",
       "<style scoped>\n",
       "    .dataframe tbody tr th:only-of-type {\n",
       "        vertical-align: middle;\n",
       "    }\n",
       "\n",
       "    .dataframe tbody tr th {\n",
       "        vertical-align: top;\n",
       "    }\n",
       "\n",
       "    .dataframe thead th {\n",
       "        text-align: right;\n",
       "    }\n",
       "</style>\n",
       "<table border=\"1\" class=\"dataframe\">\n",
       "  <thead>\n",
       "    <tr style=\"text-align: right;\">\n",
       "      <th></th>\n",
       "      <th>lc_label</th>\n",
       "      <th>source</th>\n",
       "      <th>geometry</th>\n",
       "      <th>Class name</th>\n",
       "    </tr>\n",
       "  </thead>\n",
       "  <tbody>\n",
       "    <tr>\n",
       "      <th>0</th>\n",
       "      <td>H1a</td>\n",
       "      <td>OS NGD retrieved 2023-06-07</td>\n",
       "      <td>POLYGON ((397665.740 362044.240, 397660.980 36...</td>\n",
       "      <td>Urban</td>\n",
       "    </tr>\n",
       "    <tr>\n",
       "      <th>1</th>\n",
       "      <td>H1a</td>\n",
       "      <td>OS NGD retrieved 2023-06-07</td>\n",
       "      <td>POLYGON ((397901.520 362917.670, 397898.200 36...</td>\n",
       "      <td>Urban</td>\n",
       "    </tr>\n",
       "    <tr>\n",
       "      <th>2</th>\n",
       "      <td>H1a</td>\n",
       "      <td>OS NGD retrieved 2023-06-07</td>\n",
       "      <td>POLYGON ((397094.280 362998.740, 397094.320 36...</td>\n",
       "      <td>Urban</td>\n",
       "    </tr>\n",
       "    <tr>\n",
       "      <th>3</th>\n",
       "      <td>H1a</td>\n",
       "      <td>OS NGD retrieved 2023-06-07</td>\n",
       "      <td>POLYGON ((398000.000 362287.050, 397999.850 36...</td>\n",
       "      <td>Urban</td>\n",
       "    </tr>\n",
       "    <tr>\n",
       "      <th>4</th>\n",
       "      <td>H1b</td>\n",
       "      <td>OS NGD retrieved 2023-06-07</td>\n",
       "      <td>POLYGON ((397541.370 362013.360, 397538.160 36...</td>\n",
       "      <td>Major Transport Routes</td>\n",
       "    </tr>\n",
       "    <tr>\n",
       "      <th>...</th>\n",
       "      <td>...</td>\n",
       "      <td>...</td>\n",
       "      <td>...</td>\n",
       "      <td>...</td>\n",
       "    </tr>\n",
       "    <tr>\n",
       "      <th>2427</th>\n",
       "      <td>F3d</td>\n",
       "      <td>model prediction</td>\n",
       "      <td>POLYGON ((397035.500 362118.625, 397036.625 36...</td>\n",
       "      <td>Wetland, Wet Grassland and Rush Pasture</td>\n",
       "    </tr>\n",
       "    <tr>\n",
       "      <th>2428</th>\n",
       "      <td>F3d</td>\n",
       "      <td>model prediction</td>\n",
       "      <td>POLYGON ((397695.500 362056.375, 397695.875 36...</td>\n",
       "      <td>Wetland, Wet Grassland and Rush Pasture</td>\n",
       "    </tr>\n",
       "    <tr>\n",
       "      <th>2429</th>\n",
       "      <td>F3d</td>\n",
       "      <td>model prediction</td>\n",
       "      <td>POLYGON ((397478.625 362011.125, 397479.250 36...</td>\n",
       "      <td>Wetland, Wet Grassland and Rush Pasture</td>\n",
       "    </tr>\n",
       "    <tr>\n",
       "      <th>2430</th>\n",
       "      <td>E2a</td>\n",
       "      <td>model prediction</td>\n",
       "      <td>POLYGON ((397024.000 362246.125, 397025.000 36...</td>\n",
       "      <td>Improved Pasture</td>\n",
       "    </tr>\n",
       "    <tr>\n",
       "      <th>2431</th>\n",
       "      <td>E2a</td>\n",
       "      <td>model prediction</td>\n",
       "      <td>POLYGON ((397136.625 363000.000, 397160.625 36...</td>\n",
       "      <td>Improved Pasture</td>\n",
       "    </tr>\n",
       "  </tbody>\n",
       "</table>\n",
       "<p>2432 rows × 4 columns</p>\n",
       "</div>"
      ],
      "text/plain": [
       "     lc_label                       source  \\\n",
       "0         H1a  OS NGD retrieved 2023-06-07   \n",
       "1         H1a  OS NGD retrieved 2023-06-07   \n",
       "2         H1a  OS NGD retrieved 2023-06-07   \n",
       "3         H1a  OS NGD retrieved 2023-06-07   \n",
       "4         H1b  OS NGD retrieved 2023-06-07   \n",
       "...       ...                          ...   \n",
       "2427      F3d             model prediction   \n",
       "2428      F3d             model prediction   \n",
       "2429      F3d             model prediction   \n",
       "2430      E2a             model prediction   \n",
       "2431      E2a             model prediction   \n",
       "\n",
       "                                               geometry  \\\n",
       "0     POLYGON ((397665.740 362044.240, 397660.980 36...   \n",
       "1     POLYGON ((397901.520 362917.670, 397898.200 36...   \n",
       "2     POLYGON ((397094.280 362998.740, 397094.320 36...   \n",
       "3     POLYGON ((398000.000 362287.050, 397999.850 36...   \n",
       "4     POLYGON ((397541.370 362013.360, 397538.160 36...   \n",
       "...                                                 ...   \n",
       "2427  POLYGON ((397035.500 362118.625, 397036.625 36...   \n",
       "2428  POLYGON ((397695.500 362056.375, 397695.875 36...   \n",
       "2429  POLYGON ((397478.625 362011.125, 397479.250 36...   \n",
       "2430  POLYGON ((397024.000 362246.125, 397025.000 36...   \n",
       "2431  POLYGON ((397136.625 363000.000, 397160.625 36...   \n",
       "\n",
       "                                   Class name  \n",
       "0                                       Urban  \n",
       "1                                       Urban  \n",
       "2                                       Urban  \n",
       "3                                       Urban  \n",
       "4                      Major Transport Routes  \n",
       "...                                       ...  \n",
       "2427  Wetland, Wet Grassland and Rush Pasture  \n",
       "2428  Wetland, Wet Grassland and Rush Pasture  \n",
       "2429  Wetland, Wet Grassland and Rush Pasture  \n",
       "2430                         Improved Pasture  \n",
       "2431                         Improved Pasture  \n",
       "\n",
       "[2432 rows x 4 columns]"
      ]
     },
     "execution_count": 51,
     "metadata": {},
     "output_type": "execute_result"
    }
   ],
   "source": [
    "# pols_merged.plot(column='lc_label')\n",
    "# print(tile, len(tile), total_area)\n",
    "pols_merged"
   ]
  },
  {
   "cell_type": "code",
   "execution_count": 52,
   "metadata": {},
   "outputs": [
    {
     "name": "stderr",
     "output_type": "stream",
     "text": [
      "/home/tplas/anaconda3/envs/geo/lib/python3.7/site-packages/geopandas/geodataframe.py:1351: SettingWithCopyWarning: \n",
      "A value is trying to be set on a copy of a slice from a DataFrame.\n",
      "Try using .loc[row_indexer,col_indexer] = value instead\n",
      "\n",
      "See the caveats in the documentation: https://pandas.pydata.org/pandas-docs/stable/user_guide/indexing.html#returning-a-view-versus-a-copy\n",
      "  super().__setitem__(key, value)\n",
      "/home/tplas/anaconda3/envs/geo/lib/python3.7/site-packages/geopandas/geodataframe.py:1351: SettingWithCopyWarning: \n",
      "A value is trying to be set on a copy of a slice from a DataFrame.\n",
      "Try using .loc[row_indexer,col_indexer] = value instead\n",
      "\n",
      "See the caveats in the documentation: https://pandas.pydata.org/pandas-docs/stable/user_guide/indexing.html#returning-a-view-versus-a-copy\n",
      "  super().__setitem__(key, value)\n"
     ]
    }
   ],
   "source": [
    "## Step 1: merge different predictions for the same tile into one file:\n",
    "path_folder_complete_tiles = '/media/data-hdd/gis_pd/predictions/all_tiles_pd_notdissolved/predictions_LCU_detailed-combined/individual_tiles/' \n",
    "list_tiles = list(tile_outlines_tight['PLAN_NO'])\n",
    "assert len(list_tiles) == n_expected_tiles\n",
    "col_label = 'lc_label'\n",
    "\n",
    "for tile in list_tiles:\n",
    "    pols_dict = {}\n",
    "    for name_classifier, list_tiles_pred in list_tiles_dict.items():\n",
    "        curr_tile = [x for x in list_tiles_pred if tile in x]\n",
    "        assert len(curr_tile) == 1, f'len(curr_tile) = {len(curr_tile)}'\n",
    "        curr_tile = curr_tile[0]\n",
    "        current_pols = lca.load_pols(curr_tile)\n",
    "        current_pols = current_pols.drop(columns=['class'])\n",
    "        if name_classifier == 'main':  # only keep FGH layer \n",
    "            pols_dict[name_classifier] = current_pols[np.isin(current_pols[col_label].apply(lambda x: x[0]), ['F', 'G', 'H'])]\n",
    "            pols_dict[name_classifier]['Class name'] = pols_dict[name_classifier][col_label].apply(lambda x: dict_mapping_code_to_name[x])\n",
    "        else:  # remove no class\n",
    "            pols_dict[name_classifier] = current_pols[current_pols[col_label] != '0']\n",
    "    pols_merged = gpd.GeoDataFrame(pd.concat([pols_dict['main'], pols_dict['c'], pols_dict['d'], pols_dict['e']], \n",
    "                                             ignore_index=True), \n",
    "                                   crs=pols_dict['main'].crs)\n",
    "    total_area = pols_merged.area.sum()\n",
    "    assert total_area > 0, f'total_area = {total_area}'\n",
    "    assert np.isclose(total_area, 1e6, atol=1e1), f'total_area = {total_area}'\n",
    "    # assert False\n",
    "\n",
    "    name_file = f'LCU_detailed-combined_{tile}_LC-prediction'\n",
    "    if not os.path.exists(os.path.join(path_folder_complete_tiles, name_file)):\n",
    "        os.makedirs(os.path.join(path_folder_complete_tiles, name_file))\n",
    "    pols_merged.to_file(os.path.join(path_folder_complete_tiles, name_file, f'{name_file}.shp'))"
   ]
  },
  {
   "cell_type": "code",
   "execution_count": 55,
   "metadata": {},
   "outputs": [
    {
     "name": "stderr",
     "output_type": "stream",
     "text": [
      "  0%|          | 0/1 [00:00<?, ?it/s]"
     ]
    },
    {
     "name": "stdout",
     "output_type": "stream",
     "text": [
      "Found 2/3 tiles in /media/data-hdd/gis_pd/predictions/all_tiles_pd_notdissolved/predictions_LCU_detailed-combined/individual_tiles/ with tile ids\n",
      "Merging 2 tiles found in /media/data-hdd/gis_pd/predictions/all_tiles_pd_notdissolved/predictions_LCU_detailed-combined/individual_tiles/\n"
     ]
    },
    {
     "name": "stderr",
     "output_type": "stream",
     "text": [
      "\n",
      "0it [00:00, ?it/s]"
     ]
    },
    {
     "name": "stderr",
     "output_type": "stream",
     "text": [
      "2it [00:00,  2.61it/s]\n",
      "100%|██████████| 1/1 [00:03<00:00,  3.36s/it]\n"
     ]
    }
   ],
   "source": [
    "## Step 2: merge all tiles into one file per section:\n",
    "path_folder_complete_tiles = '/media/data-hdd/gis_pd/predictions/all_tiles_pd_notdissolved/predictions_LCU_detailed-combined/individual_tiles/'\n",
    "path_folder_sections = '/media/data-hdd/gis_pd/predictions/all_tiles_pd_notdissolved/predictions_LCU_detailed-combined/merged_tiles_100kmsections/'\n",
    "\n",
    "for section in tqdm(arr_sections):\n",
    "    tiles_in_section = list(tile_outlines_tight[tile_outlines_tight[col_sections] == section]['PLAN_NO'])\n",
    "\n",
    "    curr_dir_name = path_folder_complete_tiles.split('/') \n",
    "    curr_dir_name = curr_dir_name[-2] if curr_dir_name[-1] != '' else curr_dir_name[-3]  # in case dir_indiv_tile_shp ends with '/'\n",
    "    # assert False, curr_dir_name\n",
    "    filename_merger = f'merged_{curr_dir_name}_section-{section}.shp'\n",
    "\n",
    "    lca.merge_individual_shp_files(dir_indiv_tile_shp=path_folder_complete_tiles, \n",
    "                                    delete_individual_shp_files=False,\n",
    "                                    list_tile_ids_to_merge=tiles_in_section,\n",
    "                                    filename=filename_merger,\n",
    "                                    dir_save_merger=path_folder_sections)\n",
    "    "
   ]
  },
  {
   "attachments": {},
   "cell_type": "markdown",
   "metadata": {},
   "source": [
    "## Create 100km^2 grids for different mergers:"
   ]
  },
  {
   "cell_type": "code",
   "execution_count": 23,
   "metadata": {},
   "outputs": [],
   "source": [
    "outline_pd = lca.load_pols(path_dict['pd_outline'])\n",
    "outline_pd = outline_pd.iloc[0]['geometry']\n",
    "all_tiles = lca.load_pols(path_dict['landscape_character_grid_path'])\n",
    "all_tiles = all_tiles[all_tiles['geometry'].intersects(outline_pd)]\n",
    "all_tiles = all_tiles.reset_index(drop=True)\n",
    "assert len(all_tiles) == 1617"
   ]
  },
  {
   "cell_type": "code",
   "execution_count": 24,
   "metadata": {},
   "outputs": [
    {
     "data": {
      "text/plain": [
       "COUNTY\n",
       "CHESHIR    108\n",
       "DERBYSH    993\n",
       "GT MAN      32\n",
       "SOUTHYO    194\n",
       "STAFFOR    229\n",
       "WESTYOR     61\n",
       "dtype: int64"
      ]
     },
     "execution_count": 24,
     "metadata": {},
     "output_type": "execute_result"
    }
   ],
   "source": [
    "# all_tiles['COUNTY'].unique()\n",
    "## tiles per county:\n",
    "n_tiles_per_county = all_tiles.groupby('COUNTY').size()\n",
    "n_tiles_per_county"
   ]
  },
  {
   "cell_type": "code",
   "execution_count": 25,
   "metadata": {},
   "outputs": [],
   "source": [
    "all_tiles['100_grid'] = all_tiles['PLAN_NO'].apply(lambda x: x[:3] + x[4])"
   ]
  },
  {
   "cell_type": "code",
   "execution_count": 26,
   "metadata": {},
   "outputs": [
    {
     "data": {
      "text/plain": [
       "array(['SE00', 'SE01', 'SE10', 'SE20', 'SJ96', 'SJ97', 'SJ98', 'SK05',\n",
       "       'SK06', 'SK07', 'SK08', 'SK09', 'SK04', 'SK14', 'SK15', 'SK16',\n",
       "       'SK17', 'SK18', 'SK19', 'SK25', 'SK26', 'SK27', 'SK28', 'SK29',\n",
       "       'SK36', 'SK37'], dtype=object)"
      ]
     },
     "execution_count": 26,
     "metadata": {},
     "output_type": "execute_result"
    }
   ],
   "source": [
    "all_tiles['100_grid'].unique()"
   ]
  },
  {
   "cell_type": "code",
   "execution_count": 27,
   "metadata": {},
   "outputs": [],
   "source": [
    "all_tiles.to_file('/home/thijs/repos/cnn-land-cover/content/landscape_character_grid/Landscape_Character_Grid_tight.shp')"
   ]
  }
 ],
 "metadata": {
  "kernelspec": {
   "display_name": "geo",
   "language": "python",
   "name": "python3"
  },
  "language_info": {
   "codemirror_mode": {
    "name": "ipython",
    "version": 3
   },
   "file_extension": ".py",
   "mimetype": "text/x-python",
   "name": "python",
   "nbconvert_exporter": "python",
   "pygments_lexer": "ipython3",
   "version": "3.7.13"
  },
  "orig_nbformat": 4
 },
 "nbformat": 4,
 "nbformat_minor": 2
}
