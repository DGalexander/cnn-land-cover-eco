{
 "cells": [
  {
   "cell_type": "code",
   "execution_count": null,
   "id": "0c5661e6-baa9-4f58-a1ce-bea71d19c400",
   "metadata": {},
   "outputs": [],
   "source": [
    "import rioxarray as rio\n",
    "import os\n",
    "import xarray as xr\n",
    "from geocube.api.core import make_geocube\n",
    "import geopandas as gpd\n",
    "import matplotlib.pyplot as plt\n",
    "import numpy as np\n",
    "import utils\n",
    "import pickle\n",
    "import rasterio\n",
    "from tqdm.notebook import tqdm\n",
    "import glob\n",
    "import shapely.geometry as sgeom\n",
    "\n",
    "from osgeo import gdal\n",
    "gdal.SetConfigOption('GTIFF_SRS_SOURCE', 'EPSG')"
   ]
  },
  {
   "cell_type": "markdown",
   "id": "a9fc899e-aa07-4a74-b2ba-011e9d2378ea",
   "metadata": {},
   "source": [
    "Above imports are not all used!"
   ]
  },
  {
   "cell_type": "markdown",
   "id": "0bfb2438-ddc9-420b-8b03-728f7e8096cd",
   "metadata": {},
   "source": [
    "Set the folders and paths"
   ]
  },
  {
   "cell_type": "code",
   "execution_count": null,
   "id": "1acebbb7-6b8c-4638-b370-38a69ca53550",
   "metadata": {},
   "outputs": [],
   "source": [
    "ROOT = '/home/jovyan/work/project_data/landcover/model_outputs/final'\n",
    "aoi = 'nlees_lcm_12pt5_rgb'\n",
    "\n",
    "new_res = [1, 1]\n",
    "new_res_str = f'{new_res[0]}x{new_res[1]}'\n",
    "fname= f'{aoi}_reduce_{new_res_str}'\n",
    "out_reduce_dir = os.path.join(\n",
    "    ROOT,\n",
    "    fname\n",
    ")\n",
    "\n",
    "out_paths = {\n",
    "    'out_all_dir': os.path.join(ROOT, aoi),\n",
    "}"
   ]
  },
  {
   "cell_type": "markdown",
   "id": "f786d258-a700-4cfa-b76c-54f6083ae3e9",
   "metadata": {},
   "source": [
    "New mapping for integer labels, here I am just using the numbers!"
   ]
  },
  {
   "cell_type": "code",
   "execution_count": null,
   "id": "2d96af81-3d1e-4a7e-a04b-fe691406ad66",
   "metadata": {},
   "outputs": [],
   "source": [
    "labs = [\n",
    "    0, \n",
    "    101,\n",
    "    102,\n",
    "    103,\n",
    "    104,\n",
    "    201,\n",
    "    202,\n",
    "    203,\n",
    "    204,\n",
    "    205,\n",
    "    206,\n",
    "    207,\n",
    "    302,\n",
    "    303,\n",
    "    401,\n",
    "    402,\n",
    "    403,\n",
    "    404,\n",
    "    405,\n",
    "    406,\n",
    "    407,\n",
    "    408,\n",
    "    409,\n",
    "    410,\n",
    "    411,\n",
    "    504,\n",
    "]\n",
    "\n",
    "new_map = dict(zip(labs, [str(l) for l in labs]))\n",
    "reducer = utils.TileSquidger(files, [], {})\n",
    "reducer.set_new_mapping(new_map)"
   ]
  },
  {
   "cell_type": "markdown",
   "id": "cab68fa0-330a-4cde-8184-e832a9dab88f",
   "metadata": {},
   "source": [
    "The `reducer` object uses the list of files to iterate when processing."
   ]
  },
  {
   "cell_type": "code",
   "execution_count": null,
   "id": "1d959ef0-b7c1-491b-9a99-57318352b9f7",
   "metadata": {},
   "outputs": [],
   "source": [
    "# List of tiles\n",
    "paths = glob.glob(\n",
    "    os.path.join(out_paths['out_all_dir'], '*.tif')\n",
    ")\n",
    "files = [os.path.split(p)[1] for p in paths]\n",
    "#files"
   ]
  },
  {
   "cell_type": "markdown",
   "id": "7dd1b07c-b265-41f5-975a-e77a472f6df3",
   "metadata": {},
   "source": [
    "Run the reducer to create a folder with reduced tiles, must be multiples of input resolution"
   ]
  },
  {
   "cell_type": "code",
   "execution_count": null,
   "id": "7c6eaab0-1385-487c-acec-6c78c29d9e2d",
   "metadata": {},
   "outputs": [],
   "source": [
    "if os.path.exists(out_reduce_dir):\n",
    "    print(f'Overwriting {out_reduce_dir}')\n",
    "else:\n",
    "    os.makedirs(out_reduce_dir)\n",
    "\n",
    "reducer.tile_reduce(out_paths['out_all_dir'], out_reduce_dir, new_res)"
   ]
  },
  {
   "cell_type": "markdown",
   "id": "5b8fe2f1-b589-494f-b6a1-465983a0e597",
   "metadata": {},
   "source": [
    "Create a `vrt` and reduce again if necessary to get a single file output"
   ]
  },
  {
   "cell_type": "code",
   "execution_count": null,
   "id": "ffbe3381-a534-4d02-a19a-b739c0c8bea2",
   "metadata": {},
   "outputs": [],
   "source": [
    "out_vrt = out_reduce_dir+'.vrt'"
   ]
  },
  {
   "cell_type": "code",
   "execution_count": null,
   "id": "9ee9a066-1a91-43bb-95ee-17ada38b82f3",
   "metadata": {},
   "outputs": [],
   "source": [
    "def create_vrt_from(files, out_fp, overviews=False, srs='EPSG:27700'):\n",
    "    vrt_options = gdal.BuildVRTOptions(outputSRS=srs)\n",
    "    ds = gdal.BuildVRT(out_fp, files,)# options=vrt_options)\n",
    "    ds.FlushCache()\n",
    "    del ds\n",
    "    \n",
    "    names = {}\n",
    "    first = gdal.Open(files[0], 0)\n",
    "    for i in range(1, first.RasterCount+1):\n",
    "        names[i] = first.GetRasterBand(i).GetDescription()\n",
    "    del first\n",
    "    \n",
    "    image = gdal.Open(out_fp, 1)\n",
    "    for i in names.keys():\n",
    "        b = image.GetRasterBand(i)\n",
    "        b.SetDescription(names[i])\n",
    "    del image\n",
    "            \n",
    "    if overviews:\n",
    "        image = gdal.Open(out_fp, 0)\n",
    "        gdal.SetConfigOption('COMPRESS_OVERVIEW', 'DEFLATE')\n",
    "        image.BuildOverviews('NEAREST', [4, 8, 16, 32, 64, 128], gdal.TermProgress_nocb)\n",
    "        del image\n",
    "\n",
    "r_files = glob.glob(os.path.join(out_reduce_dir, '*.tif'))\n",
    "create_vrt_from(r_files, out_vrt, overviews=False)"
   ]
  },
  {
   "cell_type": "code",
   "execution_count": null,
   "id": "44599943-9a87-4707-98b5-b66da4b4185b",
   "metadata": {},
   "outputs": [],
   "source": [
    "img = rio.open_rasterio(\n",
    "    out_vrt,\n",
    "    masked=False,\n",
    "    cache=False,\n",
    ")\n",
    "\n",
    "out_img = utils.reduce_to_proportion(img, [10, 10], boundary='trim', as_counts=True)"
   ]
  },
  {
   "cell_type": "code",
   "execution_count": null,
   "id": "ca255b83-3ec0-40ef-8903-7aec59ee7bac",
   "metadata": {},
   "outputs": [],
   "source": [
    "out_path = os.path.join(ROOT, 'nlees_lcm_10m.tif')\n",
    "out_img.astype('int32').rio.to_raster(out_path)"
   ]
  }
 ],
 "metadata": {
  "kernelspec": {
   "display_name": "Python 3 (ipykernel)",
   "language": "python",
   "name": "python3"
  },
  "language_info": {
   "codemirror_mode": {
    "name": "ipython",
    "version": 3
   },
   "file_extension": ".py",
   "mimetype": "text/x-python",
   "name": "python",
   "nbconvert_exporter": "python",
   "pygments_lexer": "ipython3",
   "version": "3.11.7"
  }
 },
 "nbformat": 4,
 "nbformat_minor": 5
}
