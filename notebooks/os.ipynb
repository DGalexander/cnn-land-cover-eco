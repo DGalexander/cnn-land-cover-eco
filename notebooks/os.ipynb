{
 "cells": [
  {
   "cell_type": "markdown",
   "metadata": {},
   "source": [
    "## Post Processing\n",
    "\n",
    "Match the schema to OS: \n",
    "\n",
    "* Freshwater -\tLake\n",
    "* Freshwater -\tPond\n",
    "* Freshwater -\tRiver\n",
    "* Freshwater -\tStream\n",
    "* Freshwater -\tCanal\n",
    "* Urban Greenspace -\tPlaying fields (i.e. grass without trees)\n",
    "* Urban Greenspace -\tParks (i.e. grass with some trees)\n",
    "* Urban Greenspace -\tCemeteries\n",
    "* Suburban (areas with a mixture of buildings and gardens)\n",
    "* Inland Rock -\tField boundary dry stone walls\n",
    "* Grassy Linear Features -\tArable field margins\n",
    "* Grassy Linear Features -\tRailway lines\n",
    "* Grassy Linear Features -\tRoad verges\n",
    "\n",
    "Collections OS schema:\n",
    "\n",
    "* 'building' 'bld-fts-building-2' - https://docs.os.uk/osngd/code-lists/code-lists-overview/buildingdescriptionvalue\n",
    "* 'sites': 'lus-fts-site-1' - https://docs.os.uk/osngd/code-lists/code-lists-overview/sitedescriptionvalue \n",
    "* 'railways': 'trn-fts-rail-1'- https://docs.os.uk/osngd/code-lists/code-lists-overview/raildescriptionvalue\n",
    "* 'land': 'lnd-fts-land-1' - https://docs.os.uk/osngd/code-lists/code-lists-overview/landdescriptionvalue \n",
    "* 'road': 'trn-fts-roadtrackorpath-2' - https://docs.os.uk/osngd/code-lists/code-lists-overview/roadtrackorpathdescriptionvalue \n",
    "* 'water': 'wtr-fts-water-2' - https://docs.os.uk/osngd/code-lists/code-lists-overview/waterdescriptionvalue \n",
    "* 'waterlink': 'wtr-ntwk-waterlink-1' - https://docs.os.uk/osngd/code-lists/code-lists-overview/waterlinksetdescriptionvalue \n",
    "* 'field': 'str-fts-fieldboundary-1' - https://docs.os.uk/osngd/code-lists/code-lists-overview/fieldboundarydescriptionvalue \n",
    "\n"
   ]
  },
  {
   "cell_type": "code",
   "execution_count": 131,
   "metadata": {},
   "outputs": [],
   "source": [
    "import os\n",
    "import json\n",
    "import pandas as pd\n",
    "import geopandas as gpd\n",
    "from shapely.geometry import Polygon, MultiPolygon, LineString, MultiLineString"
   ]
  },
  {
   "cell_type": "code",
   "execution_count": null,
   "metadata": {},
   "outputs": [],
   "source": [
    "# Load JSON mapping needs changing to new filepath in label_mapping_dicts\n",
    "with open('os-lc-map.json') as f: # os-lc-map.json is a JSON file that maps OS Land Cover codes to the corresponding land cover types\n",
    "    os_lc_map = json.load(f)"
   ]
  },
  {
   "cell_type": "code",
   "execution_count": 133,
   "metadata": {},
   "outputs": [],
   "source": [
    "# Dictionary to map file names to their ranking order\n",
    "file_order = {\n",
    "    1: ('wtr_fts_water.gpkg', 'water'),\n",
    "    2: ('lus_fts_site.gpkg', 'sites'),\n",
    "    3: ('trn_fts_rail.gpkg', 'railways'),\n",
    "    4: ('trn_fts_roadtrackorpath.gpkg', 'roads'),\n",
    "    5: ('bld_fts_building.gpkg', 'buildings'),\n",
    "    6: ('lnd_fts_land.gpkg', 'land'),\n",
    "    7: ('str_fts_fieldboundary.gpkg', 'field'),\n",
    "    8: ('wtr_ntwk_waterlink.gpkg', 'waterlink')\n",
    "}\n"
   ]
  },
  {
   "cell_type": "code",
   "execution_count": null,
   "metadata": {},
   "outputs": [],
   "source": [
    "# Output shapefile path\n",
    "output_shapefile_polygons = \"os_ngd.shp\" # path needs updating to new filepath\n",
    "output_shapefile_lines = \"os_ngd_lines.shp\""
   ]
  },
  {
   "cell_type": "code",
   "execution_count": 135,
   "metadata": {},
   "outputs": [],
   "source": [
    "# Function to process each geopackage file\n",
    "def process_gpkg(file_name, category, mapping):\n",
    "    print(f\"Processing {file_name} for category {category}\")\n",
    "    gdf = gpd.read_file(file_name, layer=0)  # Read the first layer by default\n",
    "    print(f\"Initial number of features: {len(gdf)}\")\n",
    "\n",
    "    if not gdf.empty:\n",
    "        # Filter based on description and add 'ADAPT' column\n",
    "        unique_descriptions = set(gdf['description'].unique())\n",
    "        mapped_descriptions = set(mapping.keys())\n",
    "        unmapped_descriptions = unique_descriptions - mapped_descriptions\n",
    "\n",
    "        if unmapped_descriptions:\n",
    "            print(f\"Unmapped descriptions in {file_name}: {unmapped_descriptions}\")\n",
    "\n",
    "        gdf = gdf[gdf['description'].isin(mapping.keys())]  # Keep only mapped descriptions\n",
    "        gdf['ADAPT'] = gdf['description'].map(mapping)\n",
    "        print(f\"Number of features after filtering: {len(gdf)}\")\n",
    "        print(f\"Unique ADAPT labels after filtering: {gdf['ADAPT'].unique()}\")\n",
    "    return gdf"
   ]
  },
  {
   "cell_type": "code",
   "execution_count": 136,
   "metadata": {},
   "outputs": [],
   "source": [
    "# List to hold all GeoDataFrames\n",
    "gdfs_polygons = []\n",
    "gdfs_lines = []"
   ]
  },
  {
   "cell_type": "code",
   "execution_count": 137,
   "metadata": {},
   "outputs": [
    {
     "name": "stdout",
     "output_type": "stream",
     "text": [
      "Processing rank 1: file wtr_fts_water.gpkg, category water\n",
      "Processing wtr_fts_water.gpkg for category water\n",
      "Initial number of features: 2925\n",
      "Unmapped descriptions in wtr_fts_water.gpkg: {'Leat', 'Collects', 'Reed Bed For Waste Water', 'Open Water Tank', 'Drain', 'Open Tank Reservoir', 'Mill Leat', 'Swimming Pool', 'Lock', 'Overflow', 'Waterfall', 'Spring'}\n",
      "Number of features after filtering: 2825\n",
      "Unique ADAPT labels after filtering: ['River' 'Pond' 'Lake' 'Canal']\n",
      "Processing rank 2: file lus_fts_site.gpkg, category sites\n",
      "Processing lus_fts_site.gpkg for category sites\n",
      "Initial number of features: 24646\n",
      "Unmapped descriptions in lus_fts_site.gpkg: {'Central Government Services', 'Camp Site', 'Youth Organisation Camp Site', 'Commercial Vehicle Park', 'Youth Recreational Or Social Club', 'Athletics Ground', 'Kingdom Hall', 'Hockey Ground', 'Distribution Or Storage Site', 'Football Ground (Spectating)', 'Arboretum', 'Balancing Pond', 'Theatre', 'University', 'Printing Works', 'Art Gallery And Museum', 'Road Freight Site', 'Amenity And Open Space Site', 'Livestock Market', 'Retail Complex', 'Lock', 'Police Station', 'Training Site', 'Quarry', 'Social Care Services Site', 'Equestrian Sports Facility', 'Bus Station', 'Timber Distribution Or Storage Site', 'Mine', \"Children's Nursery\", 'Waste Processing Site', 'Mortuary', 'Weighbridge', 'Chemical Works', 'Horse Racing Or Breeding Stables', 'Mixed Use Site', 'Outdoor Activity Centre', 'Car Cleaning Site', 'Attraction Or Leisure Site', 'Go-Kart Track'}\n",
      "Number of features after filtering: 24525\n",
      "Unique ADAPT labels after filtering: ['Suburban' 'Dense urban' 'Cemeteries'\n",
      " 'Playing fields (i.e. grass without trees)']\n",
      "Processing rank 3: file trn_fts_rail.gpkg, category railways\n",
      "Processing trn_fts_rail.gpkg for category railways\n",
      "Initial number of features: 390\n",
      "Number of features after filtering: 390\n",
      "Unique ADAPT labels after filtering: ['Railway' 'Railway verges']\n",
      "Processing rank 4: file trn_fts_roadtrackorpath.gpkg, category roads\n",
      "Processing trn_fts_roadtrackorpath.gpkg for category roads\n",
      "Initial number of features: 20814\n",
      "Unmapped descriptions in trn_fts_roadtrackorpath.gpkg: {'Shared Use Carriageway', 'Roofed Path', 'Path', 'Pavement And Steps', 'Path And Steps', 'Track', 'Towing Path'}\n",
      "Number of features after filtering: 15602\n",
      "Unique ADAPT labels after filtering: ['Road' 'Road verges']\n",
      "Processing rank 5: file bld_fts_building.gpkg, category buildings\n",
      "Processing bld_fts_building.gpkg for category buildings\n",
      "Initial number of features: 45039\n",
      "Number of features after filtering: 45039\n",
      "Unique ADAPT labels after filtering: ['Suburban' 'Dense urban']\n",
      "Processing rank 6: file lnd_fts_land.gpkg, category land\n",
      "Processing lnd_fts_land.gpkg for category land\n",
      "Initial number of features: 103645\n",
      "Unmapped descriptions in lnd_fts_land.gpkg: {'Residential Garden', 'Heath Or Rough Grassland And Scattered Non-Coniferous Trees', 'Mixed Trees And Scrub', 'Scattered Boulders Or Scattered Rock And Scattered Non-Coniferous Trees And Scrub', 'Heath Or Rough Grassland And Scattered Coniferous Trees And Scrub', 'Heath Or Rough Grassland And Scattered Mixed Trees', 'Scattered Boulders Or Scattered Rock And Scrub', 'Spoil Heap', 'Gallops', 'Helipad', 'Scattered Coniferous Trees', 'Bare Earth Or Grass', 'Games Court', 'Tennis Court', 'Livestock Pen', 'Marsh And Scrub', 'Heath Or Rough Grassland', 'Boulder', 'Mixed Trees', 'Scattered Mixed Trees And Scrub', 'Construction Site', 'Coniferous Trees And Scattered Boulders Or Scattered Rock', 'Boulders Or Rock And Heath Or Rough Grassland And Scattered Non-Coniferous Trees', 'Landfill', 'Boulders Or Rock And Scattered Non-Coniferous Trees', 'Scattered Mixed Trees', 'Boulders Or Rock And Heath Or Rough Grassland', 'Boulders Or Rock', 'Orchard', 'Heath Or Rough Grassland And Scattered Rock', 'Runway', 'Heath Or Rough Grassland And Scrub', 'Scattered Non-Coniferous Trees', 'Marsh', 'Scrub', 'Marsh And Non-Coniferous Trees', 'Heath Or Rough Grassland And Scattered Coniferous Trees', 'Scattered Non-Coniferous Trees And Scrub', 'Slipway', 'Slurry Bed', 'Heath Or Rough Grassland And Marsh And Scattered Non-Coniferous Trees', 'Marsh And Non-Coniferous Trees And Scrub', 'Scattered Boulders Or Scattered Rock And Scattered Mixed Trees And Scrub', 'Heath Or Rough Grassland And Scattered Rock And Scrub', 'Scree', 'Scattered Boulders Or Scattered Rock', 'Steps', 'Heath', 'Heath Or Rough Grassland And Marsh', 'Arable Or Grazing Land', 'Non-Coniferous Trees And Scrub', 'Sloping Masonry', 'Heath Or Rough Grassland And Scattered Boulders Or Scattered Rock', 'Heath Or Rough Grassland And Scattered Boulders Or Scattered Rock And Scrub', 'Non-Coniferous Trees And Scattered Boulders Or Scattered Rock', 'Coniferous Trees', 'Heath Or Rough Grassland And Scattered Non-Coniferous Trees And Scrub', 'Non-Coniferous Trees And Scattered Boulders Or Scattered Rock And Scrub', 'Non-Coniferous Trees', 'Coniferous Trees And Scrub', 'Scattered Coniferous Trees And Scrub', 'Mixed Trees And Scattered Boulders Or Scattered Rock'}\n",
      "Number of features after filtering: 11889\n",
      "Unique ADAPT labels after filtering: ['Dense urban']\n",
      "Processing rank 7: file str_fts_fieldboundary.gpkg, category field\n",
      "Processing str_fts_fieldboundary.gpkg for category field\n",
      "Initial number of features: 278522\n",
      "Unmapped descriptions in str_fts_fieldboundary.gpkg: {'Unknown', 'Tree Canopy', 'Wooded Strip', 'Hedge', 'Other'}\n",
      "Number of features after filtering: 57395\n",
      "Unique ADAPT labels after filtering: ['Field boundary dry stone walls']\n",
      "Processing rank 8: file wtr_ntwk_waterlink.gpkg, category waterlink\n",
      "Processing wtr_ntwk_waterlink.gpkg for category waterlink\n",
      "Initial number of features: 9712\n",
      "Unmapped descriptions in wtr_ntwk_waterlink.gpkg: {'Leat', 'Still Water', 'Canal Feeder', 'Drain', 'Reservoir', 'Marsh', 'Overflow', 'Canal', 'Lock'}\n",
      "Number of features after filtering: 8011\n",
      "Unique ADAPT labels after filtering: ['Stream']\n"
     ]
    }
   ],
   "source": [
    "# Process each file according to the defined order\n",
    "for rank in sorted(file_order.keys()):\n",
    "    file_name, category = file_order[rank]\n",
    "    print(f\"Processing rank {rank}: file {file_name}, category {category}\")\n",
    "    mapping = os_lc_map.get(category, {})\n",
    "    gdf = process_gpkg(file_name, category, mapping)\n",
    "    if not gdf.empty:\n",
    "        gdf['rank'] = rank  # Add a rank column to manage overlap\n",
    "        # Separate polygons and lines\n",
    "        gdfs_polygons.append(gdf[gdf.geometry.type.isin(['Polygon', 'MultiPolygon'])])\n",
    "        gdfs_lines.append(gdf[gdf.geometry.type.isin(['LineString', 'MultiLineString'])])"
   ]
  },
  {
   "cell_type": "code",
   "execution_count": 138,
   "metadata": {},
   "outputs": [
    {
     "name": "stdout",
     "output_type": "stream",
     "text": [
      "Unique ADAPT labels in polygons before saving: ['River' 'Pond' 'Lake' 'Canal' 'Suburban' 'Dense urban' 'Cemeteries'\n",
      " 'Playing fields (i.e. grass without trees)' 'Railway' 'Railway verges'\n",
      " 'Road' 'Road verges']\n",
      "Polygon shapefile saved as os_ngd.shp\n",
      "Unique ADAPT labels in polygon shapefile: ['River' 'Pond' 'Lake' 'Canal' 'Suburban' 'Dense urban' 'Cemeteries'\n",
      " 'Playing fields (i.e. grass without trees)' 'Railway' 'Railway verges'\n",
      " 'Road' 'Road verges']\n"
     ]
    }
   ],
   "source": [
    "# Merge all polygon GeoDataFrames\n",
    "if gdfs_polygons:\n",
    "    combined_gdf_polygons = gpd.GeoDataFrame(pd.concat(gdfs_polygons, ignore_index=True))\n",
    "\n",
    "    # Ensure all geometries are polygons or multipolygons\n",
    "    combined_gdf_polygons['geometry'] = combined_gdf_polygons['geometry'].apply(lambda geom: geom if isinstance(geom, (Polygon, MultiPolygon)) else geom.convex_hull)\n",
    "\n",
    "    # Drop all columns except 'ADAPT' and 'geometry'\n",
    "    combined_gdf_polygons = combined_gdf_polygons[['ADAPT', 'geometry']]\n",
    "\n",
    "    # Check for unique labels before saving\n",
    "    print(f\"Unique ADAPT labels in polygons before saving: {combined_gdf_polygons['ADAPT'].unique()}\")\n",
    "\n",
    "    combined_gdf_polygons.to_file(output_shapefile_polygons, driver='ESRI Shapefile')\n",
    "    print(f\"Polygon shapefile saved as {output_shapefile_polygons}\")\n",
    "    print(f\"Unique ADAPT labels in polygon shapefile: {combined_gdf_polygons['ADAPT'].unique()}\")\n",
    "else:\n",
    "    print(\"No polygon data to process and merge.\")\n",
    "    combined_gdf_polygons = gpd.GeoDataFrame()"
   ]
  },
  {
   "cell_type": "code",
   "execution_count": 139,
   "metadata": {},
   "outputs": [
    {
     "name": "stdout",
     "output_type": "stream",
     "text": [
      "Unique ADAPT labels in lines before saving: ['Field boundary dry stone walls' 'Stream']\n",
      "Lines clipped by polygons. Number of features after clipping: 58110\n",
      "Line shapefile saved as os_ngd_lines.shp\n",
      "Unique ADAPT labels in line shapefile: ['Field boundary dry stone walls' 'Stream']\n"
     ]
    }
   ],
   "source": [
    "if gdfs_lines:\n",
    "    combined_gdf_lines = gpd.GeoDataFrame(pd.concat(gdfs_lines, ignore_index=True))\n",
    "\n",
    "    # Ensure all geometries are linestrings or multilinestrings\n",
    "    combined_gdf_lines['geometry'] = combined_gdf_lines['geometry'].apply(lambda geom: geom if isinstance(geom, (LineString, MultiLineString)) else geom.convex_hull)\n",
    "\n",
    "    # Drop all columns except 'ADAPT' and 'geometry'\n",
    "    combined_gdf_lines = combined_gdf_lines[['ADAPT', 'geometry']]\n",
    "\n",
    "    # Check for unique labels before saving\n",
    "    print(f\"Unique ADAPT labels in lines before saving: {combined_gdf_lines['ADAPT'].unique()}\")\n",
    "\n",
    "    # Clip lines by the polygons\n",
    "    if not combined_gdf_polygons.empty:\n",
    "        combined_gdf_lines = gpd.overlay(combined_gdf_lines, combined_gdf_polygons, how='difference')\n",
    "        print(f\"Lines clipped by polygons. Number of features after clipping: {len(combined_gdf_lines)}\")\n",
    "\n",
    "    combined_gdf_lines.to_file(output_shapefile_lines, driver='ESRI Shapefile')\n",
    "    print(f\"Line shapefile saved as {output_shapefile_lines}\")\n",
    "    print(f\"Unique ADAPT labels in line shapefile: {combined_gdf_lines['ADAPT'].unique()}\")\n",
    "else:\n",
    "    print(\"No line data to process and merge.\")"
   ]
  }
 ],
 "metadata": {
  "kernelspec": {
   "display_name": "os",
   "language": "python",
   "name": "python3"
  },
  "language_info": {
   "codemirror_mode": {
    "name": "ipython",
    "version": 3
   },
   "file_extension": ".py",
   "mimetype": "text/x-python",
   "name": "python",
   "nbconvert_exporter": "python",
   "pygments_lexer": "ipython3",
   "version": "3.11.9"
  }
 },
 "nbformat": 4,
 "nbformat_minor": 2
}
