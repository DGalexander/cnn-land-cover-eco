{
 "cells": [
  {
   "cell_type": "markdown",
   "metadata": {},
   "source": [
    "# Fine-tuning main class model\n",
    "\n",
    "First load the model and define the file paths for the *mapping* dicts. The mapping is used to remap the labeled masks for the specific models (in the *hierarchy*).\n",
    "\n",
    "Load the main class model, for C, D, and E.\n",
    "\n",
    "|Class|Description|\n",
    "|---|---|\n",
    "|C|Woods & forests|\n",
    "|D|Moor & heath|\n",
    "|E|Agro-pastoral land|"
   ]
  },
  {
   "cell_type": "code",
   "execution_count": null,
   "metadata": {},
   "outputs": [],
   "source": [
    "import sys\n",
    "import os\n",
    "sys.path.append('../cnn-land-cover/scripts')\n",
    "import land_cover_models as lcm\n",
    "import land_cover_visualisation as lcv\n",
    "import pytorch_lightning as pl\n",
    "import pytorch_lightning.loggers as loggers\n",
    "import torch\n",
    "import pickle\n",
    "import glob\n",
    "import utils"
   ]
  },
  {
   "cell_type": "code",
   "execution_count": null,
   "metadata": {},
   "outputs": [],
   "source": [
    "# Set constants\n",
    "LOG_DIR = './logs'\n",
    "BATCH_SIZE = 15\n",
    "torch.set_float32_matmul_precision('high')  # enable tensor cores on GPU\n",
    "os.environ['PYTORCH_CUDA_ALLOC_CONF'] = 'expandable_segments:True'\n",
    "MD_PATHS = utils.MD_PATHS\n",
    "\n",
    "# Check available GPUs and set device\n",
    "device = 'cuda' if torch.cuda.is_available() else 'cpu'\n",
    "print(\"Device:\", device)"
   ]
  },
  {
   "cell_type": "code",
   "execution_count": null,
   "metadata": {},
   "outputs": [],
   "source": [
    "# Load Base Model \n",
    "\n",
    "def load_model_variant(name, n_classes, mapping_key, model_folder, model_filename):\n",
    "    # Load pretrained LCM model\n",
    "    m_variant = lcm.load_model_auto(folder=model_folder, filename=model_filename)\n",
    "    \n",
    "    # Initialize base model with specified parameters\n",
    "    base_model = lcm.LandCoverUNet(\n",
    "        n_classes=n_classes,\n",
    "        encoder_name='resnet50',\n",
    "        loss_function='cross_entropy',\n",
    "        skip_factor_eval=1,\n",
    "        first_class_is_no_class=False\n",
    "    )\n",
    "    base_model.dict_training_details['class_name_list'] = m_variant.dict_training_details['class_name_list']\n",
    "    \n",
    "    # Load specific mapping dictionary\n",
    "    with open(MD_PATHS[mapping_key], 'rb') as f:\n",
    "        mapping_dict = pickle.load(f)\n",
    "    return base_model, mapping_dict"
   ]
  },
  {
   "cell_type": "code",
   "execution_count": null,
   "metadata": {},
   "outputs": [],
   "source": [
    "# Data Loader\n",
    "\n",
    "def setup_dataloaders(data_key, preprocess_func, batch_size=BATCH_SIZE):\n",
    "    # Define data paths\n",
    "    DATA = '../'\n",
    "    DATA_TRN_M = os.path.join(DATA, 'pd_lc_eco_rgb_patches_512_train')\n",
    "    DATA_TST_M = os.path.join(DATA, 'pd_lc_eco_rgb_patches_512_test')\n",
    "    \n",
    "    # Setup data loaders\n",
    "    dataloaders = {\n",
    "        'train_m': torch.utils.data.DataLoader(\n",
    "            utils.load_patches_dataset(DATA_TRN_M, MD_PATHS[data_key], proc_fn=preprocess_func),\n",
    "            batch_size=batch_size,\n",
    "            num_workers=os.cpu_count() - 1,\n",
    "            shuffle=True\n",
    "        ),\n",
    "        'test_m': torch.utils.data.DataLoader(\n",
    "            utils.load_patches_dataset(DATA_TST_M, MD_PATHS[data_key], proc_fn=preprocess_func),\n",
    "            batch_size=batch_size,\n",
    "            num_workers=os.cpu_count() - 1,\n",
    "            shuffle=False\n",
    "        )\n",
    "    }\n",
    "    return dataloaders"
   ]
  },
  {
   "cell_type": "code",
   "execution_count": null,
   "metadata": {},
   "outputs": [],
   "source": [
    "# Trainer\n",
    "\n",
    "def train_and_evaluate_model(base_model, dataloaders, log_name, max_epochs=60):\n",
    "    # Set up logger for TensorBoard\n",
    "    logger = loggers.TensorBoardLogger(LOG_DIR, name=log_name)\n",
    "    \n",
    "    # Trainer configuration\n",
    "    trainer = pl.Trainer(\n",
    "        max_epochs=max_epochs,\n",
    "        logger=logger,\n",
    "        log_every_n_steps=20,\n",
    "        precision='16-mixed',\n",
    "        accelerator='gpu' if torch.cuda.is_available() else 'cpu',\n",
    "        devices=1\n",
    "    )\n",
    "    \n",
    "    # Fit the model\n",
    "    trainer.fit(model=base_model, train_dataloaders=dataloaders['train_m'], val_dataloaders=dataloaders['test_m'])\n",
    "    \n",
    "    # Test the model\n",
    "    trainer.test(base_model, dataloaders=dataloaders['test_m'])\n",
    "    \n",
    "    return base_model"
   ]
  },
  {
   "cell_type": "code",
   "execution_count": null,
   "metadata": {},
   "outputs": [],
   "source": [
    "# CM Plotting Function\n",
    "\n",
    "def plot_confusion_matrix(base_model, title='Original test samples'):\n",
    "    cm = lcv.plot_confusion_summary(\n",
    "        model=base_model,\n",
    "        conf_mat=None,\n",
    "        class_name_list=base_model.dict_training_details['class_name_list'],\n",
    "        normalise_hm=True,\n",
    "        skip_factor=1,\n",
    "        fmt_annot='.1f',\n",
    "        print_main_text=False,\n",
    "        suppress_zero_annot=True,\n",
    "        remove_no_class_if_present=True,\n",
    "        class_indices_to_remove=[],\n",
    "        title_hm=title\n",
    "    )"
   ]
  },
  {
   "cell_type": "markdown",
   "metadata": {},
   "source": [
    "# Model execute"
   ]
  },
  {
   "cell_type": "code",
   "execution_count": null,
   "metadata": {},
   "outputs": [],
   "source": [
    "# Execute Main Model\n",
    "\n",
    "# Load model variant\n",
    "base_model, mapping_dict = load_model_variant(\n",
    "    name='Main',\n",
    "    n_classes=4,\n",
    "    mapping_key='main',\n",
    "    model_folder='../models/orig',\n",
    "    model_filename='main_LCU_2023-04-24-1259.pth'\n",
    ")\n",
    "\n",
    "# Set up dataloaders\n",
    "dataloaders = setup_dataloaders(data_key='main', preprocess_func=base_model.preprocessing_func)\n",
    "\n",
    "# Train and evaluate model\n",
    "base_model = train_and_evaluate_model(base_model, dataloaders, log_name='DA_main_v1')\n",
    "\n",
    "# Plot confusion matrix\n",
    "plot_confusion_matrix(base_model, title='Original test samples for Main')"
   ]
  },
  {
   "cell_type": "code",
   "execution_count": null,
   "metadata": {},
   "outputs": [],
   "source": [
    "# Execute Model C\n",
    "\n",
    "base_model, mapping_dict = load_model_variant(\n",
    "    name='C',\n",
    "    n_classes=4,\n",
    "    mapping_key='c',\n",
    "    model_folder='../models',\n",
    "    model_filename='C_LCU_2023-04-21-1335.pth' # fix this\n",
    ")\n",
    "\n",
    "dataloaders = setup_dataloaders(data_key='c', preprocess_func=base_model.preprocessing_func)\n",
    "base_model = train_and_evaluate_model(base_model, dataloaders, log_name='DA_C')\n",
    "plot_confusion_matrix(base_model, title='Original test samples for Model C')\n",
    "torch.cuda.empty_cache()  # Clear GPU memory"
   ]
  },
  {
   "cell_type": "code",
   "execution_count": null,
   "metadata": {},
   "outputs": [],
   "source": [
    "# Execute Model D\n",
    "\n",
    "base_model, mapping_dict = load_model_variant(\n",
    "    name='D',\n",
    "    n_classes=4,\n",
    "    mapping_key='d',\n",
    "    model_folder='../models',\n",
    "    model_filename='C_LCU_2023-04-21-1335.pth' # fix this\n",
    ")\n",
    "\n",
    "dataloaders = setup_dataloaders(data_key='c', preprocess_func=base_model.preprocessing_func)\n",
    "base_model = train_and_evaluate_model(base_model, dataloaders, log_name='DA_C')\n",
    "plot_confusion_matrix(base_model, title='Original test samples for Model C')\n",
    "torch.cuda.empty_cache()  # Clear GPU memory"
   ]
  },
  {
   "cell_type": "code",
   "execution_count": null,
   "metadata": {},
   "outputs": [],
   "source": [
    "# Execute Model C\n",
    "\n",
    "base_model, mapping_dict = load_model_variant(\n",
    "    name='E',\n",
    "    n_classes=4,\n",
    "    mapping_key='c',\n",
    "    model_folder='../models',\n",
    "    model_filename='C_LCU_2023-04-21-1335.pth' # fix this\n",
    ")\n",
    "\n",
    "dataloaders = setup_dataloaders(data_key='c', preprocess_func=base_model.preprocessing_func)\n",
    "base_model = train_and_evaluate_model(base_model, dataloaders, log_name='DA_C')\n",
    "plot_confusion_matrix(base_model, title='Original test samples for Model C')\n",
    "torch.cuda.empty_cache()  # Clear GPU memory"
   ]
  }
 ],
 "metadata": {
  "kernelspec": {
   "display_name": "geo",
   "language": "python",
   "name": "python3"
  },
  "language_info": {
   "name": "python",
   "version": "3.11.8"
  }
 },
 "nbformat": 4,
 "nbformat_minor": 2
}
