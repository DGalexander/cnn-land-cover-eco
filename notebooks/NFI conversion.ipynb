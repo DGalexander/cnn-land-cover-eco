{
 "cells": [
  {
   "attachments": {},
   "cell_type": "markdown",
   "metadata": {},
   "source": [
    "## Notebook to handle NFI data"
   ]
  },
  {
   "cell_type": "code",
   "execution_count": 1,
   "metadata": {},
   "outputs": [],
   "source": [
    "%load_ext autoreload\n",
    "%autoreload 2"
   ]
  },
  {
   "cell_type": "code",
   "execution_count": 2,
   "metadata": {},
   "outputs": [
    {
     "name": "stderr",
     "output_type": "stream",
     "text": [
      "/home/tplas/anaconda3/envs/geo/lib/python3.7/site-packages/geopandas/_compat.py:115: UserWarning: The Shapely GEOS version (3.8.0-CAPI-1.13.1 ) is incompatible with the GEOS version PyGEOS was compiled with (3.10.4-CAPI-1.16.2). Conversions between both will be slow.\n",
      "  shapely_geos_version, geos_capi_version_string\n"
     ]
    }
   ],
   "source": [
    "import os, sys\n",
    "sys.path.append('../scripts/')\n",
    "import numpy as np\n",
    "import matplotlib.pyplot as plt\n",
    "import rasterio, rasterio.plot\n",
    "import xarray as xr\n",
    "import rioxarray as rxr\n",
    "from tqdm import tqdm\n",
    "import pandas as pd\n",
    "import geopandas as gpd\n",
    "import loadpaths\n",
    "import land_cover_analysis as lca\n",
    "import land_cover_visualisation as lcv\n",
    "import land_cover_models as lcm\n",
    "from torch.utils.data import TensorDataset, DataLoader\n",
    "\n",
    "path_dict = loadpaths.loadpaths()"
   ]
  },
  {
   "cell_type": "code",
   "execution_count": 3,
   "metadata": {},
   "outputs": [],
   "source": [
    "path_nfi_full = '/home/tplas/data/gis/National_Forest_Inventory_Woodland_England_2020/National_Forest_Inventory_Woodland_England_2020.shp'"
   ]
  },
  {
   "cell_type": "code",
   "execution_count": 6,
   "metadata": {},
   "outputs": [
    {
     "name": "stdout",
     "output_type": "stream",
     "text": [
      "Loaded 355973 polygons from /home/tplas/data/gis/National_Forest_Inventory_Woodland_England_2020/National_Forest_Inventory_Woodland_England_2020.shp\n"
     ]
    }
   ],
   "source": [
    "pols_nfi = lca.load_pols(path_nfi_full)\n",
    "print(f'Loaded {len(pols_nfi)} polygons from {path_nfi_full}')"
   ]
  },
  {
   "cell_type": "code",
   "execution_count": 8,
   "metadata": {},
   "outputs": [],
   "source": [
    "outline_pd = lca.load_pols(path_dict['pd_outline'])\n",
    "outline_pd = outline_pd.iloc[0]['geometry']"
   ]
  },
  {
   "cell_type": "code",
   "execution_count": 19,
   "metadata": {},
   "outputs": [
    {
     "name": "stderr",
     "output_type": "stream",
     "text": [
      "/home/tplas/anaconda3/envs/geo/lib/python3.7/site-packages/pygeos/set_operations.py:129: RuntimeWarning: invalid value encountered in intersection\n",
      "  return lib.intersection(a, b, **kwargs)\n"
     ]
    }
   ],
   "source": [
    "df_pols_nfi_pd = pols_nfi.intersection(outline_pd)"
   ]
  },
  {
   "cell_type": "code",
   "execution_count": 36,
   "metadata": {},
   "outputs": [
    {
     "name": "stdout",
     "output_type": "stream",
     "text": [
      "Found 3018 polygons in PD\n"
     ]
    }
   ],
   "source": [
    "## Find non empty polygons in pd series:\n",
    "inds_inside_pd = df_pols_nfi_pd.area > 0\n",
    "df_nfi_pd = pols_nfi[inds_inside_pd]\n",
    "df_nfi_pd = df_nfi_pd.reset_index(drop=True)\n",
    "# df_pols_nfi_pd = df_pols_nfi_pd.reset_index(drop=True)\n",
    "print(f'Found {np.sum(inds_inside_pd)} polygons in PD')"
   ]
  },
  {
   "cell_type": "code",
   "execution_count": 48,
   "metadata": {},
   "outputs": [],
   "source": [
    "# df_nfi_pd['geometry'].area - df_nfi_pd['Area_ha'] * 10000"
   ]
  },
  {
   "cell_type": "code",
   "execution_count": 38,
   "metadata": {},
   "outputs": [
    {
     "name": "stdout",
     "output_type": "stream",
     "text": [
      "['Bare area' 'Grassland' 'Quarry' 'Urban' 'Road' 'Other vegetation'\n",
      " 'Open water' 'Assumed woodland' 'Broadleaved' 'Conifer' 'Felled'\n",
      " 'Ground prep' 'Low density' 'Mixed mainly broadleaved'\n",
      " 'Mixed mainly conifer' 'Young trees' 'Coppice' 'Shrub' 'Windblow'\n",
      " 'Uncertain']\n"
     ]
    }
   ],
   "source": [
    "print(df_nfi_pd['IFT_IOA'].unique())"
   ]
  },
  {
   "cell_type": "code",
   "execution_count": 39,
   "metadata": {},
   "outputs": [],
   "source": [
    "mapping_dict_nfi = {'Broadleaved': 'C1', \n",
    "                    'Conifer': 'C2',\n",
    "                    'Felled': 'C5',\n",
    "                    'Mixed mainly broadleaved': 'C3',\n",
    "                    'Mixed mainly conifer': 'C3',\n",
    "                    'Shrub': 'C4',\n",
    "                    'Low density': 'C4'\n",
    "                    # 'Young trees': 'C5'  # leaving out young trees because can be any category \n",
    "                    }"
   ]
  },
  {
   "cell_type": "code",
   "execution_count": 40,
   "metadata": {},
   "outputs": [
    {
     "name": "stdout",
     "output_type": "stream",
     "text": [
      "Found 2597 polygons with LC\n"
     ]
    }
   ],
   "source": [
    "df_nfi_pd['Class_low'] = df_nfi_pd['IFT_IOA'].map(mapping_dict_nfi)\n",
    "## Remove polygons with no LC:\n",
    "df_nfi_pd = df_nfi_pd[df_nfi_pd['Class_low'].notna()] \n",
    "df_nfi_pd = df_nfi_pd.reset_index(drop=True)\n",
    "print(f'Found {len(df_nfi_pd)} polygons with LC')"
   ]
  },
  {
   "cell_type": "code",
   "execution_count": 49,
   "metadata": {},
   "outputs": [],
   "source": [
    "df_nfi_pd.to_file('/home/tplas/repos/cnn-land-cover/content/NFI_data/NFI_pd.shp')"
   ]
  },
  {
   "cell_type": "code",
   "execution_count": null,
   "metadata": {},
   "outputs": [],
   "source": []
  }
 ],
 "metadata": {
  "kernelspec": {
   "display_name": "geo",
   "language": "python",
   "name": "python3"
  },
  "language_info": {
   "codemirror_mode": {
    "name": "ipython",
    "version": 3
   },
   "file_extension": ".py",
   "mimetype": "text/x-python",
   "name": "python",
   "nbconvert_exporter": "python",
   "pygments_lexer": "ipython3",
   "version": "3.7.13"
  },
  "orig_nbformat": 4,
  "vscode": {
   "interpreter": {
    "hash": "fff134636c4dc08640ae6a35698a477c72623cae97fdeaa639b1241267bdf5e9"
   }
  }
 },
 "nbformat": 4,
 "nbformat_minor": 2
}
