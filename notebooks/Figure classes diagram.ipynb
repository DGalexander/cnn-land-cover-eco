{
 "cells": [
  {
   "cell_type": "code",
   "execution_count": 1,
   "metadata": {},
   "outputs": [],
   "source": [
    "## Create plot with sunburst diagram of classes in the dataset\n",
    "%load_ext autoreload\n",
    "%autoreload 2"
   ]
  },
  {
   "cell_type": "code",
   "execution_count": 1,
   "metadata": {},
   "outputs": [
    {
     "name": "stderr",
     "output_type": "stream",
     "text": [
      "/home/tplas/anaconda3/envs/geo/lib/python3.7/site-packages/geopandas/_compat.py:115: UserWarning: The Shapely GEOS version (3.8.0-CAPI-1.13.1 ) is incompatible with the GEOS version PyGEOS was compiled with (3.10.4-CAPI-1.16.2). Conversions between both will be slow.\n",
      "  shapely_geos_version, geos_capi_version_string\n"
     ]
    },
    {
     "name": "stdout",
     "output_type": "stream",
     "text": [
      "WARNING: creating label mapping dictionary corresponding to LC80 schema (ie missing few classes)\n",
      "adding scrub\n",
      "adding wetland\n",
      "adding transport\n"
     ]
    }
   ],
   "source": [
    "import os, sys\n",
    "sys.path.append('../scripts/')\n",
    "import numpy as np\n",
    "import matplotlib.pyplot as plt\n",
    "import rasterio, rasterio.plot\n",
    "import xarray as xr\n",
    "import rioxarray as rxr\n",
    "from tqdm import tqdm\n",
    "import pandas as pd\n",
    "import time, datetime, json\n",
    "import geopandas as gpd\n",
    "import loadpaths\n",
    "import land_cover_analysis as lca\n",
    "import land_cover_visualisation as lcv\n",
    "import land_cover_models as lcm\n",
    "import create_patches_from_polygons_data\n",
    "from torch.utils.data import TensorDataset, DataLoader\n",
    "import plotly.express as px\n",
    "\n",
    "\n",
    "path_dict = loadpaths.loadpaths()"
   ]
  },
  {
   "cell_type": "code",
   "execution_count": 116,
   "metadata": {},
   "outputs": [],
   "source": [
    "mapping_dict_to_full = {'C': 'Wood and Forest Land',\n",
    "                            'D': 'Moor and Heath Land',\n",
    "                            'E': 'Agro-Pastoral Land',\n",
    "                            'F': 'Water and Wetland',\n",
    "                            'G': 'Rock and Coastal Land',\n",
    "                            'H': 'Developed Land',\n",
    "                            'I': 'Unclassified Land',\n",
    "                            '0': 'NO CLASS',\n",
    "                            'U': 'NO CLASS'}"
   ]
  },
  {
   "cell_type": "code",
   "execution_count": 117,
   "metadata": {},
   "outputs": [
    {
     "name": "stdout",
     "output_type": "stream",
     "text": [
      "WARNING: creating label mapping dictionary corresponding to LC80 schema (ie missing few classes)\n",
      "adding scrub\n",
      "adding wetland\n",
      "adding transport\n"
     ]
    }
   ],
   "source": [
    "df_schema = lca.create_df_mapping_labels_2022_to_80s()\n",
    "df_schema.drop(columns=['description_80s', 'code_80s', 'index_2022', 'index_80s'], inplace=True)\n",
    "df_schema['main_class_code'] = df_schema['code_2022'].apply(lambda x: x[0])\n",
    "df_schema['main_description'] = df_schema['main_class_code'].apply(lambda x: mapping_dict_to_full[x])"
   ]
  },
  {
   "cell_type": "code",
   "execution_count": 133,
   "metadata": {},
   "outputs": [],
   "source": [
    "classes_ignore = ['D4a', 'D4b', 'D8', 'F1', 'F3b', 'F3d', 'G2b', 'G3a', 'G3b', 'G3c', 'G3d']"
   ]
  },
  {
   "cell_type": "code",
   "execution_count": 132,
   "metadata": {},
   "outputs": [
    {
     "data": {
      "text/html": [
       "<div>\n",
       "<style scoped>\n",
       "    .dataframe tbody tr th:only-of-type {\n",
       "        vertical-align: middle;\n",
       "    }\n",
       "\n",
       "    .dataframe tbody tr th {\n",
       "        vertical-align: top;\n",
       "    }\n",
       "\n",
       "    .dataframe thead th {\n",
       "        text-align: right;\n",
       "    }\n",
       "</style>\n",
       "<table border=\"1\" class=\"dataframe\">\n",
       "  <thead>\n",
       "    <tr style=\"text-align: right;\">\n",
       "      <th></th>\n",
       "      <th>description_2022</th>\n",
       "      <th>code_2022</th>\n",
       "      <th>main_class_code</th>\n",
       "      <th>main_description</th>\n",
       "    </tr>\n",
       "  </thead>\n",
       "  <tbody>\n",
       "    <tr>\n",
       "      <th>0</th>\n",
       "      <td>NO CLASS</td>\n",
       "      <td>0</td>\n",
       "      <td>0</td>\n",
       "      <td>NO CLASS</td>\n",
       "    </tr>\n",
       "    <tr>\n",
       "      <th>1</th>\n",
       "      <td>Broadleaved High Forest</td>\n",
       "      <td>C1</td>\n",
       "      <td>C</td>\n",
       "      <td>Wood and Forest Land</td>\n",
       "    </tr>\n",
       "    <tr>\n",
       "      <th>2</th>\n",
       "      <td>Coniferous High Forest</td>\n",
       "      <td>C2</td>\n",
       "      <td>C</td>\n",
       "      <td>Wood and Forest Land</td>\n",
       "    </tr>\n",
       "    <tr>\n",
       "      <th>3</th>\n",
       "      <td>Mixed High Forest</td>\n",
       "      <td>C3</td>\n",
       "      <td>C</td>\n",
       "      <td>Wood and Forest Land</td>\n",
       "    </tr>\n",
       "    <tr>\n",
       "      <th>4</th>\n",
       "      <td>Scrub</td>\n",
       "      <td>C4a</td>\n",
       "      <td>C</td>\n",
       "      <td>Wood and Forest Land</td>\n",
       "    </tr>\n",
       "    <tr>\n",
       "      <th>5</th>\n",
       "      <td>Scrub Pasture</td>\n",
       "      <td>C4b</td>\n",
       "      <td>C</td>\n",
       "      <td>Wood and Forest Land</td>\n",
       "    </tr>\n",
       "    <tr>\n",
       "      <th>6</th>\n",
       "      <td>Woodland/Scrub Edge</td>\n",
       "      <td>C4c</td>\n",
       "      <td>C</td>\n",
       "      <td>Wood and Forest Land</td>\n",
       "    </tr>\n",
       "    <tr>\n",
       "      <th>7</th>\n",
       "      <td>Clear Felled/New Plantings in Forest Areas</td>\n",
       "      <td>C5</td>\n",
       "      <td>C</td>\n",
       "      <td>Wood and Forest Land</td>\n",
       "    </tr>\n",
       "    <tr>\n",
       "      <th>8</th>\n",
       "      <td>Upland Heath</td>\n",
       "      <td>D1</td>\n",
       "      <td>D</td>\n",
       "      <td>Moor and Heath Land</td>\n",
       "    </tr>\n",
       "    <tr>\n",
       "      <th>9</th>\n",
       "      <td>Upland Grass Moor</td>\n",
       "      <td>D2b</td>\n",
       "      <td>D</td>\n",
       "      <td>Moor and Heath Land</td>\n",
       "    </tr>\n",
       "    <tr>\n",
       "      <th>10</th>\n",
       "      <td>Blanket Peat Grass Moor</td>\n",
       "      <td>D2d</td>\n",
       "      <td>D</td>\n",
       "      <td>Moor and Heath Land</td>\n",
       "    </tr>\n",
       "    <tr>\n",
       "      <th>11</th>\n",
       "      <td>Bracken</td>\n",
       "      <td>D3</td>\n",
       "      <td>D</td>\n",
       "      <td>Moor and Heath Land</td>\n",
       "    </tr>\n",
       "    <tr>\n",
       "      <th>12</th>\n",
       "      <td>Unenclosed Lowland Rough Grassland</td>\n",
       "      <td>D4a</td>\n",
       "      <td>D</td>\n",
       "      <td>Moor and Heath Land</td>\n",
       "    </tr>\n",
       "    <tr>\n",
       "      <th>13</th>\n",
       "      <td>Unenclosed Lowland Heath</td>\n",
       "      <td>D4b</td>\n",
       "      <td>D</td>\n",
       "      <td>Moor and Heath Land</td>\n",
       "    </tr>\n",
       "    <tr>\n",
       "      <th>14</th>\n",
       "      <td>Upland Heath/Grass Mosaic</td>\n",
       "      <td>D6a</td>\n",
       "      <td>D</td>\n",
       "      <td>Moor and Heath Land</td>\n",
       "    </tr>\n",
       "    <tr>\n",
       "      <th>15</th>\n",
       "      <td>Upland Heath/Bracken Mosaic</td>\n",
       "      <td>D6b</td>\n",
       "      <td>D</td>\n",
       "      <td>Moor and Heath Land</td>\n",
       "    </tr>\n",
       "    <tr>\n",
       "      <th>16</th>\n",
       "      <td>Upland Heath/Blanket Peat Mosaic</td>\n",
       "      <td>D6c</td>\n",
       "      <td>D</td>\n",
       "      <td>Moor and Heath Land</td>\n",
       "    </tr>\n",
       "    <tr>\n",
       "      <th>17</th>\n",
       "      <td>Eroded Bare Peat</td>\n",
       "      <td>D7a</td>\n",
       "      <td>D</td>\n",
       "      <td>Moor and Heath Land</td>\n",
       "    </tr>\n",
       "    <tr>\n",
       "      <th>18</th>\n",
       "      <td>Eroded Bare Mineral Soil</td>\n",
       "      <td>D7b</td>\n",
       "      <td>D</td>\n",
       "      <td>Moor and Heath Land</td>\n",
       "    </tr>\n",
       "    <tr>\n",
       "      <th>19</th>\n",
       "      <td>Coastal Heath</td>\n",
       "      <td>D8</td>\n",
       "      <td>D</td>\n",
       "      <td>Moor and Heath Land</td>\n",
       "    </tr>\n",
       "    <tr>\n",
       "      <th>20</th>\n",
       "      <td>Cultivated Land</td>\n",
       "      <td>E1</td>\n",
       "      <td>E</td>\n",
       "      <td>Agro-Pastoral Land</td>\n",
       "    </tr>\n",
       "    <tr>\n",
       "      <th>21</th>\n",
       "      <td>Improved Pasture</td>\n",
       "      <td>E2a</td>\n",
       "      <td>E</td>\n",
       "      <td>Agro-Pastoral Land</td>\n",
       "    </tr>\n",
       "    <tr>\n",
       "      <th>22</th>\n",
       "      <td>Rough Pasture</td>\n",
       "      <td>E2b</td>\n",
       "      <td>E</td>\n",
       "      <td>Agro-Pastoral Land</td>\n",
       "    </tr>\n",
       "    <tr>\n",
       "      <th>23</th>\n",
       "      <td>Open Water, Coastal</td>\n",
       "      <td>F1</td>\n",
       "      <td>F</td>\n",
       "      <td>Water and Wetland</td>\n",
       "    </tr>\n",
       "    <tr>\n",
       "      <th>24</th>\n",
       "      <td>Open Water, Inland</td>\n",
       "      <td>F2</td>\n",
       "      <td>F</td>\n",
       "      <td>Water and Wetland</td>\n",
       "    </tr>\n",
       "    <tr>\n",
       "      <th>25</th>\n",
       "      <td>Wetland, Peat Bog</td>\n",
       "      <td>F3a</td>\n",
       "      <td>F</td>\n",
       "      <td>Water and Wetland</td>\n",
       "    </tr>\n",
       "    <tr>\n",
       "      <th>26</th>\n",
       "      <td>Wetland, Freshwater Marsh</td>\n",
       "      <td>F3b</td>\n",
       "      <td>F</td>\n",
       "      <td>Water and Wetland</td>\n",
       "    </tr>\n",
       "    <tr>\n",
       "      <th>27</th>\n",
       "      <td>Wetland, Saltmarsh</td>\n",
       "      <td>F3c</td>\n",
       "      <td>F</td>\n",
       "      <td>Water and Wetland</td>\n",
       "    </tr>\n",
       "    <tr>\n",
       "      <th>28</th>\n",
       "      <td>Wetland, Wet Grassland and Rush Pasture</td>\n",
       "      <td>F3d</td>\n",
       "      <td>F</td>\n",
       "      <td>Water and Wetland</td>\n",
       "    </tr>\n",
       "    <tr>\n",
       "      <th>29</th>\n",
       "      <td>Inland Bare Rock</td>\n",
       "      <td>G2a</td>\n",
       "      <td>G</td>\n",
       "      <td>Rock and Coastal Land</td>\n",
       "    </tr>\n",
       "    <tr>\n",
       "      <th>30</th>\n",
       "      <td>Coastal Bare Rock</td>\n",
       "      <td>G2b</td>\n",
       "      <td>G</td>\n",
       "      <td>Rock and Coastal Land</td>\n",
       "    </tr>\n",
       "    <tr>\n",
       "      <th>31</th>\n",
       "      <td>Coastal Dunes</td>\n",
       "      <td>G3a</td>\n",
       "      <td>G</td>\n",
       "      <td>Rock and Coastal Land</td>\n",
       "    </tr>\n",
       "    <tr>\n",
       "      <th>32</th>\n",
       "      <td>Coastal Sand Beach</td>\n",
       "      <td>G3b</td>\n",
       "      <td>G</td>\n",
       "      <td>Rock and Coastal Land</td>\n",
       "    </tr>\n",
       "    <tr>\n",
       "      <th>33</th>\n",
       "      <td>Coastal Shingle Beach</td>\n",
       "      <td>G3c</td>\n",
       "      <td>G</td>\n",
       "      <td>Rock and Coastal Land</td>\n",
       "    </tr>\n",
       "    <tr>\n",
       "      <th>34</th>\n",
       "      <td>Coastal Mudflats</td>\n",
       "      <td>G3d</td>\n",
       "      <td>G</td>\n",
       "      <td>Rock and Coastal Land</td>\n",
       "    </tr>\n",
       "    <tr>\n",
       "      <th>35</th>\n",
       "      <td>Urban</td>\n",
       "      <td>H1a</td>\n",
       "      <td>H</td>\n",
       "      <td>Developed Land</td>\n",
       "    </tr>\n",
       "    <tr>\n",
       "      <th>36</th>\n",
       "      <td>Major Transport Routes</td>\n",
       "      <td>H1b</td>\n",
       "      <td>H</td>\n",
       "      <td>Developed Land</td>\n",
       "    </tr>\n",
       "    <tr>\n",
       "      <th>37</th>\n",
       "      <td>Minor Transport Routes</td>\n",
       "      <td>H1c</td>\n",
       "      <td>H</td>\n",
       "      <td>Developed Land</td>\n",
       "    </tr>\n",
       "    <tr>\n",
       "      <th>38</th>\n",
       "      <td>Urban Greenspace</td>\n",
       "      <td>H1d</td>\n",
       "      <td>H</td>\n",
       "      <td>Developed Land</td>\n",
       "    </tr>\n",
       "    <tr>\n",
       "      <th>39</th>\n",
       "      <td>Quarries and Mineral Workings</td>\n",
       "      <td>H2a</td>\n",
       "      <td>H</td>\n",
       "      <td>Developed Land</td>\n",
       "    </tr>\n",
       "    <tr>\n",
       "      <th>40</th>\n",
       "      <td>Derelict Land</td>\n",
       "      <td>H2b</td>\n",
       "      <td>H</td>\n",
       "      <td>Developed Land</td>\n",
       "    </tr>\n",
       "    <tr>\n",
       "      <th>41</th>\n",
       "      <td>Isolated Farmsteads (&gt;0.25 ha)</td>\n",
       "      <td>H3a</td>\n",
       "      <td>H</td>\n",
       "      <td>Developed Land</td>\n",
       "    </tr>\n",
       "    <tr>\n",
       "      <th>42</th>\n",
       "      <td>Other Isolated Rural Developments (&gt;0.25 ha)</td>\n",
       "      <td>H3b</td>\n",
       "      <td>H</td>\n",
       "      <td>Developed Land</td>\n",
       "    </tr>\n",
       "    <tr>\n",
       "      <th>43</th>\n",
       "      <td>Unclassified Land</td>\n",
       "      <td>I</td>\n",
       "      <td>I</td>\n",
       "      <td>Unclassified Land</td>\n",
       "    </tr>\n",
       "  </tbody>\n",
       "</table>\n",
       "</div>"
      ],
      "text/plain": [
       "                                description_2022 code_2022 main_class_code  \\\n",
       "0                                       NO CLASS         0               0   \n",
       "1                        Broadleaved High Forest        C1               C   \n",
       "2                         Coniferous High Forest        C2               C   \n",
       "3                              Mixed High Forest        C3               C   \n",
       "4                                          Scrub       C4a               C   \n",
       "5                                  Scrub Pasture       C4b               C   \n",
       "6                            Woodland/Scrub Edge       C4c               C   \n",
       "7     Clear Felled/New Plantings in Forest Areas        C5               C   \n",
       "8                                   Upland Heath        D1               D   \n",
       "9                              Upland Grass Moor       D2b               D   \n",
       "10                       Blanket Peat Grass Moor       D2d               D   \n",
       "11                                       Bracken        D3               D   \n",
       "12            Unenclosed Lowland Rough Grassland       D4a               D   \n",
       "13                      Unenclosed Lowland Heath       D4b               D   \n",
       "14                     Upland Heath/Grass Mosaic       D6a               D   \n",
       "15                   Upland Heath/Bracken Mosaic       D6b               D   \n",
       "16              Upland Heath/Blanket Peat Mosaic       D6c               D   \n",
       "17                              Eroded Bare Peat       D7a               D   \n",
       "18                      Eroded Bare Mineral Soil       D7b               D   \n",
       "19                                 Coastal Heath        D8               D   \n",
       "20                               Cultivated Land        E1               E   \n",
       "21                              Improved Pasture       E2a               E   \n",
       "22                                 Rough Pasture       E2b               E   \n",
       "23                           Open Water, Coastal        F1               F   \n",
       "24                            Open Water, Inland        F2               F   \n",
       "25                             Wetland, Peat Bog       F3a               F   \n",
       "26                     Wetland, Freshwater Marsh       F3b               F   \n",
       "27                            Wetland, Saltmarsh       F3c               F   \n",
       "28       Wetland, Wet Grassland and Rush Pasture       F3d               F   \n",
       "29                              Inland Bare Rock       G2a               G   \n",
       "30                             Coastal Bare Rock       G2b               G   \n",
       "31                                 Coastal Dunes       G3a               G   \n",
       "32                            Coastal Sand Beach       G3b               G   \n",
       "33                         Coastal Shingle Beach       G3c               G   \n",
       "34                              Coastal Mudflats       G3d               G   \n",
       "35                                         Urban       H1a               H   \n",
       "36                        Major Transport Routes       H1b               H   \n",
       "37                        Minor Transport Routes       H1c               H   \n",
       "38                              Urban Greenspace       H1d               H   \n",
       "39                 Quarries and Mineral Workings       H2a               H   \n",
       "40                                 Derelict Land       H2b               H   \n",
       "41                Isolated Farmsteads (>0.25 ha)       H3a               H   \n",
       "42  Other Isolated Rural Developments (>0.25 ha)       H3b               H   \n",
       "43                             Unclassified Land         I               I   \n",
       "\n",
       "         main_description  \n",
       "0                NO CLASS  \n",
       "1    Wood and Forest Land  \n",
       "2    Wood and Forest Land  \n",
       "3    Wood and Forest Land  \n",
       "4    Wood and Forest Land  \n",
       "5    Wood and Forest Land  \n",
       "6    Wood and Forest Land  \n",
       "7    Wood and Forest Land  \n",
       "8     Moor and Heath Land  \n",
       "9     Moor and Heath Land  \n",
       "10    Moor and Heath Land  \n",
       "11    Moor and Heath Land  \n",
       "12    Moor and Heath Land  \n",
       "13    Moor and Heath Land  \n",
       "14    Moor and Heath Land  \n",
       "15    Moor and Heath Land  \n",
       "16    Moor and Heath Land  \n",
       "17    Moor and Heath Land  \n",
       "18    Moor and Heath Land  \n",
       "19    Moor and Heath Land  \n",
       "20     Agro-Pastoral Land  \n",
       "21     Agro-Pastoral Land  \n",
       "22     Agro-Pastoral Land  \n",
       "23      Water and Wetland  \n",
       "24      Water and Wetland  \n",
       "25      Water and Wetland  \n",
       "26      Water and Wetland  \n",
       "27      Water and Wetland  \n",
       "28      Water and Wetland  \n",
       "29  Rock and Coastal Land  \n",
       "30  Rock and Coastal Land  \n",
       "31  Rock and Coastal Land  \n",
       "32  Rock and Coastal Land  \n",
       "33  Rock and Coastal Land  \n",
       "34  Rock and Coastal Land  \n",
       "35         Developed Land  \n",
       "36         Developed Land  \n",
       "37         Developed Land  \n",
       "38         Developed Land  \n",
       "39         Developed Land  \n",
       "40         Developed Land  \n",
       "41         Developed Land  \n",
       "42         Developed Land  \n",
       "43      Unclassified Land  "
      ]
     },
     "execution_count": 132,
     "metadata": {},
     "output_type": "execute_result"
    }
   ],
   "source": [
    "df_schema.head(50)"
   ]
  },
  {
   "cell_type": "code",
   "execution_count": 176,
   "metadata": {},
   "outputs": [],
   "source": [
    "data_plot = {'child': [], 'parent': [], 'values': []}\n",
    "value_size = 2\n",
    "for ii in range(len(df_schema)):\n",
    "    code = df_schema['code_2022'].iloc[ii]\n",
    "    if code == '0' or code in classes_ignore:\n",
    "        continue\n",
    "    if len(code) == 1:\n",
    "        data_plot['child'].append(code)\n",
    "        data_plot['parent'].append('LC schema')\n",
    "        data_plot['values'].append(0) \n",
    "    elif len(code) == 2:\n",
    "        data_plot['child'].append(code)\n",
    "        # data_plot['parent'].append(mapping_dict_to_full[code[0]])\n",
    "        data_plot['parent'].append(code[0])\n",
    "        data_plot['values'].append(value_size)\n",
    "    elif len(code) == 3:\n",
    "        data_plot['child'].append(code)\n",
    "        data_plot['parent'].append(code[:2])\n",
    "        data_plot['values'].append(value_size)\n",
    "\n",
    "        if code[:2] not in data_plot['child']:\n",
    "            data_plot['child'].append(code[:2])\n",
    "            data_plot['parent'].append(code[0])\n",
    "            # data_plot['parent'].append(mapping_dict_to_full[code[0]])\n",
    "            data_plot['values'].append(0)\n",
    "\n",
    "list_low_level = list(set([x[0] for x in data_plot['child']]))\n",
    "list_low_level.sort()\n",
    "for low_level in list_low_level:\n",
    "    if low_level not in data_plot['child']:\n",
    "        data_plot['child'].append(low_level)\n",
    "        # data_plot['child'].append(mapping_dict_to_full[low_level])\n",
    "        data_plot['parent'].append('LC schema')\n",
    "        data_plot['values'].append(0)"
   ]
  },
  {
   "cell_type": "code",
   "execution_count": 178,
   "metadata": {},
   "outputs": [
    {
     "data": {
      "application/vnd.plotly.v1+json": {
       "config": {
        "plotlyServerURL": "https://plot.ly"
       },
       "data": [
        {
         "domain": {
          "x": [
           0,
           1
          ],
          "y": [
           0,
           1
          ]
         },
         "hovertemplate": "child=%{label}<br>value=%{value}<br>parent=%{parent}<extra></extra>",
         "labels": [
          "C1",
          "C2",
          "C3",
          "C4a",
          "C4",
          "C4b",
          "C4c",
          "C5",
          "D1",
          "D2b",
          "D2",
          "D2d",
          "D3",
          "D6a",
          "D6",
          "D6b",
          "D6c",
          "D7a",
          "D7",
          "D7b",
          "E1",
          "E2a",
          "E2",
          "E2b",
          "F2",
          "F3a",
          "F3",
          "F3c",
          "G2a",
          "G2",
          "H1a",
          "H1",
          "H1b",
          "H1c",
          "H1d",
          "H2a",
          "H2",
          "H2b",
          "H3a",
          "H3",
          "H3b",
          "I",
          "C",
          "D",
          "E",
          "F",
          "G",
          "H"
         ],
         "name": "",
         "parents": [
          "C",
          "C",
          "C",
          "C4",
          "C",
          "C4",
          "C4",
          "C",
          "D",
          "D2",
          "D",
          "D2",
          "D",
          "D6",
          "D",
          "D6",
          "D6",
          "D7",
          "D",
          "D7",
          "E",
          "E2",
          "E",
          "E2",
          "F",
          "F3",
          "F",
          "F3",
          "G2",
          "G",
          "H1",
          "H",
          "H1",
          "H1",
          "H1",
          "H2",
          "H",
          "H2",
          "H3",
          "H",
          "H3",
          "LC schema",
          "LC schema",
          "LC schema",
          "LC schema",
          "LC schema",
          "LC schema",
          "LC schema"
         ],
         "sort": false,
         "type": "sunburst",
         "values": [
          2,
          2,
          2,
          2,
          0,
          2,
          2,
          2,
          2,
          2,
          0,
          2,
          2,
          2,
          0,
          2,
          2,
          2,
          0,
          2,
          2,
          2,
          0,
          2,
          2,
          2,
          0,
          2,
          2,
          0,
          2,
          0,
          2,
          2,
          2,
          2,
          0,
          2,
          2,
          0,
          2,
          0,
          0,
          0,
          0,
          0,
          0,
          0
         ]
        }
       ],
       "layout": {
        "legend": {
         "tracegroupgap": 0
        },
        "margin": {
         "t": 60
        },
        "template": {
         "data": {
          "bar": [
           {
            "error_x": {
             "color": "#2a3f5f"
            },
            "error_y": {
             "color": "#2a3f5f"
            },
            "marker": {
             "line": {
              "color": "#E5ECF6",
              "width": 0.5
             },
             "pattern": {
              "fillmode": "overlay",
              "size": 10,
              "solidity": 0.2
             }
            },
            "type": "bar"
           }
          ],
          "barpolar": [
           {
            "marker": {
             "line": {
              "color": "#E5ECF6",
              "width": 0.5
             },
             "pattern": {
              "fillmode": "overlay",
              "size": 10,
              "solidity": 0.2
             }
            },
            "type": "barpolar"
           }
          ],
          "carpet": [
           {
            "aaxis": {
             "endlinecolor": "#2a3f5f",
             "gridcolor": "white",
             "linecolor": "white",
             "minorgridcolor": "white",
             "startlinecolor": "#2a3f5f"
            },
            "baxis": {
             "endlinecolor": "#2a3f5f",
             "gridcolor": "white",
             "linecolor": "white",
             "minorgridcolor": "white",
             "startlinecolor": "#2a3f5f"
            },
            "type": "carpet"
           }
          ],
          "choropleth": [
           {
            "colorbar": {
             "outlinewidth": 0,
             "ticks": ""
            },
            "type": "choropleth"
           }
          ],
          "contour": [
           {
            "colorbar": {
             "outlinewidth": 0,
             "ticks": ""
            },
            "colorscale": [
             [
              0,
              "#0d0887"
             ],
             [
              0.1111111111111111,
              "#46039f"
             ],
             [
              0.2222222222222222,
              "#7201a8"
             ],
             [
              0.3333333333333333,
              "#9c179e"
             ],
             [
              0.4444444444444444,
              "#bd3786"
             ],
             [
              0.5555555555555556,
              "#d8576b"
             ],
             [
              0.6666666666666666,
              "#ed7953"
             ],
             [
              0.7777777777777778,
              "#fb9f3a"
             ],
             [
              0.8888888888888888,
              "#fdca26"
             ],
             [
              1,
              "#f0f921"
             ]
            ],
            "type": "contour"
           }
          ],
          "contourcarpet": [
           {
            "colorbar": {
             "outlinewidth": 0,
             "ticks": ""
            },
            "type": "contourcarpet"
           }
          ],
          "heatmap": [
           {
            "colorbar": {
             "outlinewidth": 0,
             "ticks": ""
            },
            "colorscale": [
             [
              0,
              "#0d0887"
             ],
             [
              0.1111111111111111,
              "#46039f"
             ],
             [
              0.2222222222222222,
              "#7201a8"
             ],
             [
              0.3333333333333333,
              "#9c179e"
             ],
             [
              0.4444444444444444,
              "#bd3786"
             ],
             [
              0.5555555555555556,
              "#d8576b"
             ],
             [
              0.6666666666666666,
              "#ed7953"
             ],
             [
              0.7777777777777778,
              "#fb9f3a"
             ],
             [
              0.8888888888888888,
              "#fdca26"
             ],
             [
              1,
              "#f0f921"
             ]
            ],
            "type": "heatmap"
           }
          ],
          "heatmapgl": [
           {
            "colorbar": {
             "outlinewidth": 0,
             "ticks": ""
            },
            "colorscale": [
             [
              0,
              "#0d0887"
             ],
             [
              0.1111111111111111,
              "#46039f"
             ],
             [
              0.2222222222222222,
              "#7201a8"
             ],
             [
              0.3333333333333333,
              "#9c179e"
             ],
             [
              0.4444444444444444,
              "#bd3786"
             ],
             [
              0.5555555555555556,
              "#d8576b"
             ],
             [
              0.6666666666666666,
              "#ed7953"
             ],
             [
              0.7777777777777778,
              "#fb9f3a"
             ],
             [
              0.8888888888888888,
              "#fdca26"
             ],
             [
              1,
              "#f0f921"
             ]
            ],
            "type": "heatmapgl"
           }
          ],
          "histogram": [
           {
            "marker": {
             "pattern": {
              "fillmode": "overlay",
              "size": 10,
              "solidity": 0.2
             }
            },
            "type": "histogram"
           }
          ],
          "histogram2d": [
           {
            "colorbar": {
             "outlinewidth": 0,
             "ticks": ""
            },
            "colorscale": [
             [
              0,
              "#0d0887"
             ],
             [
              0.1111111111111111,
              "#46039f"
             ],
             [
              0.2222222222222222,
              "#7201a8"
             ],
             [
              0.3333333333333333,
              "#9c179e"
             ],
             [
              0.4444444444444444,
              "#bd3786"
             ],
             [
              0.5555555555555556,
              "#d8576b"
             ],
             [
              0.6666666666666666,
              "#ed7953"
             ],
             [
              0.7777777777777778,
              "#fb9f3a"
             ],
             [
              0.8888888888888888,
              "#fdca26"
             ],
             [
              1,
              "#f0f921"
             ]
            ],
            "type": "histogram2d"
           }
          ],
          "histogram2dcontour": [
           {
            "colorbar": {
             "outlinewidth": 0,
             "ticks": ""
            },
            "colorscale": [
             [
              0,
              "#0d0887"
             ],
             [
              0.1111111111111111,
              "#46039f"
             ],
             [
              0.2222222222222222,
              "#7201a8"
             ],
             [
              0.3333333333333333,
              "#9c179e"
             ],
             [
              0.4444444444444444,
              "#bd3786"
             ],
             [
              0.5555555555555556,
              "#d8576b"
             ],
             [
              0.6666666666666666,
              "#ed7953"
             ],
             [
              0.7777777777777778,
              "#fb9f3a"
             ],
             [
              0.8888888888888888,
              "#fdca26"
             ],
             [
              1,
              "#f0f921"
             ]
            ],
            "type": "histogram2dcontour"
           }
          ],
          "mesh3d": [
           {
            "colorbar": {
             "outlinewidth": 0,
             "ticks": ""
            },
            "type": "mesh3d"
           }
          ],
          "parcoords": [
           {
            "line": {
             "colorbar": {
              "outlinewidth": 0,
              "ticks": ""
             }
            },
            "type": "parcoords"
           }
          ],
          "pie": [
           {
            "automargin": true,
            "type": "pie"
           }
          ],
          "scatter": [
           {
            "fillpattern": {
             "fillmode": "overlay",
             "size": 10,
             "solidity": 0.2
            },
            "type": "scatter"
           }
          ],
          "scatter3d": [
           {
            "line": {
             "colorbar": {
              "outlinewidth": 0,
              "ticks": ""
             }
            },
            "marker": {
             "colorbar": {
              "outlinewidth": 0,
              "ticks": ""
             }
            },
            "type": "scatter3d"
           }
          ],
          "scattercarpet": [
           {
            "marker": {
             "colorbar": {
              "outlinewidth": 0,
              "ticks": ""
             }
            },
            "type": "scattercarpet"
           }
          ],
          "scattergeo": [
           {
            "marker": {
             "colorbar": {
              "outlinewidth": 0,
              "ticks": ""
             }
            },
            "type": "scattergeo"
           }
          ],
          "scattergl": [
           {
            "marker": {
             "colorbar": {
              "outlinewidth": 0,
              "ticks": ""
             }
            },
            "type": "scattergl"
           }
          ],
          "scattermapbox": [
           {
            "marker": {
             "colorbar": {
              "outlinewidth": 0,
              "ticks": ""
             }
            },
            "type": "scattermapbox"
           }
          ],
          "scatterpolar": [
           {
            "marker": {
             "colorbar": {
              "outlinewidth": 0,
              "ticks": ""
             }
            },
            "type": "scatterpolar"
           }
          ],
          "scatterpolargl": [
           {
            "marker": {
             "colorbar": {
              "outlinewidth": 0,
              "ticks": ""
             }
            },
            "type": "scatterpolargl"
           }
          ],
          "scatterternary": [
           {
            "marker": {
             "colorbar": {
              "outlinewidth": 0,
              "ticks": ""
             }
            },
            "type": "scatterternary"
           }
          ],
          "surface": [
           {
            "colorbar": {
             "outlinewidth": 0,
             "ticks": ""
            },
            "colorscale": [
             [
              0,
              "#0d0887"
             ],
             [
              0.1111111111111111,
              "#46039f"
             ],
             [
              0.2222222222222222,
              "#7201a8"
             ],
             [
              0.3333333333333333,
              "#9c179e"
             ],
             [
              0.4444444444444444,
              "#bd3786"
             ],
             [
              0.5555555555555556,
              "#d8576b"
             ],
             [
              0.6666666666666666,
              "#ed7953"
             ],
             [
              0.7777777777777778,
              "#fb9f3a"
             ],
             [
              0.8888888888888888,
              "#fdca26"
             ],
             [
              1,
              "#f0f921"
             ]
            ],
            "type": "surface"
           }
          ],
          "table": [
           {
            "cells": {
             "fill": {
              "color": "#EBF0F8"
             },
             "line": {
              "color": "white"
             }
            },
            "header": {
             "fill": {
              "color": "#C8D4E3"
             },
             "line": {
              "color": "white"
             }
            },
            "type": "table"
           }
          ]
         },
         "layout": {
          "annotationdefaults": {
           "arrowcolor": "#2a3f5f",
           "arrowhead": 0,
           "arrowwidth": 1
          },
          "autotypenumbers": "strict",
          "coloraxis": {
           "colorbar": {
            "outlinewidth": 0,
            "ticks": ""
           }
          },
          "colorscale": {
           "diverging": [
            [
             0,
             "#8e0152"
            ],
            [
             0.1,
             "#c51b7d"
            ],
            [
             0.2,
             "#de77ae"
            ],
            [
             0.3,
             "#f1b6da"
            ],
            [
             0.4,
             "#fde0ef"
            ],
            [
             0.5,
             "#f7f7f7"
            ],
            [
             0.6,
             "#e6f5d0"
            ],
            [
             0.7,
             "#b8e186"
            ],
            [
             0.8,
             "#7fbc41"
            ],
            [
             0.9,
             "#4d9221"
            ],
            [
             1,
             "#276419"
            ]
           ],
           "sequential": [
            [
             0,
             "#0d0887"
            ],
            [
             0.1111111111111111,
             "#46039f"
            ],
            [
             0.2222222222222222,
             "#7201a8"
            ],
            [
             0.3333333333333333,
             "#9c179e"
            ],
            [
             0.4444444444444444,
             "#bd3786"
            ],
            [
             0.5555555555555556,
             "#d8576b"
            ],
            [
             0.6666666666666666,
             "#ed7953"
            ],
            [
             0.7777777777777778,
             "#fb9f3a"
            ],
            [
             0.8888888888888888,
             "#fdca26"
            ],
            [
             1,
             "#f0f921"
            ]
           ],
           "sequentialminus": [
            [
             0,
             "#0d0887"
            ],
            [
             0.1111111111111111,
             "#46039f"
            ],
            [
             0.2222222222222222,
             "#7201a8"
            ],
            [
             0.3333333333333333,
             "#9c179e"
            ],
            [
             0.4444444444444444,
             "#bd3786"
            ],
            [
             0.5555555555555556,
             "#d8576b"
            ],
            [
             0.6666666666666666,
             "#ed7953"
            ],
            [
             0.7777777777777778,
             "#fb9f3a"
            ],
            [
             0.8888888888888888,
             "#fdca26"
            ],
            [
             1,
             "#f0f921"
            ]
           ]
          },
          "colorway": [
           "#636efa",
           "#EF553B",
           "#00cc96",
           "#ab63fa",
           "#FFA15A",
           "#19d3f3",
           "#FF6692",
           "#B6E880",
           "#FF97FF",
           "#FECB52"
          ],
          "font": {
           "color": "#2a3f5f"
          },
          "geo": {
           "bgcolor": "white",
           "lakecolor": "white",
           "landcolor": "#E5ECF6",
           "showlakes": true,
           "showland": true,
           "subunitcolor": "white"
          },
          "hoverlabel": {
           "align": "left"
          },
          "hovermode": "closest",
          "mapbox": {
           "style": "light"
          },
          "paper_bgcolor": "white",
          "plot_bgcolor": "#E5ECF6",
          "polar": {
           "angularaxis": {
            "gridcolor": "white",
            "linecolor": "white",
            "ticks": ""
           },
           "bgcolor": "#E5ECF6",
           "radialaxis": {
            "gridcolor": "white",
            "linecolor": "white",
            "ticks": ""
           }
          },
          "scene": {
           "xaxis": {
            "backgroundcolor": "#E5ECF6",
            "gridcolor": "white",
            "gridwidth": 2,
            "linecolor": "white",
            "showbackground": true,
            "ticks": "",
            "zerolinecolor": "white"
           },
           "yaxis": {
            "backgroundcolor": "#E5ECF6",
            "gridcolor": "white",
            "gridwidth": 2,
            "linecolor": "white",
            "showbackground": true,
            "ticks": "",
            "zerolinecolor": "white"
           },
           "zaxis": {
            "backgroundcolor": "#E5ECF6",
            "gridcolor": "white",
            "gridwidth": 2,
            "linecolor": "white",
            "showbackground": true,
            "ticks": "",
            "zerolinecolor": "white"
           }
          },
          "shapedefaults": {
           "line": {
            "color": "#2a3f5f"
           }
          },
          "ternary": {
           "aaxis": {
            "gridcolor": "white",
            "linecolor": "white",
            "ticks": ""
           },
           "baxis": {
            "gridcolor": "white",
            "linecolor": "white",
            "ticks": ""
           },
           "bgcolor": "#E5ECF6",
           "caxis": {
            "gridcolor": "white",
            "linecolor": "white",
            "ticks": ""
           }
          },
          "title": {
           "x": 0.05
          },
          "xaxis": {
           "automargin": true,
           "gridcolor": "white",
           "linecolor": "white",
           "ticks": "",
           "title": {
            "standoff": 15
           },
           "zerolinecolor": "white",
           "zerolinewidth": 2
          },
          "yaxis": {
           "automargin": true,
           "gridcolor": "white",
           "linecolor": "white",
           "ticks": "",
           "title": {
            "standoff": 15
           },
           "zerolinecolor": "white",
           "zerolinewidth": 2
          }
         }
        }
       }
      },
      "text/html": [
       "<div>                            <div id=\"d84ae464-2d4d-4fbe-a0ed-140b367029c6\" class=\"plotly-graph-div\" style=\"height:525px; width:100%;\"></div>            <script type=\"text/javascript\">                require([\"plotly\"], function(Plotly) {                    window.PLOTLYENV=window.PLOTLYENV || {};                                    if (document.getElementById(\"d84ae464-2d4d-4fbe-a0ed-140b367029c6\")) {                    Plotly.newPlot(                        \"d84ae464-2d4d-4fbe-a0ed-140b367029c6\",                        [{\"domain\":{\"x\":[0.0,1.0],\"y\":[0.0,1.0]},\"hovertemplate\":\"child=%{label}<br>value=%{value}<br>parent=%{parent}<extra></extra>\",\"labels\":[\"C1\",\"C2\",\"C3\",\"C4a\",\"C4\",\"C4b\",\"C4c\",\"C5\",\"D1\",\"D2b\",\"D2\",\"D2d\",\"D3\",\"D6a\",\"D6\",\"D6b\",\"D6c\",\"D7a\",\"D7\",\"D7b\",\"E1\",\"E2a\",\"E2\",\"E2b\",\"F2\",\"F3a\",\"F3\",\"F3c\",\"G2a\",\"G2\",\"H1a\",\"H1\",\"H1b\",\"H1c\",\"H1d\",\"H2a\",\"H2\",\"H2b\",\"H3a\",\"H3\",\"H3b\",\"I\",\"C\",\"D\",\"E\",\"F\",\"G\",\"H\"],\"name\":\"\",\"parents\":[\"C\",\"C\",\"C\",\"C4\",\"C\",\"C4\",\"C4\",\"C\",\"D\",\"D2\",\"D\",\"D2\",\"D\",\"D6\",\"D\",\"D6\",\"D6\",\"D7\",\"D\",\"D7\",\"E\",\"E2\",\"E\",\"E2\",\"F\",\"F3\",\"F\",\"F3\",\"G2\",\"G\",\"H1\",\"H\",\"H1\",\"H1\",\"H1\",\"H2\",\"H\",\"H2\",\"H3\",\"H\",\"H3\",\"LC schema\",\"LC schema\",\"LC schema\",\"LC schema\",\"LC schema\",\"LC schema\",\"LC schema\"],\"values\":[2,2,2,2,0,2,2,2,2,2,0,2,2,2,0,2,2,2,0,2,2,2,0,2,2,2,0,2,2,0,2,0,2,2,2,2,0,2,2,0,2,0,0,0,0,0,0,0],\"type\":\"sunburst\",\"sort\":false}],                        {\"template\":{\"data\":{\"histogram2dcontour\":[{\"type\":\"histogram2dcontour\",\"colorbar\":{\"outlinewidth\":0,\"ticks\":\"\"},\"colorscale\":[[0.0,\"#0d0887\"],[0.1111111111111111,\"#46039f\"],[0.2222222222222222,\"#7201a8\"],[0.3333333333333333,\"#9c179e\"],[0.4444444444444444,\"#bd3786\"],[0.5555555555555556,\"#d8576b\"],[0.6666666666666666,\"#ed7953\"],[0.7777777777777778,\"#fb9f3a\"],[0.8888888888888888,\"#fdca26\"],[1.0,\"#f0f921\"]]}],\"choropleth\":[{\"type\":\"choropleth\",\"colorbar\":{\"outlinewidth\":0,\"ticks\":\"\"}}],\"histogram2d\":[{\"type\":\"histogram2d\",\"colorbar\":{\"outlinewidth\":0,\"ticks\":\"\"},\"colorscale\":[[0.0,\"#0d0887\"],[0.1111111111111111,\"#46039f\"],[0.2222222222222222,\"#7201a8\"],[0.3333333333333333,\"#9c179e\"],[0.4444444444444444,\"#bd3786\"],[0.5555555555555556,\"#d8576b\"],[0.6666666666666666,\"#ed7953\"],[0.7777777777777778,\"#fb9f3a\"],[0.8888888888888888,\"#fdca26\"],[1.0,\"#f0f921\"]]}],\"heatmap\":[{\"type\":\"heatmap\",\"colorbar\":{\"outlinewidth\":0,\"ticks\":\"\"},\"colorscale\":[[0.0,\"#0d0887\"],[0.1111111111111111,\"#46039f\"],[0.2222222222222222,\"#7201a8\"],[0.3333333333333333,\"#9c179e\"],[0.4444444444444444,\"#bd3786\"],[0.5555555555555556,\"#d8576b\"],[0.6666666666666666,\"#ed7953\"],[0.7777777777777778,\"#fb9f3a\"],[0.8888888888888888,\"#fdca26\"],[1.0,\"#f0f921\"]]}],\"heatmapgl\":[{\"type\":\"heatmapgl\",\"colorbar\":{\"outlinewidth\":0,\"ticks\":\"\"},\"colorscale\":[[0.0,\"#0d0887\"],[0.1111111111111111,\"#46039f\"],[0.2222222222222222,\"#7201a8\"],[0.3333333333333333,\"#9c179e\"],[0.4444444444444444,\"#bd3786\"],[0.5555555555555556,\"#d8576b\"],[0.6666666666666666,\"#ed7953\"],[0.7777777777777778,\"#fb9f3a\"],[0.8888888888888888,\"#fdca26\"],[1.0,\"#f0f921\"]]}],\"contourcarpet\":[{\"type\":\"contourcarpet\",\"colorbar\":{\"outlinewidth\":0,\"ticks\":\"\"}}],\"contour\":[{\"type\":\"contour\",\"colorbar\":{\"outlinewidth\":0,\"ticks\":\"\"},\"colorscale\":[[0.0,\"#0d0887\"],[0.1111111111111111,\"#46039f\"],[0.2222222222222222,\"#7201a8\"],[0.3333333333333333,\"#9c179e\"],[0.4444444444444444,\"#bd3786\"],[0.5555555555555556,\"#d8576b\"],[0.6666666666666666,\"#ed7953\"],[0.7777777777777778,\"#fb9f3a\"],[0.8888888888888888,\"#fdca26\"],[1.0,\"#f0f921\"]]}],\"surface\":[{\"type\":\"surface\",\"colorbar\":{\"outlinewidth\":0,\"ticks\":\"\"},\"colorscale\":[[0.0,\"#0d0887\"],[0.1111111111111111,\"#46039f\"],[0.2222222222222222,\"#7201a8\"],[0.3333333333333333,\"#9c179e\"],[0.4444444444444444,\"#bd3786\"],[0.5555555555555556,\"#d8576b\"],[0.6666666666666666,\"#ed7953\"],[0.7777777777777778,\"#fb9f3a\"],[0.8888888888888888,\"#fdca26\"],[1.0,\"#f0f921\"]]}],\"mesh3d\":[{\"type\":\"mesh3d\",\"colorbar\":{\"outlinewidth\":0,\"ticks\":\"\"}}],\"scatter\":[{\"fillpattern\":{\"fillmode\":\"overlay\",\"size\":10,\"solidity\":0.2},\"type\":\"scatter\"}],\"parcoords\":[{\"type\":\"parcoords\",\"line\":{\"colorbar\":{\"outlinewidth\":0,\"ticks\":\"\"}}}],\"scatterpolargl\":[{\"type\":\"scatterpolargl\",\"marker\":{\"colorbar\":{\"outlinewidth\":0,\"ticks\":\"\"}}}],\"bar\":[{\"error_x\":{\"color\":\"#2a3f5f\"},\"error_y\":{\"color\":\"#2a3f5f\"},\"marker\":{\"line\":{\"color\":\"#E5ECF6\",\"width\":0.5},\"pattern\":{\"fillmode\":\"overlay\",\"size\":10,\"solidity\":0.2}},\"type\":\"bar\"}],\"scattergeo\":[{\"type\":\"scattergeo\",\"marker\":{\"colorbar\":{\"outlinewidth\":0,\"ticks\":\"\"}}}],\"scatterpolar\":[{\"type\":\"scatterpolar\",\"marker\":{\"colorbar\":{\"outlinewidth\":0,\"ticks\":\"\"}}}],\"histogram\":[{\"marker\":{\"pattern\":{\"fillmode\":\"overlay\",\"size\":10,\"solidity\":0.2}},\"type\":\"histogram\"}],\"scattergl\":[{\"type\":\"scattergl\",\"marker\":{\"colorbar\":{\"outlinewidth\":0,\"ticks\":\"\"}}}],\"scatter3d\":[{\"type\":\"scatter3d\",\"line\":{\"colorbar\":{\"outlinewidth\":0,\"ticks\":\"\"}},\"marker\":{\"colorbar\":{\"outlinewidth\":0,\"ticks\":\"\"}}}],\"scattermapbox\":[{\"type\":\"scattermapbox\",\"marker\":{\"colorbar\":{\"outlinewidth\":0,\"ticks\":\"\"}}}],\"scatterternary\":[{\"type\":\"scatterternary\",\"marker\":{\"colorbar\":{\"outlinewidth\":0,\"ticks\":\"\"}}}],\"scattercarpet\":[{\"type\":\"scattercarpet\",\"marker\":{\"colorbar\":{\"outlinewidth\":0,\"ticks\":\"\"}}}],\"carpet\":[{\"aaxis\":{\"endlinecolor\":\"#2a3f5f\",\"gridcolor\":\"white\",\"linecolor\":\"white\",\"minorgridcolor\":\"white\",\"startlinecolor\":\"#2a3f5f\"},\"baxis\":{\"endlinecolor\":\"#2a3f5f\",\"gridcolor\":\"white\",\"linecolor\":\"white\",\"minorgridcolor\":\"white\",\"startlinecolor\":\"#2a3f5f\"},\"type\":\"carpet\"}],\"table\":[{\"cells\":{\"fill\":{\"color\":\"#EBF0F8\"},\"line\":{\"color\":\"white\"}},\"header\":{\"fill\":{\"color\":\"#C8D4E3\"},\"line\":{\"color\":\"white\"}},\"type\":\"table\"}],\"barpolar\":[{\"marker\":{\"line\":{\"color\":\"#E5ECF6\",\"width\":0.5},\"pattern\":{\"fillmode\":\"overlay\",\"size\":10,\"solidity\":0.2}},\"type\":\"barpolar\"}],\"pie\":[{\"automargin\":true,\"type\":\"pie\"}]},\"layout\":{\"autotypenumbers\":\"strict\",\"colorway\":[\"#636efa\",\"#EF553B\",\"#00cc96\",\"#ab63fa\",\"#FFA15A\",\"#19d3f3\",\"#FF6692\",\"#B6E880\",\"#FF97FF\",\"#FECB52\"],\"font\":{\"color\":\"#2a3f5f\"},\"hovermode\":\"closest\",\"hoverlabel\":{\"align\":\"left\"},\"paper_bgcolor\":\"white\",\"plot_bgcolor\":\"#E5ECF6\",\"polar\":{\"bgcolor\":\"#E5ECF6\",\"angularaxis\":{\"gridcolor\":\"white\",\"linecolor\":\"white\",\"ticks\":\"\"},\"radialaxis\":{\"gridcolor\":\"white\",\"linecolor\":\"white\",\"ticks\":\"\"}},\"ternary\":{\"bgcolor\":\"#E5ECF6\",\"aaxis\":{\"gridcolor\":\"white\",\"linecolor\":\"white\",\"ticks\":\"\"},\"baxis\":{\"gridcolor\":\"white\",\"linecolor\":\"white\",\"ticks\":\"\"},\"caxis\":{\"gridcolor\":\"white\",\"linecolor\":\"white\",\"ticks\":\"\"}},\"coloraxis\":{\"colorbar\":{\"outlinewidth\":0,\"ticks\":\"\"}},\"colorscale\":{\"sequential\":[[0.0,\"#0d0887\"],[0.1111111111111111,\"#46039f\"],[0.2222222222222222,\"#7201a8\"],[0.3333333333333333,\"#9c179e\"],[0.4444444444444444,\"#bd3786\"],[0.5555555555555556,\"#d8576b\"],[0.6666666666666666,\"#ed7953\"],[0.7777777777777778,\"#fb9f3a\"],[0.8888888888888888,\"#fdca26\"],[1.0,\"#f0f921\"]],\"sequentialminus\":[[0.0,\"#0d0887\"],[0.1111111111111111,\"#46039f\"],[0.2222222222222222,\"#7201a8\"],[0.3333333333333333,\"#9c179e\"],[0.4444444444444444,\"#bd3786\"],[0.5555555555555556,\"#d8576b\"],[0.6666666666666666,\"#ed7953\"],[0.7777777777777778,\"#fb9f3a\"],[0.8888888888888888,\"#fdca26\"],[1.0,\"#f0f921\"]],\"diverging\":[[0,\"#8e0152\"],[0.1,\"#c51b7d\"],[0.2,\"#de77ae\"],[0.3,\"#f1b6da\"],[0.4,\"#fde0ef\"],[0.5,\"#f7f7f7\"],[0.6,\"#e6f5d0\"],[0.7,\"#b8e186\"],[0.8,\"#7fbc41\"],[0.9,\"#4d9221\"],[1,\"#276419\"]]},\"xaxis\":{\"gridcolor\":\"white\",\"linecolor\":\"white\",\"ticks\":\"\",\"title\":{\"standoff\":15},\"zerolinecolor\":\"white\",\"automargin\":true,\"zerolinewidth\":2},\"yaxis\":{\"gridcolor\":\"white\",\"linecolor\":\"white\",\"ticks\":\"\",\"title\":{\"standoff\":15},\"zerolinecolor\":\"white\",\"automargin\":true,\"zerolinewidth\":2},\"scene\":{\"xaxis\":{\"backgroundcolor\":\"#E5ECF6\",\"gridcolor\":\"white\",\"linecolor\":\"white\",\"showbackground\":true,\"ticks\":\"\",\"zerolinecolor\":\"white\",\"gridwidth\":2},\"yaxis\":{\"backgroundcolor\":\"#E5ECF6\",\"gridcolor\":\"white\",\"linecolor\":\"white\",\"showbackground\":true,\"ticks\":\"\",\"zerolinecolor\":\"white\",\"gridwidth\":2},\"zaxis\":{\"backgroundcolor\":\"#E5ECF6\",\"gridcolor\":\"white\",\"linecolor\":\"white\",\"showbackground\":true,\"ticks\":\"\",\"zerolinecolor\":\"white\",\"gridwidth\":2}},\"shapedefaults\":{\"line\":{\"color\":\"#2a3f5f\"}},\"annotationdefaults\":{\"arrowcolor\":\"#2a3f5f\",\"arrowhead\":0,\"arrowwidth\":1},\"geo\":{\"bgcolor\":\"white\",\"landcolor\":\"#E5ECF6\",\"subunitcolor\":\"white\",\"showland\":true,\"showlakes\":true,\"lakecolor\":\"white\"},\"title\":{\"x\":0.05},\"mapbox\":{\"style\":\"light\"}}},\"legend\":{\"tracegroupgap\":0},\"margin\":{\"t\":60}},                        {\"responsive\": true}                    ).then(function(){\n",
       "                            \n",
       "var gd = document.getElementById('d84ae464-2d4d-4fbe-a0ed-140b367029c6');\n",
       "var x = new MutationObserver(function (mutations, observer) {{\n",
       "        var display = window.getComputedStyle(gd).display;\n",
       "        if (!display || display === 'none') {{\n",
       "            console.log([gd, 'removed!']);\n",
       "            Plotly.purge(gd);\n",
       "            observer.disconnect();\n",
       "        }}\n",
       "}});\n",
       "\n",
       "// Listen for the removal of the full notebook cells\n",
       "var notebookContainer = gd.closest('#notebook-container');\n",
       "if (notebookContainer) {{\n",
       "    x.observe(notebookContainer, {childList: true});\n",
       "}}\n",
       "\n",
       "// Listen for the clearing of the current output cell\n",
       "var outputEl = gd.closest('.output');\n",
       "if (outputEl) {{\n",
       "    x.observe(outputEl, {childList: true});\n",
       "}}\n",
       "\n",
       "                        })                };                });            </script>        </div>"
      ]
     },
     "metadata": {},
     "output_type": "display_data"
    }
   ],
   "source": [
    "fig = px.sunburst(\n",
    "    data_plot,\n",
    "    names='child',\n",
    "    parents='parent',\n",
    "    values='values',\n",
    ")\n",
    "fig.update_traces(sort=False, selector=dict(type='sunburst'))\n",
    "fig.show()"
   ]
  },
  {
   "cell_type": "code",
   "execution_count": null,
   "metadata": {},
   "outputs": [],
   "source": []
  },
  {
   "cell_type": "code",
   "execution_count": null,
   "metadata": {},
   "outputs": [],
   "source": []
  }
 ],
 "metadata": {
  "kernelspec": {
   "display_name": "geo",
   "language": "python",
   "name": "python3"
  },
  "language_info": {
   "codemirror_mode": {
    "name": "ipython",
    "version": 3
   },
   "file_extension": ".py",
   "mimetype": "text/x-python",
   "name": "python",
   "nbconvert_exporter": "python",
   "pygments_lexer": "ipython3",
   "version": "3.7.13"
  },
  "orig_nbformat": 4
 },
 "nbformat": 4,
 "nbformat_minor": 2
}
