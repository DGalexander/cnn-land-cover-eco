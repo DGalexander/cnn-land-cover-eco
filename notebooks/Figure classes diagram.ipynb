{
 "cells": [
  {
   "cell_type": "code",
   "execution_count": 1,
   "metadata": {},
   "outputs": [],
   "source": [
    "## Create plot with sunburst diagram of classes in the dataset\n",
    "%load_ext autoreload\n",
    "%autoreload 2"
   ]
  },
  {
   "cell_type": "code",
   "execution_count": 2,
   "metadata": {},
   "outputs": [
    {
     "name": "stderr",
     "output_type": "stream",
     "text": [
      "/home/tplas/anaconda3/envs/geo/lib/python3.7/site-packages/geopandas/_compat.py:115: UserWarning: The Shapely GEOS version (3.8.0-CAPI-1.13.1 ) is incompatible with the GEOS version PyGEOS was compiled with (3.10.4-CAPI-1.16.2). Conversions between both will be slow.\n",
      "  shapely_geos_version, geos_capi_version_string\n"
     ]
    },
    {
     "name": "stdout",
     "output_type": "stream",
     "text": [
      "WARNING: creating label mapping dictionary corresponding to LC80 schema (ie missing few classes)\n",
      "adding scrub\n",
      "adding wetland\n",
      "adding transport\n"
     ]
    }
   ],
   "source": [
    "import os, sys\n",
    "sys.path.append('../scripts/')\n",
    "import numpy as np\n",
    "import matplotlib.pyplot as plt\n",
    "import rasterio, rasterio.plot\n",
    "import xarray as xr\n",
    "import rioxarray as rxr\n",
    "from tqdm import tqdm\n",
    "import pandas as pd\n",
    "import time, datetime, json\n",
    "import geopandas as gpd\n",
    "import loadpaths\n",
    "import land_cover_analysis as lca\n",
    "import land_cover_visualisation as lcv\n",
    "import land_cover_models as lcm\n",
    "import create_patches_from_polygons_data\n",
    "from torch.utils.data import TensorDataset, DataLoader\n",
    "import plotly.express as px\n",
    "import plotly.graph_objects as go\n",
    "\n",
    "path_dict = loadpaths.loadpaths()"
   ]
  },
  {
   "cell_type": "code",
   "execution_count": 3,
   "metadata": {},
   "outputs": [],
   "source": [
    "mapping_dict_to_full = {'C': 'Wood and Forest Land',\n",
    "                            'D': 'Moor and Heath Land',\n",
    "                            'E': 'Agro-Pastoral Land',\n",
    "                            'F': 'Water and Wetland',\n",
    "                            'G': 'Rock and Coastal Land',\n",
    "                            'H': 'Developed Land',\n",
    "                            'I': 'Unclassified Land',\n",
    "                            '0': 'NO CLASS',\n",
    "                            'U': 'NO CLASS'}"
   ]
  },
  {
   "cell_type": "code",
   "execution_count": 4,
   "metadata": {},
   "outputs": [
    {
     "name": "stdout",
     "output_type": "stream",
     "text": [
      "WARNING: creating label mapping dictionary corresponding to LC80 schema (ie missing few classes)\n",
      "adding scrub\n",
      "adding wetland\n",
      "adding transport\n"
     ]
    }
   ],
   "source": [
    "df_schema = lca.create_df_mapping_labels_2022_to_80s()\n",
    "df_schema.drop(columns=['description_80s', 'code_80s', 'index_2022', 'index_80s'], inplace=True)\n",
    "df_schema['main_class_code'] = df_schema['code_2022'].apply(lambda x: x[0])\n",
    "df_schema['main_description'] = df_schema['main_class_code'].apply(lambda x: mapping_dict_to_full[x])"
   ]
  },
  {
   "cell_type": "code",
   "execution_count": 5,
   "metadata": {},
   "outputs": [],
   "source": [
    "classes_ignore = ['D4a', 'D4b', 'D8', 'F1', 'F3b', 'F3c', 'G2b', 'G3a', 'G3b', 'G3c', 'G3d']"
   ]
  },
  {
   "cell_type": "code",
   "execution_count": 26,
   "metadata": {},
   "outputs": [
    {
     "data": {
      "text/html": [
       "<div>\n",
       "<style scoped>\n",
       "    .dataframe tbody tr th:only-of-type {\n",
       "        vertical-align: middle;\n",
       "    }\n",
       "\n",
       "    .dataframe tbody tr th {\n",
       "        vertical-align: top;\n",
       "    }\n",
       "\n",
       "    .dataframe thead th {\n",
       "        text-align: right;\n",
       "    }\n",
       "</style>\n",
       "<table border=\"1\" class=\"dataframe\">\n",
       "  <thead>\n",
       "    <tr style=\"text-align: right;\">\n",
       "      <th></th>\n",
       "      <th>description_2022</th>\n",
       "      <th>code_2022</th>\n",
       "      <th>main_class_code</th>\n",
       "      <th>main_description</th>\n",
       "    </tr>\n",
       "  </thead>\n",
       "  <tbody>\n",
       "    <tr>\n",
       "      <th>0</th>\n",
       "      <td>NO CLASS</td>\n",
       "      <td>0</td>\n",
       "      <td>0</td>\n",
       "      <td>NO CLASS</td>\n",
       "    </tr>\n",
       "    <tr>\n",
       "      <th>1</th>\n",
       "      <td>Broadleaved High Forest</td>\n",
       "      <td>C1</td>\n",
       "      <td>C</td>\n",
       "      <td>Wood and Forest Land</td>\n",
       "    </tr>\n",
       "    <tr>\n",
       "      <th>2</th>\n",
       "      <td>Coniferous High Forest</td>\n",
       "      <td>C2</td>\n",
       "      <td>C</td>\n",
       "      <td>Wood and Forest Land</td>\n",
       "    </tr>\n",
       "    <tr>\n",
       "      <th>3</th>\n",
       "      <td>Mixed High Forest</td>\n",
       "      <td>C3</td>\n",
       "      <td>C</td>\n",
       "      <td>Wood and Forest Land</td>\n",
       "    </tr>\n",
       "    <tr>\n",
       "      <th>4</th>\n",
       "      <td>Scrub</td>\n",
       "      <td>C4a</td>\n",
       "      <td>C</td>\n",
       "      <td>Wood and Forest Land</td>\n",
       "    </tr>\n",
       "  </tbody>\n",
       "</table>\n",
       "</div>"
      ],
      "text/plain": [
       "          description_2022 code_2022 main_class_code      main_description\n",
       "0                 NO CLASS         0               0              NO CLASS\n",
       "1  Broadleaved High Forest        C1               C  Wood and Forest Land\n",
       "2   Coniferous High Forest        C2               C  Wood and Forest Land\n",
       "3        Mixed High Forest        C3               C  Wood and Forest Land\n",
       "4                    Scrub       C4a               C  Wood and Forest Land"
      ]
     },
     "execution_count": 26,
     "metadata": {},
     "output_type": "execute_result"
    }
   ],
   "source": [
    "df_schema.head(5)"
   ]
  },
  {
   "cell_type": "code",
   "execution_count": 33,
   "metadata": {},
   "outputs": [],
   "source": [
    "data_plot = {'child': [], 'parents': [], 'values': []}\n",
    "value_size = 2\n",
    "for ii in range(len(df_schema)):\n",
    "    code = df_schema['code_2022'].iloc[ii]\n",
    "    if code == '0' or code in classes_ignore:\n",
    "        continue\n",
    "    if len(code) == 1:\n",
    "        data_plot['child'].append(code)\n",
    "        data_plot['parents'].append('LC schema')\n",
    "        if code == 'I':\n",
    "            data_plot['values'].append(value_size)\n",
    "        else:\n",
    "            data_plot['values'].append(0) \n",
    "    elif len(code) == 2:\n",
    "        data_plot['child'].append(code)\n",
    "        # data_plot['parents'].append(mapping_dict_to_full[code[0]])\n",
    "        data_plot['parents'].append(code[0])\n",
    "        data_plot['values'].append(value_size)\n",
    "    elif len(code) == 3:\n",
    "        data_plot['child'].append(code)\n",
    "        data_plot['parents'].append(code[:2])\n",
    "        data_plot['values'].append(value_size)\n",
    "\n",
    "        if code[:2] not in data_plot['child']:\n",
    "            data_plot['child'].append(code[:2])\n",
    "            data_plot['parents'].append(code[0])\n",
    "            # data_plot['parents'].append(mapping_dict_to_full[code[0]])\n",
    "            data_plot['values'].append(0)\n",
    "\n",
    "list_low_level = list(set([x[0] for x in data_plot['child']]))\n",
    "list_low_level.sort()\n",
    "for low_level in list_low_level:\n",
    "    if low_level not in data_plot['child']:\n",
    "        data_plot['child'].append(low_level)\n",
    "        # data_plot['child'].append(mapping_dict_to_full[low_level])\n",
    "        data_plot['parents'].append('LC schema')\n",
    "        data_plot['values'].append(0)"
   ]
  },
  {
   "cell_type": "code",
   "execution_count": 38,
   "metadata": {},
   "outputs": [],
   "source": [
    "data_plot['colour'] = []\n",
    "colour_dict = {\n",
    "                'Main-class classifier': '#381537',\n",
    "                'C classifier': '#0e8212',\n",
    "                'D classifier': '#a33b1a',\n",
    "                'E classifier': '#465E85',\n",
    "                'Post-processing': '#333333',\n",
    "                'OS NGD': '#cceeaa',\n",
    "                'Not estimated': '#cccccc'\n",
    "                }\n",
    "\n",
    "for ii, child in enumerate(data_plot['child']):\n",
    "    if child in ['F3', 'F', 'E1', 'I', 'D7', 'E2', 'G', 'G2', 'H', 'H1', 'H2', 'H3']:\n",
    "        data_plot['colour'].append(colour_dict['Not estimated'])\n",
    "    elif child in ['D2b', 'D2d', 'C4a', 'C4b', 'C4c', 'D6a', 'D6b', 'D6c']:\n",
    "        data_plot['colour'].append(colour_dict['Post-processing'])\n",
    "    elif child[0] in ['G', 'H'] or child == 'F2':\n",
    "        data_plot['colour'].append(colour_dict['OS NGD'])\n",
    "    elif child == 'F3a':\n",
    "        data_plot['colour'].append(colour_dict['E classifier'])\n",
    "    elif child == 'F3d':\n",
    "        data_plot['colour'].append(colour_dict['D classifier'])\n",
    "    elif child in ['C', 'D', 'E']:\n",
    "        data_plot['colour'].append(colour_dict['Main-class classifier'])\n",
    "    elif child[0] == 'C':\n",
    "        data_plot['colour'].append(colour_dict['C classifier'])\n",
    "    elif child[0] == 'D':\n",
    "        data_plot['colour'].append(colour_dict['D classifier'])\n",
    "    elif child[0] == 'E':\n",
    "        data_plot['colour'].append(colour_dict['E classifier'])\n",
    "    else:\n",
    "        assert False, f'Colour not defined for {child}'\n",
    "\n",
    "color_map_dict = dict(zip(data_plot['colour'], data_plot['colour']))"
   ]
  },
  {
   "attachments": {},
   "cell_type": "markdown",
   "metadata": {},
   "source": [
    "## Annotate label names?\n",
    "https://stackoverflow.com/questions/70129355/value-annotations-around-plotly-sunburst-diagram\n",
    "\n",
    "- Or merge with a CNN diagram:\n",
    "FLTR:\n",
    "- RGB image\n",
    "- Box: main classifier (purple) into C/D/E\n",
    "- 3 boxes: 3 classifiers (colours) into sub classes\n",
    "- Box: post-processing\n",
    "- Box: Add OS NGD \n",
    "-"
   ]
  },
  {
   "cell_type": "code",
   "execution_count": 39,
   "metadata": {},
   "outputs": [
    {
     "data": {
      "application/vnd.plotly.v1+json": {
       "config": {
        "plotlyServerURL": "https://plot.ly"
       },
       "data": [
        {
         "domain": {
          "x": [
           0,
           1
          ],
          "y": [
           0,
           1
          ]
         },
         "hovertemplate": "child=%{label}<br>value=%{value}<br>parent=%{parent}<extra></extra>",
         "labels": [
          "C1",
          "C2",
          "C3",
          "C4a",
          "C4",
          "C4b",
          "C4c",
          "C5",
          "D1",
          "D2b",
          "D2",
          "D2d",
          "D3",
          "D6a",
          "D6",
          "D6b",
          "D6c",
          "D7a",
          "D7",
          "D7b",
          "E1",
          "E2a",
          "E2",
          "E2b",
          "F2",
          "F3a",
          "F3",
          "F3d",
          "G2a",
          "G2",
          "H1a",
          "H1",
          "H1b",
          "H1c",
          "H1d",
          "H2a",
          "H2",
          "H2b",
          "H3a",
          "H3",
          "H3b",
          "I",
          "C",
          "D",
          "E",
          "F",
          "G",
          "H"
         ],
         "leaf": {
          "opacity": 1
         },
         "marker": {
          "colors": [
           "#0e8212",
           "#0e8212",
           "#0e8212",
           "#333333",
           "#0e8212",
           "#333333",
           "#333333",
           "#0e8212",
           "#a33b1a",
           "#333333",
           "#a33b1a",
           "#333333",
           "#a33b1a",
           "#333333",
           "#a33b1a",
           "#333333",
           "#333333",
           "#a33b1a",
           "#cccccc",
           "#a33b1a",
           "#cccccc",
           "#465E85",
           "#cccccc",
           "#465E85",
           "#cceeaa",
           "#465E85",
           "#cccccc",
           "#a33b1a",
           "#cceeaa",
           "#cccccc",
           "#cceeaa",
           "#cccccc",
           "#cceeaa",
           "#cceeaa",
           "#cceeaa",
           "#cceeaa",
           "#cccccc",
           "#cceeaa",
           "#cceeaa",
           "#cccccc",
           "#cceeaa",
           "#cccccc",
           "#381537",
           "#381537",
           "#381537",
           "#cccccc",
           "#cccccc",
           "#cccccc"
          ]
         },
         "name": "",
         "parents": [
          "C",
          "C",
          "C",
          "C4",
          "C",
          "C4",
          "C4",
          "C",
          "D",
          "D2",
          "D",
          "D2",
          "D",
          "D6",
          "D",
          "D6",
          "D6",
          "D7",
          "D",
          "D7",
          "E",
          "E2",
          "E",
          "E2",
          "F",
          "F3",
          "F",
          "F3",
          "G2",
          "G",
          "H1",
          "H",
          "H1",
          "H1",
          "H1",
          "H2",
          "H",
          "H2",
          "H3",
          "H",
          "H3",
          "LC schema",
          "LC schema",
          "LC schema",
          "LC schema",
          "LC schema",
          "LC schema",
          "LC schema"
         ],
         "sort": false,
         "type": "sunburst",
         "values": [
          2,
          2,
          2,
          2,
          0,
          2,
          2,
          2,
          2,
          2,
          0,
          2,
          2,
          2,
          0,
          2,
          2,
          2,
          0,
          2,
          2,
          2,
          0,
          2,
          2,
          2,
          0,
          2,
          2,
          0,
          2,
          0,
          2,
          2,
          2,
          2,
          0,
          2,
          2,
          0,
          2,
          2,
          0,
          0,
          0,
          0,
          0,
          0
         ]
        },
        {
         "marker": {
          "color": "#381537",
          "size": 10
         },
         "mode": "markers",
         "name": "Main-class classifier",
         "type": "scatter",
         "x": [
          null
         ],
         "y": [
          null
         ]
        },
        {
         "marker": {
          "color": "#0e8212",
          "size": 10
         },
         "mode": "markers",
         "name": "C classifier",
         "type": "scatter",
         "x": [
          null
         ],
         "y": [
          null
         ]
        },
        {
         "marker": {
          "color": "#a33b1a",
          "size": 10
         },
         "mode": "markers",
         "name": "D classifier",
         "type": "scatter",
         "x": [
          null
         ],
         "y": [
          null
         ]
        },
        {
         "marker": {
          "color": "#465E85",
          "size": 10
         },
         "mode": "markers",
         "name": "E classifier",
         "type": "scatter",
         "x": [
          null
         ],
         "y": [
          null
         ]
        },
        {
         "marker": {
          "color": "#333333",
          "size": 10
         },
         "mode": "markers",
         "name": "Post-processing",
         "type": "scatter",
         "x": [
          null
         ],
         "y": [
          null
         ]
        },
        {
         "marker": {
          "color": "#cceeaa",
          "size": 10
         },
         "mode": "markers",
         "name": "OS NGD",
         "type": "scatter",
         "x": [
          null
         ],
         "y": [
          null
         ]
        },
        {
         "marker": {
          "color": "#cccccc",
          "size": 10
         },
         "mode": "markers",
         "name": "Not estimated",
         "type": "scatter",
         "x": [
          null
         ],
         "y": [
          null
         ]
        }
       ],
       "layout": {
        "legend": {
         "tracegroupgap": 0
        },
        "margin": {
         "t": 60
        },
        "paper_bgcolor": "rgba(255, 255, 255,255)",
        "plot_bgcolor": "rgba(255, 255, 255, 255)",
        "template": {
         "data": {
          "bar": [
           {
            "error_x": {
             "color": "#2a3f5f"
            },
            "error_y": {
             "color": "#2a3f5f"
            },
            "marker": {
             "line": {
              "color": "#E5ECF6",
              "width": 0.5
             },
             "pattern": {
              "fillmode": "overlay",
              "size": 10,
              "solidity": 0.2
             }
            },
            "type": "bar"
           }
          ],
          "barpolar": [
           {
            "marker": {
             "line": {
              "color": "#E5ECF6",
              "width": 0.5
             },
             "pattern": {
              "fillmode": "overlay",
              "size": 10,
              "solidity": 0.2
             }
            },
            "type": "barpolar"
           }
          ],
          "carpet": [
           {
            "aaxis": {
             "endlinecolor": "#2a3f5f",
             "gridcolor": "white",
             "linecolor": "white",
             "minorgridcolor": "white",
             "startlinecolor": "#2a3f5f"
            },
            "baxis": {
             "endlinecolor": "#2a3f5f",
             "gridcolor": "white",
             "linecolor": "white",
             "minorgridcolor": "white",
             "startlinecolor": "#2a3f5f"
            },
            "type": "carpet"
           }
          ],
          "choropleth": [
           {
            "colorbar": {
             "outlinewidth": 0,
             "ticks": ""
            },
            "type": "choropleth"
           }
          ],
          "contour": [
           {
            "colorbar": {
             "outlinewidth": 0,
             "ticks": ""
            },
            "colorscale": [
             [
              0,
              "#0d0887"
             ],
             [
              0.1111111111111111,
              "#46039f"
             ],
             [
              0.2222222222222222,
              "#7201a8"
             ],
             [
              0.3333333333333333,
              "#9c179e"
             ],
             [
              0.4444444444444444,
              "#bd3786"
             ],
             [
              0.5555555555555556,
              "#d8576b"
             ],
             [
              0.6666666666666666,
              "#ed7953"
             ],
             [
              0.7777777777777778,
              "#fb9f3a"
             ],
             [
              0.8888888888888888,
              "#fdca26"
             ],
             [
              1,
              "#f0f921"
             ]
            ],
            "type": "contour"
           }
          ],
          "contourcarpet": [
           {
            "colorbar": {
             "outlinewidth": 0,
             "ticks": ""
            },
            "type": "contourcarpet"
           }
          ],
          "heatmap": [
           {
            "colorbar": {
             "outlinewidth": 0,
             "ticks": ""
            },
            "colorscale": [
             [
              0,
              "#0d0887"
             ],
             [
              0.1111111111111111,
              "#46039f"
             ],
             [
              0.2222222222222222,
              "#7201a8"
             ],
             [
              0.3333333333333333,
              "#9c179e"
             ],
             [
              0.4444444444444444,
              "#bd3786"
             ],
             [
              0.5555555555555556,
              "#d8576b"
             ],
             [
              0.6666666666666666,
              "#ed7953"
             ],
             [
              0.7777777777777778,
              "#fb9f3a"
             ],
             [
              0.8888888888888888,
              "#fdca26"
             ],
             [
              1,
              "#f0f921"
             ]
            ],
            "type": "heatmap"
           }
          ],
          "heatmapgl": [
           {
            "colorbar": {
             "outlinewidth": 0,
             "ticks": ""
            },
            "colorscale": [
             [
              0,
              "#0d0887"
             ],
             [
              0.1111111111111111,
              "#46039f"
             ],
             [
              0.2222222222222222,
              "#7201a8"
             ],
             [
              0.3333333333333333,
              "#9c179e"
             ],
             [
              0.4444444444444444,
              "#bd3786"
             ],
             [
              0.5555555555555556,
              "#d8576b"
             ],
             [
              0.6666666666666666,
              "#ed7953"
             ],
             [
              0.7777777777777778,
              "#fb9f3a"
             ],
             [
              0.8888888888888888,
              "#fdca26"
             ],
             [
              1,
              "#f0f921"
             ]
            ],
            "type": "heatmapgl"
           }
          ],
          "histogram": [
           {
            "marker": {
             "pattern": {
              "fillmode": "overlay",
              "size": 10,
              "solidity": 0.2
             }
            },
            "type": "histogram"
           }
          ],
          "histogram2d": [
           {
            "colorbar": {
             "outlinewidth": 0,
             "ticks": ""
            },
            "colorscale": [
             [
              0,
              "#0d0887"
             ],
             [
              0.1111111111111111,
              "#46039f"
             ],
             [
              0.2222222222222222,
              "#7201a8"
             ],
             [
              0.3333333333333333,
              "#9c179e"
             ],
             [
              0.4444444444444444,
              "#bd3786"
             ],
             [
              0.5555555555555556,
              "#d8576b"
             ],
             [
              0.6666666666666666,
              "#ed7953"
             ],
             [
              0.7777777777777778,
              "#fb9f3a"
             ],
             [
              0.8888888888888888,
              "#fdca26"
             ],
             [
              1,
              "#f0f921"
             ]
            ],
            "type": "histogram2d"
           }
          ],
          "histogram2dcontour": [
           {
            "colorbar": {
             "outlinewidth": 0,
             "ticks": ""
            },
            "colorscale": [
             [
              0,
              "#0d0887"
             ],
             [
              0.1111111111111111,
              "#46039f"
             ],
             [
              0.2222222222222222,
              "#7201a8"
             ],
             [
              0.3333333333333333,
              "#9c179e"
             ],
             [
              0.4444444444444444,
              "#bd3786"
             ],
             [
              0.5555555555555556,
              "#d8576b"
             ],
             [
              0.6666666666666666,
              "#ed7953"
             ],
             [
              0.7777777777777778,
              "#fb9f3a"
             ],
             [
              0.8888888888888888,
              "#fdca26"
             ],
             [
              1,
              "#f0f921"
             ]
            ],
            "type": "histogram2dcontour"
           }
          ],
          "mesh3d": [
           {
            "colorbar": {
             "outlinewidth": 0,
             "ticks": ""
            },
            "type": "mesh3d"
           }
          ],
          "parcoords": [
           {
            "line": {
             "colorbar": {
              "outlinewidth": 0,
              "ticks": ""
             }
            },
            "type": "parcoords"
           }
          ],
          "pie": [
           {
            "automargin": true,
            "type": "pie"
           }
          ],
          "scatter": [
           {
            "fillpattern": {
             "fillmode": "overlay",
             "size": 10,
             "solidity": 0.2
            },
            "type": "scatter"
           }
          ],
          "scatter3d": [
           {
            "line": {
             "colorbar": {
              "outlinewidth": 0,
              "ticks": ""
             }
            },
            "marker": {
             "colorbar": {
              "outlinewidth": 0,
              "ticks": ""
             }
            },
            "type": "scatter3d"
           }
          ],
          "scattercarpet": [
           {
            "marker": {
             "colorbar": {
              "outlinewidth": 0,
              "ticks": ""
             }
            },
            "type": "scattercarpet"
           }
          ],
          "scattergeo": [
           {
            "marker": {
             "colorbar": {
              "outlinewidth": 0,
              "ticks": ""
             }
            },
            "type": "scattergeo"
           }
          ],
          "scattergl": [
           {
            "marker": {
             "colorbar": {
              "outlinewidth": 0,
              "ticks": ""
             }
            },
            "type": "scattergl"
           }
          ],
          "scattermapbox": [
           {
            "marker": {
             "colorbar": {
              "outlinewidth": 0,
              "ticks": ""
             }
            },
            "type": "scattermapbox"
           }
          ],
          "scatterpolar": [
           {
            "marker": {
             "colorbar": {
              "outlinewidth": 0,
              "ticks": ""
             }
            },
            "type": "scatterpolar"
           }
          ],
          "scatterpolargl": [
           {
            "marker": {
             "colorbar": {
              "outlinewidth": 0,
              "ticks": ""
             }
            },
            "type": "scatterpolargl"
           }
          ],
          "scatterternary": [
           {
            "marker": {
             "colorbar": {
              "outlinewidth": 0,
              "ticks": ""
             }
            },
            "type": "scatterternary"
           }
          ],
          "surface": [
           {
            "colorbar": {
             "outlinewidth": 0,
             "ticks": ""
            },
            "colorscale": [
             [
              0,
              "#0d0887"
             ],
             [
              0.1111111111111111,
              "#46039f"
             ],
             [
              0.2222222222222222,
              "#7201a8"
             ],
             [
              0.3333333333333333,
              "#9c179e"
             ],
             [
              0.4444444444444444,
              "#bd3786"
             ],
             [
              0.5555555555555556,
              "#d8576b"
             ],
             [
              0.6666666666666666,
              "#ed7953"
             ],
             [
              0.7777777777777778,
              "#fb9f3a"
             ],
             [
              0.8888888888888888,
              "#fdca26"
             ],
             [
              1,
              "#f0f921"
             ]
            ],
            "type": "surface"
           }
          ],
          "table": [
           {
            "cells": {
             "fill": {
              "color": "#EBF0F8"
             },
             "line": {
              "color": "white"
             }
            },
            "header": {
             "fill": {
              "color": "#C8D4E3"
             },
             "line": {
              "color": "white"
             }
            },
            "type": "table"
           }
          ]
         },
         "layout": {
          "annotationdefaults": {
           "arrowcolor": "#2a3f5f",
           "arrowhead": 0,
           "arrowwidth": 1
          },
          "autotypenumbers": "strict",
          "coloraxis": {
           "colorbar": {
            "outlinewidth": 0,
            "ticks": ""
           }
          },
          "colorscale": {
           "diverging": [
            [
             0,
             "#8e0152"
            ],
            [
             0.1,
             "#c51b7d"
            ],
            [
             0.2,
             "#de77ae"
            ],
            [
             0.3,
             "#f1b6da"
            ],
            [
             0.4,
             "#fde0ef"
            ],
            [
             0.5,
             "#f7f7f7"
            ],
            [
             0.6,
             "#e6f5d0"
            ],
            [
             0.7,
             "#b8e186"
            ],
            [
             0.8,
             "#7fbc41"
            ],
            [
             0.9,
             "#4d9221"
            ],
            [
             1,
             "#276419"
            ]
           ],
           "sequential": [
            [
             0,
             "#0d0887"
            ],
            [
             0.1111111111111111,
             "#46039f"
            ],
            [
             0.2222222222222222,
             "#7201a8"
            ],
            [
             0.3333333333333333,
             "#9c179e"
            ],
            [
             0.4444444444444444,
             "#bd3786"
            ],
            [
             0.5555555555555556,
             "#d8576b"
            ],
            [
             0.6666666666666666,
             "#ed7953"
            ],
            [
             0.7777777777777778,
             "#fb9f3a"
            ],
            [
             0.8888888888888888,
             "#fdca26"
            ],
            [
             1,
             "#f0f921"
            ]
           ],
           "sequentialminus": [
            [
             0,
             "#0d0887"
            ],
            [
             0.1111111111111111,
             "#46039f"
            ],
            [
             0.2222222222222222,
             "#7201a8"
            ],
            [
             0.3333333333333333,
             "#9c179e"
            ],
            [
             0.4444444444444444,
             "#bd3786"
            ],
            [
             0.5555555555555556,
             "#d8576b"
            ],
            [
             0.6666666666666666,
             "#ed7953"
            ],
            [
             0.7777777777777778,
             "#fb9f3a"
            ],
            [
             0.8888888888888888,
             "#fdca26"
            ],
            [
             1,
             "#f0f921"
            ]
           ]
          },
          "colorway": [
           "#636efa",
           "#EF553B",
           "#00cc96",
           "#ab63fa",
           "#FFA15A",
           "#19d3f3",
           "#FF6692",
           "#B6E880",
           "#FF97FF",
           "#FECB52"
          ],
          "font": {
           "color": "#2a3f5f"
          },
          "geo": {
           "bgcolor": "white",
           "lakecolor": "white",
           "landcolor": "#E5ECF6",
           "showlakes": true,
           "showland": true,
           "subunitcolor": "white"
          },
          "hoverlabel": {
           "align": "left"
          },
          "hovermode": "closest",
          "mapbox": {
           "style": "light"
          },
          "paper_bgcolor": "white",
          "plot_bgcolor": "#E5ECF6",
          "polar": {
           "angularaxis": {
            "gridcolor": "white",
            "linecolor": "white",
            "ticks": ""
           },
           "bgcolor": "#E5ECF6",
           "radialaxis": {
            "gridcolor": "white",
            "linecolor": "white",
            "ticks": ""
           }
          },
          "scene": {
           "xaxis": {
            "backgroundcolor": "#E5ECF6",
            "gridcolor": "white",
            "gridwidth": 2,
            "linecolor": "white",
            "showbackground": true,
            "ticks": "",
            "zerolinecolor": "white"
           },
           "yaxis": {
            "backgroundcolor": "#E5ECF6",
            "gridcolor": "white",
            "gridwidth": 2,
            "linecolor": "white",
            "showbackground": true,
            "ticks": "",
            "zerolinecolor": "white"
           },
           "zaxis": {
            "backgroundcolor": "#E5ECF6",
            "gridcolor": "white",
            "gridwidth": 2,
            "linecolor": "white",
            "showbackground": true,
            "ticks": "",
            "zerolinecolor": "white"
           }
          },
          "shapedefaults": {
           "line": {
            "color": "#2a3f5f"
           }
          },
          "ternary": {
           "aaxis": {
            "gridcolor": "white",
            "linecolor": "white",
            "ticks": ""
           },
           "baxis": {
            "gridcolor": "white",
            "linecolor": "white",
            "ticks": ""
           },
           "bgcolor": "#E5ECF6",
           "caxis": {
            "gridcolor": "white",
            "linecolor": "white",
            "ticks": ""
           }
          },
          "title": {
           "x": 0.05
          },
          "xaxis": {
           "automargin": true,
           "gridcolor": "white",
           "linecolor": "white",
           "ticks": "",
           "title": {
            "standoff": 15
           },
           "zerolinecolor": "white",
           "zerolinewidth": 2
          },
          "yaxis": {
           "automargin": true,
           "gridcolor": "white",
           "linecolor": "white",
           "ticks": "",
           "title": {
            "standoff": 15
           },
           "zerolinecolor": "white",
           "zerolinewidth": 2
          }
         }
        },
        "xaxis": {
         "range": [
          1,
          4
         ],
         "tickfont": {
          "color": "rgba(0,0,0,0)"
         }
        },
        "yaxis": {
         "tickfont": {
          "color": "rgba(0,0,0,0)"
         }
        }
       }
      },
      "text/html": [
       "<div>                            <div id=\"39ea2086-f65e-4609-9b1a-dab03e4ffd28\" class=\"plotly-graph-div\" style=\"height:525px; width:100%;\"></div>            <script type=\"text/javascript\">                require([\"plotly\"], function(Plotly) {                    window.PLOTLYENV=window.PLOTLYENV || {};                                    if (document.getElementById(\"39ea2086-f65e-4609-9b1a-dab03e4ffd28\")) {                    Plotly.newPlot(                        \"39ea2086-f65e-4609-9b1a-dab03e4ffd28\",                        [{\"domain\":{\"x\":[0.0,1.0],\"y\":[0.0,1.0]},\"hovertemplate\":\"child=%{label}<br>value=%{value}<br>parent=%{parent}<extra></extra>\",\"labels\":[\"C1\",\"C2\",\"C3\",\"C4a\",\"C4\",\"C4b\",\"C4c\",\"C5\",\"D1\",\"D2b\",\"D2\",\"D2d\",\"D3\",\"D6a\",\"D6\",\"D6b\",\"D6c\",\"D7a\",\"D7\",\"D7b\",\"E1\",\"E2a\",\"E2\",\"E2b\",\"F2\",\"F3a\",\"F3\",\"F3d\",\"G2a\",\"G2\",\"H1a\",\"H1\",\"H1b\",\"H1c\",\"H1d\",\"H2a\",\"H2\",\"H2b\",\"H3a\",\"H3\",\"H3b\",\"I\",\"C\",\"D\",\"E\",\"F\",\"G\",\"H\"],\"marker\":{\"colors\":[\"#0e8212\",\"#0e8212\",\"#0e8212\",\"#333333\",\"#0e8212\",\"#333333\",\"#333333\",\"#0e8212\",\"#a33b1a\",\"#333333\",\"#a33b1a\",\"#333333\",\"#a33b1a\",\"#333333\",\"#a33b1a\",\"#333333\",\"#333333\",\"#a33b1a\",\"#cccccc\",\"#a33b1a\",\"#cccccc\",\"#465E85\",\"#cccccc\",\"#465E85\",\"#cceeaa\",\"#465E85\",\"#cccccc\",\"#a33b1a\",\"#cceeaa\",\"#cccccc\",\"#cceeaa\",\"#cccccc\",\"#cceeaa\",\"#cceeaa\",\"#cceeaa\",\"#cceeaa\",\"#cccccc\",\"#cceeaa\",\"#cceeaa\",\"#cccccc\",\"#cceeaa\",\"#cccccc\",\"#381537\",\"#381537\",\"#381537\",\"#cccccc\",\"#cccccc\",\"#cccccc\"]},\"name\":\"\",\"parents\":[\"C\",\"C\",\"C\",\"C4\",\"C\",\"C4\",\"C4\",\"C\",\"D\",\"D2\",\"D\",\"D2\",\"D\",\"D6\",\"D\",\"D6\",\"D6\",\"D7\",\"D\",\"D7\",\"E\",\"E2\",\"E\",\"E2\",\"F\",\"F3\",\"F\",\"F3\",\"G2\",\"G\",\"H1\",\"H\",\"H1\",\"H1\",\"H1\",\"H2\",\"H\",\"H2\",\"H3\",\"H\",\"H3\",\"LC schema\",\"LC schema\",\"LC schema\",\"LC schema\",\"LC schema\",\"LC schema\",\"LC schema\"],\"values\":[2,2,2,2,0,2,2,2,2,2,0,2,2,2,0,2,2,2,0,2,2,2,0,2,2,2,0,2,2,0,2,0,2,2,2,2,0,2,2,0,2,2,0,0,0,0,0,0],\"type\":\"sunburst\",\"leaf\":{\"opacity\":1},\"sort\":false},{\"marker\":{\"color\":\"#381537\",\"size\":10},\"mode\":\"markers\",\"name\":\"Main-class classifier\",\"x\":[null],\"y\":[null],\"type\":\"scatter\"},{\"marker\":{\"color\":\"#0e8212\",\"size\":10},\"mode\":\"markers\",\"name\":\"C classifier\",\"x\":[null],\"y\":[null],\"type\":\"scatter\"},{\"marker\":{\"color\":\"#a33b1a\",\"size\":10},\"mode\":\"markers\",\"name\":\"D classifier\",\"x\":[null],\"y\":[null],\"type\":\"scatter\"},{\"marker\":{\"color\":\"#465E85\",\"size\":10},\"mode\":\"markers\",\"name\":\"E classifier\",\"x\":[null],\"y\":[null],\"type\":\"scatter\"},{\"marker\":{\"color\":\"#333333\",\"size\":10},\"mode\":\"markers\",\"name\":\"Post-processing\",\"x\":[null],\"y\":[null],\"type\":\"scatter\"},{\"marker\":{\"color\":\"#cceeaa\",\"size\":10},\"mode\":\"markers\",\"name\":\"OS NGD\",\"x\":[null],\"y\":[null],\"type\":\"scatter\"},{\"marker\":{\"color\":\"#cccccc\",\"size\":10},\"mode\":\"markers\",\"name\":\"Not estimated\",\"x\":[null],\"y\":[null],\"type\":\"scatter\"}],                        {\"template\":{\"data\":{\"histogram2dcontour\":[{\"type\":\"histogram2dcontour\",\"colorbar\":{\"outlinewidth\":0,\"ticks\":\"\"},\"colorscale\":[[0.0,\"#0d0887\"],[0.1111111111111111,\"#46039f\"],[0.2222222222222222,\"#7201a8\"],[0.3333333333333333,\"#9c179e\"],[0.4444444444444444,\"#bd3786\"],[0.5555555555555556,\"#d8576b\"],[0.6666666666666666,\"#ed7953\"],[0.7777777777777778,\"#fb9f3a\"],[0.8888888888888888,\"#fdca26\"],[1.0,\"#f0f921\"]]}],\"choropleth\":[{\"type\":\"choropleth\",\"colorbar\":{\"outlinewidth\":0,\"ticks\":\"\"}}],\"histogram2d\":[{\"type\":\"histogram2d\",\"colorbar\":{\"outlinewidth\":0,\"ticks\":\"\"},\"colorscale\":[[0.0,\"#0d0887\"],[0.1111111111111111,\"#46039f\"],[0.2222222222222222,\"#7201a8\"],[0.3333333333333333,\"#9c179e\"],[0.4444444444444444,\"#bd3786\"],[0.5555555555555556,\"#d8576b\"],[0.6666666666666666,\"#ed7953\"],[0.7777777777777778,\"#fb9f3a\"],[0.8888888888888888,\"#fdca26\"],[1.0,\"#f0f921\"]]}],\"heatmap\":[{\"type\":\"heatmap\",\"colorbar\":{\"outlinewidth\":0,\"ticks\":\"\"},\"colorscale\":[[0.0,\"#0d0887\"],[0.1111111111111111,\"#46039f\"],[0.2222222222222222,\"#7201a8\"],[0.3333333333333333,\"#9c179e\"],[0.4444444444444444,\"#bd3786\"],[0.5555555555555556,\"#d8576b\"],[0.6666666666666666,\"#ed7953\"],[0.7777777777777778,\"#fb9f3a\"],[0.8888888888888888,\"#fdca26\"],[1.0,\"#f0f921\"]]}],\"heatmapgl\":[{\"type\":\"heatmapgl\",\"colorbar\":{\"outlinewidth\":0,\"ticks\":\"\"},\"colorscale\":[[0.0,\"#0d0887\"],[0.1111111111111111,\"#46039f\"],[0.2222222222222222,\"#7201a8\"],[0.3333333333333333,\"#9c179e\"],[0.4444444444444444,\"#bd3786\"],[0.5555555555555556,\"#d8576b\"],[0.6666666666666666,\"#ed7953\"],[0.7777777777777778,\"#fb9f3a\"],[0.8888888888888888,\"#fdca26\"],[1.0,\"#f0f921\"]]}],\"contourcarpet\":[{\"type\":\"contourcarpet\",\"colorbar\":{\"outlinewidth\":0,\"ticks\":\"\"}}],\"contour\":[{\"type\":\"contour\",\"colorbar\":{\"outlinewidth\":0,\"ticks\":\"\"},\"colorscale\":[[0.0,\"#0d0887\"],[0.1111111111111111,\"#46039f\"],[0.2222222222222222,\"#7201a8\"],[0.3333333333333333,\"#9c179e\"],[0.4444444444444444,\"#bd3786\"],[0.5555555555555556,\"#d8576b\"],[0.6666666666666666,\"#ed7953\"],[0.7777777777777778,\"#fb9f3a\"],[0.8888888888888888,\"#fdca26\"],[1.0,\"#f0f921\"]]}],\"surface\":[{\"type\":\"surface\",\"colorbar\":{\"outlinewidth\":0,\"ticks\":\"\"},\"colorscale\":[[0.0,\"#0d0887\"],[0.1111111111111111,\"#46039f\"],[0.2222222222222222,\"#7201a8\"],[0.3333333333333333,\"#9c179e\"],[0.4444444444444444,\"#bd3786\"],[0.5555555555555556,\"#d8576b\"],[0.6666666666666666,\"#ed7953\"],[0.7777777777777778,\"#fb9f3a\"],[0.8888888888888888,\"#fdca26\"],[1.0,\"#f0f921\"]]}],\"mesh3d\":[{\"type\":\"mesh3d\",\"colorbar\":{\"outlinewidth\":0,\"ticks\":\"\"}}],\"scatter\":[{\"fillpattern\":{\"fillmode\":\"overlay\",\"size\":10,\"solidity\":0.2},\"type\":\"scatter\"}],\"parcoords\":[{\"type\":\"parcoords\",\"line\":{\"colorbar\":{\"outlinewidth\":0,\"ticks\":\"\"}}}],\"scatterpolargl\":[{\"type\":\"scatterpolargl\",\"marker\":{\"colorbar\":{\"outlinewidth\":0,\"ticks\":\"\"}}}],\"bar\":[{\"error_x\":{\"color\":\"#2a3f5f\"},\"error_y\":{\"color\":\"#2a3f5f\"},\"marker\":{\"line\":{\"color\":\"#E5ECF6\",\"width\":0.5},\"pattern\":{\"fillmode\":\"overlay\",\"size\":10,\"solidity\":0.2}},\"type\":\"bar\"}],\"scattergeo\":[{\"type\":\"scattergeo\",\"marker\":{\"colorbar\":{\"outlinewidth\":0,\"ticks\":\"\"}}}],\"scatterpolar\":[{\"type\":\"scatterpolar\",\"marker\":{\"colorbar\":{\"outlinewidth\":0,\"ticks\":\"\"}}}],\"histogram\":[{\"marker\":{\"pattern\":{\"fillmode\":\"overlay\",\"size\":10,\"solidity\":0.2}},\"type\":\"histogram\"}],\"scattergl\":[{\"type\":\"scattergl\",\"marker\":{\"colorbar\":{\"outlinewidth\":0,\"ticks\":\"\"}}}],\"scatter3d\":[{\"type\":\"scatter3d\",\"line\":{\"colorbar\":{\"outlinewidth\":0,\"ticks\":\"\"}},\"marker\":{\"colorbar\":{\"outlinewidth\":0,\"ticks\":\"\"}}}],\"scattermapbox\":[{\"type\":\"scattermapbox\",\"marker\":{\"colorbar\":{\"outlinewidth\":0,\"ticks\":\"\"}}}],\"scatterternary\":[{\"type\":\"scatterternary\",\"marker\":{\"colorbar\":{\"outlinewidth\":0,\"ticks\":\"\"}}}],\"scattercarpet\":[{\"type\":\"scattercarpet\",\"marker\":{\"colorbar\":{\"outlinewidth\":0,\"ticks\":\"\"}}}],\"carpet\":[{\"aaxis\":{\"endlinecolor\":\"#2a3f5f\",\"gridcolor\":\"white\",\"linecolor\":\"white\",\"minorgridcolor\":\"white\",\"startlinecolor\":\"#2a3f5f\"},\"baxis\":{\"endlinecolor\":\"#2a3f5f\",\"gridcolor\":\"white\",\"linecolor\":\"white\",\"minorgridcolor\":\"white\",\"startlinecolor\":\"#2a3f5f\"},\"type\":\"carpet\"}],\"table\":[{\"cells\":{\"fill\":{\"color\":\"#EBF0F8\"},\"line\":{\"color\":\"white\"}},\"header\":{\"fill\":{\"color\":\"#C8D4E3\"},\"line\":{\"color\":\"white\"}},\"type\":\"table\"}],\"barpolar\":[{\"marker\":{\"line\":{\"color\":\"#E5ECF6\",\"width\":0.5},\"pattern\":{\"fillmode\":\"overlay\",\"size\":10,\"solidity\":0.2}},\"type\":\"barpolar\"}],\"pie\":[{\"automargin\":true,\"type\":\"pie\"}]},\"layout\":{\"autotypenumbers\":\"strict\",\"colorway\":[\"#636efa\",\"#EF553B\",\"#00cc96\",\"#ab63fa\",\"#FFA15A\",\"#19d3f3\",\"#FF6692\",\"#B6E880\",\"#FF97FF\",\"#FECB52\"],\"font\":{\"color\":\"#2a3f5f\"},\"hovermode\":\"closest\",\"hoverlabel\":{\"align\":\"left\"},\"paper_bgcolor\":\"white\",\"plot_bgcolor\":\"#E5ECF6\",\"polar\":{\"bgcolor\":\"#E5ECF6\",\"angularaxis\":{\"gridcolor\":\"white\",\"linecolor\":\"white\",\"ticks\":\"\"},\"radialaxis\":{\"gridcolor\":\"white\",\"linecolor\":\"white\",\"ticks\":\"\"}},\"ternary\":{\"bgcolor\":\"#E5ECF6\",\"aaxis\":{\"gridcolor\":\"white\",\"linecolor\":\"white\",\"ticks\":\"\"},\"baxis\":{\"gridcolor\":\"white\",\"linecolor\":\"white\",\"ticks\":\"\"},\"caxis\":{\"gridcolor\":\"white\",\"linecolor\":\"white\",\"ticks\":\"\"}},\"coloraxis\":{\"colorbar\":{\"outlinewidth\":0,\"ticks\":\"\"}},\"colorscale\":{\"sequential\":[[0.0,\"#0d0887\"],[0.1111111111111111,\"#46039f\"],[0.2222222222222222,\"#7201a8\"],[0.3333333333333333,\"#9c179e\"],[0.4444444444444444,\"#bd3786\"],[0.5555555555555556,\"#d8576b\"],[0.6666666666666666,\"#ed7953\"],[0.7777777777777778,\"#fb9f3a\"],[0.8888888888888888,\"#fdca26\"],[1.0,\"#f0f921\"]],\"sequentialminus\":[[0.0,\"#0d0887\"],[0.1111111111111111,\"#46039f\"],[0.2222222222222222,\"#7201a8\"],[0.3333333333333333,\"#9c179e\"],[0.4444444444444444,\"#bd3786\"],[0.5555555555555556,\"#d8576b\"],[0.6666666666666666,\"#ed7953\"],[0.7777777777777778,\"#fb9f3a\"],[0.8888888888888888,\"#fdca26\"],[1.0,\"#f0f921\"]],\"diverging\":[[0,\"#8e0152\"],[0.1,\"#c51b7d\"],[0.2,\"#de77ae\"],[0.3,\"#f1b6da\"],[0.4,\"#fde0ef\"],[0.5,\"#f7f7f7\"],[0.6,\"#e6f5d0\"],[0.7,\"#b8e186\"],[0.8,\"#7fbc41\"],[0.9,\"#4d9221\"],[1,\"#276419\"]]},\"xaxis\":{\"gridcolor\":\"white\",\"linecolor\":\"white\",\"ticks\":\"\",\"title\":{\"standoff\":15},\"zerolinecolor\":\"white\",\"automargin\":true,\"zerolinewidth\":2},\"yaxis\":{\"gridcolor\":\"white\",\"linecolor\":\"white\",\"ticks\":\"\",\"title\":{\"standoff\":15},\"zerolinecolor\":\"white\",\"automargin\":true,\"zerolinewidth\":2},\"scene\":{\"xaxis\":{\"backgroundcolor\":\"#E5ECF6\",\"gridcolor\":\"white\",\"linecolor\":\"white\",\"showbackground\":true,\"ticks\":\"\",\"zerolinecolor\":\"white\",\"gridwidth\":2},\"yaxis\":{\"backgroundcolor\":\"#E5ECF6\",\"gridcolor\":\"white\",\"linecolor\":\"white\",\"showbackground\":true,\"ticks\":\"\",\"zerolinecolor\":\"white\",\"gridwidth\":2},\"zaxis\":{\"backgroundcolor\":\"#E5ECF6\",\"gridcolor\":\"white\",\"linecolor\":\"white\",\"showbackground\":true,\"ticks\":\"\",\"zerolinecolor\":\"white\",\"gridwidth\":2}},\"shapedefaults\":{\"line\":{\"color\":\"#2a3f5f\"}},\"annotationdefaults\":{\"arrowcolor\":\"#2a3f5f\",\"arrowhead\":0,\"arrowwidth\":1},\"geo\":{\"bgcolor\":\"white\",\"landcolor\":\"#E5ECF6\",\"subunitcolor\":\"white\",\"showland\":true,\"showlakes\":true,\"lakecolor\":\"white\"},\"title\":{\"x\":0.05},\"mapbox\":{\"style\":\"light\"}}},\"legend\":{\"tracegroupgap\":0},\"margin\":{\"t\":60},\"paper_bgcolor\":\"rgba(255, 255, 255,255)\",\"plot_bgcolor\":\"rgba(255, 255, 255, 255)\",\"xaxis\":{\"tickfont\":{\"color\":\"rgba(0,0,0,0)\"},\"range\":[1,4]},\"yaxis\":{\"tickfont\":{\"color\":\"rgba(0,0,0,0)\"}}},                        {\"responsive\": true}                    ).then(function(){\n",
       "                            \n",
       "var gd = document.getElementById('39ea2086-f65e-4609-9b1a-dab03e4ffd28');\n",
       "var x = new MutationObserver(function (mutations, observer) {{\n",
       "        var display = window.getComputedStyle(gd).display;\n",
       "        if (!display || display === 'none') {{\n",
       "            console.log([gd, 'removed!']);\n",
       "            Plotly.purge(gd);\n",
       "            observer.disconnect();\n",
       "        }}\n",
       "}});\n",
       "\n",
       "// Listen for the removal of the full notebook cells\n",
       "var notebookContainer = gd.closest('#notebook-container');\n",
       "if (notebookContainer) {{\n",
       "    x.observe(notebookContainer, {childList: true});\n",
       "}}\n",
       "\n",
       "// Listen for the clearing of the current output cell\n",
       "var outputEl = gd.closest('.output');\n",
       "if (outputEl) {{\n",
       "    x.observe(outputEl, {childList: true});\n",
       "}}\n",
       "\n",
       "                        })                };                });            </script>        </div>"
      ]
     },
     "metadata": {},
     "output_type": "display_data"
    }
   ],
   "source": [
    "fig = px.sunburst(data_plot,\n",
    "                  names='child',\n",
    "                  parents='parents',\n",
    "                  values='values',\n",
    "                  color='colour',\n",
    "                  color_discrete_map=color_map_dict)\n",
    "\n",
    "fig.update_traces(sort=False, selector=dict(type='sunburst'),\n",
    "                  leaf=dict(opacity=1))\n",
    "\n",
    "## Add legend\n",
    "for name, col in colour_dict.items():\n",
    "    fig.add_trace(go.Scatter(x=[None], y=[None],\n",
    "                            mode='markers',\n",
    "                            marker=dict(color=col, size=10),\n",
    "                            name=name))\n",
    "    \n",
    "## remove clutter \n",
    "fig.update_layout(paper_bgcolor='rgba(255, 255, 255,255)',\n",
    "                  plot_bgcolor='rgba(255, 255, 255, 255)')\n",
    "fig.update_xaxes(tickfont=dict(color='rgba(0,0,0,0)'), range=[1, 4])\n",
    "fig.update_yaxes(tickfont=dict(color='rgba(0,0,0,0)'))\n",
    "fig.show()"
   ]
  },
  {
   "cell_type": "code",
   "execution_count": null,
   "metadata": {},
   "outputs": [],
   "source": []
  },
  {
   "cell_type": "code",
   "execution_count": null,
   "metadata": {},
   "outputs": [],
   "source": []
  },
  {
   "cell_type": "code",
   "execution_count": null,
   "metadata": {},
   "outputs": [],
   "source": []
  }
 ],
 "metadata": {
  "kernelspec": {
   "display_name": "geo",
   "language": "python",
   "name": "python3"
  },
  "language_info": {
   "codemirror_mode": {
    "name": "ipython",
    "version": 3
   },
   "file_extension": ".py",
   "mimetype": "text/x-python",
   "name": "python",
   "nbconvert_exporter": "python",
   "pygments_lexer": "ipython3",
   "version": "3.7.13"
  },
  "orig_nbformat": 4
 },
 "nbformat": 4,
 "nbformat_minor": 2
}
